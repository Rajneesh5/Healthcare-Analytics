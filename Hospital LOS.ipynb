{
 "cells": [
  {
   "cell_type": "code",
   "execution_count": 263,
   "metadata": {},
   "outputs": [],
   "source": [
    "import numpy as np\n",
    "import pandas as pd\n",
    "import matplotlib.pyplot as plt\n",
    "import seaborn as sns"
   ]
  },
  {
   "cell_type": "code",
   "execution_count": 264,
   "metadata": {},
   "outputs": [],
   "source": [
    "df=pd.read_csv('train.csv')"
   ]
  },
  {
   "cell_type": "code",
   "execution_count": 265,
   "metadata": {},
   "outputs": [
    {
     "data": {
      "text/html": [
       "<div>\n",
       "<style scoped>\n",
       "    .dataframe tbody tr th:only-of-type {\n",
       "        vertical-align: middle;\n",
       "    }\n",
       "\n",
       "    .dataframe tbody tr th {\n",
       "        vertical-align: top;\n",
       "    }\n",
       "\n",
       "    .dataframe thead th {\n",
       "        text-align: right;\n",
       "    }\n",
       "</style>\n",
       "<table border=\"1\" class=\"dataframe\">\n",
       "  <thead>\n",
       "    <tr style=\"text-align: right;\">\n",
       "      <th></th>\n",
       "      <th>Admission_Deposit</th>\n",
       "      <th>Age</th>\n",
       "      <th>Available Extra Rooms in Hospital</th>\n",
       "      <th>Bed Grade</th>\n",
       "      <th>City_Code_Hospital</th>\n",
       "      <th>City_Code_Patient</th>\n",
       "      <th>Department</th>\n",
       "      <th>Hospital_code</th>\n",
       "      <th>Hospital_region_code</th>\n",
       "      <th>Hospital_type_code</th>\n",
       "      <th>Severity of Illness</th>\n",
       "      <th>Stay</th>\n",
       "      <th>Type of Admission</th>\n",
       "      <th>Visitors with Patient</th>\n",
       "      <th>Ward_Facility_Code</th>\n",
       "      <th>Ward_Type</th>\n",
       "      <th>case_id</th>\n",
       "      <th>patientid</th>\n",
       "    </tr>\n",
       "  </thead>\n",
       "  <tbody>\n",
       "    <tr>\n",
       "      <td>0</td>\n",
       "      <td>4911.0</td>\n",
       "      <td>51-60</td>\n",
       "      <td>3</td>\n",
       "      <td>2.0</td>\n",
       "      <td>3</td>\n",
       "      <td>7.0</td>\n",
       "      <td>radiotherapy</td>\n",
       "      <td>8</td>\n",
       "      <td>Z</td>\n",
       "      <td>c</td>\n",
       "      <td>Extreme</td>\n",
       "      <td>0-10</td>\n",
       "      <td>Emergency</td>\n",
       "      <td>2</td>\n",
       "      <td>F</td>\n",
       "      <td>R</td>\n",
       "      <td>1</td>\n",
       "      <td>31397</td>\n",
       "    </tr>\n",
       "    <tr>\n",
       "      <td>1</td>\n",
       "      <td>5954.0</td>\n",
       "      <td>51-60</td>\n",
       "      <td>2</td>\n",
       "      <td>2.0</td>\n",
       "      <td>5</td>\n",
       "      <td>7.0</td>\n",
       "      <td>radiotherapy</td>\n",
       "      <td>2</td>\n",
       "      <td>Z</td>\n",
       "      <td>c</td>\n",
       "      <td>Extreme</td>\n",
       "      <td>41-50</td>\n",
       "      <td>Trauma</td>\n",
       "      <td>2</td>\n",
       "      <td>F</td>\n",
       "      <td>S</td>\n",
       "      <td>2</td>\n",
       "      <td>31397</td>\n",
       "    </tr>\n",
       "    <tr>\n",
       "      <td>2</td>\n",
       "      <td>4745.0</td>\n",
       "      <td>51-60</td>\n",
       "      <td>2</td>\n",
       "      <td>2.0</td>\n",
       "      <td>1</td>\n",
       "      <td>7.0</td>\n",
       "      <td>anesthesia</td>\n",
       "      <td>10</td>\n",
       "      <td>X</td>\n",
       "      <td>e</td>\n",
       "      <td>Extreme</td>\n",
       "      <td>31-40</td>\n",
       "      <td>Trauma</td>\n",
       "      <td>2</td>\n",
       "      <td>E</td>\n",
       "      <td>S</td>\n",
       "      <td>3</td>\n",
       "      <td>31397</td>\n",
       "    </tr>\n",
       "    <tr>\n",
       "      <td>3</td>\n",
       "      <td>7272.0</td>\n",
       "      <td>51-60</td>\n",
       "      <td>2</td>\n",
       "      <td>2.0</td>\n",
       "      <td>2</td>\n",
       "      <td>7.0</td>\n",
       "      <td>radiotherapy</td>\n",
       "      <td>26</td>\n",
       "      <td>Y</td>\n",
       "      <td>b</td>\n",
       "      <td>Extreme</td>\n",
       "      <td>41-50</td>\n",
       "      <td>Trauma</td>\n",
       "      <td>2</td>\n",
       "      <td>D</td>\n",
       "      <td>R</td>\n",
       "      <td>4</td>\n",
       "      <td>31397</td>\n",
       "    </tr>\n",
       "    <tr>\n",
       "      <td>4</td>\n",
       "      <td>5558.0</td>\n",
       "      <td>51-60</td>\n",
       "      <td>2</td>\n",
       "      <td>2.0</td>\n",
       "      <td>2</td>\n",
       "      <td>7.0</td>\n",
       "      <td>radiotherapy</td>\n",
       "      <td>26</td>\n",
       "      <td>Y</td>\n",
       "      <td>b</td>\n",
       "      <td>Extreme</td>\n",
       "      <td>41-50</td>\n",
       "      <td>Trauma</td>\n",
       "      <td>2</td>\n",
       "      <td>D</td>\n",
       "      <td>S</td>\n",
       "      <td>5</td>\n",
       "      <td>31397</td>\n",
       "    </tr>\n",
       "  </tbody>\n",
       "</table>\n",
       "</div>"
      ],
      "text/plain": [
       "   Admission_Deposit    Age  Available Extra Rooms in Hospital  Bed Grade  \\\n",
       "0             4911.0  51-60                                  3        2.0   \n",
       "1             5954.0  51-60                                  2        2.0   \n",
       "2             4745.0  51-60                                  2        2.0   \n",
       "3             7272.0  51-60                                  2        2.0   \n",
       "4             5558.0  51-60                                  2        2.0   \n",
       "\n",
       "   City_Code_Hospital  City_Code_Patient    Department  Hospital_code  \\\n",
       "0                   3                7.0  radiotherapy              8   \n",
       "1                   5                7.0  radiotherapy              2   \n",
       "2                   1                7.0    anesthesia             10   \n",
       "3                   2                7.0  radiotherapy             26   \n",
       "4                   2                7.0  radiotherapy             26   \n",
       "\n",
       "  Hospital_region_code Hospital_type_code Severity of Illness   Stay  \\\n",
       "0                    Z                  c             Extreme   0-10   \n",
       "1                    Z                  c             Extreme  41-50   \n",
       "2                    X                  e             Extreme  31-40   \n",
       "3                    Y                  b             Extreme  41-50   \n",
       "4                    Y                  b             Extreme  41-50   \n",
       "\n",
       "  Type of Admission  Visitors with Patient Ward_Facility_Code Ward_Type  \\\n",
       "0         Emergency                      2                  F         R   \n",
       "1            Trauma                      2                  F         S   \n",
       "2            Trauma                      2                  E         S   \n",
       "3            Trauma                      2                  D         R   \n",
       "4            Trauma                      2                  D         S   \n",
       "\n",
       "   case_id  patientid  \n",
       "0        1      31397  \n",
       "1        2      31397  \n",
       "2        3      31397  \n",
       "3        4      31397  \n",
       "4        5      31397  "
      ]
     },
     "execution_count": 265,
     "metadata": {},
     "output_type": "execute_result"
    }
   ],
   "source": [
    "df_train.head()"
   ]
  },
  {
   "cell_type": "code",
   "execution_count": 266,
   "metadata": {},
   "outputs": [],
   "source": [
    "df1=pd.read_csv('test.csv')"
   ]
  },
  {
   "cell_type": "code",
   "execution_count": 267,
   "metadata": {},
   "outputs": [
    {
     "data": {
      "text/html": [
       "<div>\n",
       "<style scoped>\n",
       "    .dataframe tbody tr th:only-of-type {\n",
       "        vertical-align: middle;\n",
       "    }\n",
       "\n",
       "    .dataframe tbody tr th {\n",
       "        vertical-align: top;\n",
       "    }\n",
       "\n",
       "    .dataframe thead th {\n",
       "        text-align: right;\n",
       "    }\n",
       "</style>\n",
       "<table border=\"1\" class=\"dataframe\">\n",
       "  <thead>\n",
       "    <tr style=\"text-align: right;\">\n",
       "      <th></th>\n",
       "      <th>case_id</th>\n",
       "      <th>Hospital_code</th>\n",
       "      <th>Hospital_type_code</th>\n",
       "      <th>City_Code_Hospital</th>\n",
       "      <th>Hospital_region_code</th>\n",
       "      <th>Available Extra Rooms in Hospital</th>\n",
       "      <th>Department</th>\n",
       "      <th>Ward_Type</th>\n",
       "      <th>Ward_Facility_Code</th>\n",
       "      <th>Bed Grade</th>\n",
       "      <th>patientid</th>\n",
       "      <th>City_Code_Patient</th>\n",
       "      <th>Type of Admission</th>\n",
       "      <th>Severity of Illness</th>\n",
       "      <th>Visitors with Patient</th>\n",
       "      <th>Age</th>\n",
       "      <th>Admission_Deposit</th>\n",
       "    </tr>\n",
       "  </thead>\n",
       "  <tbody>\n",
       "    <tr>\n",
       "      <td>0</td>\n",
       "      <td>318439</td>\n",
       "      <td>21</td>\n",
       "      <td>c</td>\n",
       "      <td>3</td>\n",
       "      <td>Z</td>\n",
       "      <td>3</td>\n",
       "      <td>gynecology</td>\n",
       "      <td>S</td>\n",
       "      <td>A</td>\n",
       "      <td>2.0</td>\n",
       "      <td>17006</td>\n",
       "      <td>2.0</td>\n",
       "      <td>Emergency</td>\n",
       "      <td>Moderate</td>\n",
       "      <td>2</td>\n",
       "      <td>71-80</td>\n",
       "      <td>3095.0</td>\n",
       "    </tr>\n",
       "    <tr>\n",
       "      <td>1</td>\n",
       "      <td>318440</td>\n",
       "      <td>29</td>\n",
       "      <td>a</td>\n",
       "      <td>4</td>\n",
       "      <td>X</td>\n",
       "      <td>2</td>\n",
       "      <td>gynecology</td>\n",
       "      <td>S</td>\n",
       "      <td>F</td>\n",
       "      <td>2.0</td>\n",
       "      <td>17006</td>\n",
       "      <td>2.0</td>\n",
       "      <td>Trauma</td>\n",
       "      <td>Moderate</td>\n",
       "      <td>4</td>\n",
       "      <td>71-80</td>\n",
       "      <td>4018.0</td>\n",
       "    </tr>\n",
       "    <tr>\n",
       "      <td>2</td>\n",
       "      <td>318441</td>\n",
       "      <td>26</td>\n",
       "      <td>b</td>\n",
       "      <td>2</td>\n",
       "      <td>Y</td>\n",
       "      <td>3</td>\n",
       "      <td>gynecology</td>\n",
       "      <td>Q</td>\n",
       "      <td>D</td>\n",
       "      <td>4.0</td>\n",
       "      <td>17006</td>\n",
       "      <td>2.0</td>\n",
       "      <td>Emergency</td>\n",
       "      <td>Moderate</td>\n",
       "      <td>3</td>\n",
       "      <td>71-80</td>\n",
       "      <td>4492.0</td>\n",
       "    </tr>\n",
       "    <tr>\n",
       "      <td>3</td>\n",
       "      <td>318442</td>\n",
       "      <td>6</td>\n",
       "      <td>a</td>\n",
       "      <td>6</td>\n",
       "      <td>X</td>\n",
       "      <td>3</td>\n",
       "      <td>gynecology</td>\n",
       "      <td>Q</td>\n",
       "      <td>F</td>\n",
       "      <td>2.0</td>\n",
       "      <td>17006</td>\n",
       "      <td>2.0</td>\n",
       "      <td>Trauma</td>\n",
       "      <td>Moderate</td>\n",
       "      <td>3</td>\n",
       "      <td>71-80</td>\n",
       "      <td>4173.0</td>\n",
       "    </tr>\n",
       "    <tr>\n",
       "      <td>4</td>\n",
       "      <td>318443</td>\n",
       "      <td>28</td>\n",
       "      <td>b</td>\n",
       "      <td>11</td>\n",
       "      <td>X</td>\n",
       "      <td>2</td>\n",
       "      <td>gynecology</td>\n",
       "      <td>R</td>\n",
       "      <td>F</td>\n",
       "      <td>2.0</td>\n",
       "      <td>17006</td>\n",
       "      <td>2.0</td>\n",
       "      <td>Trauma</td>\n",
       "      <td>Moderate</td>\n",
       "      <td>4</td>\n",
       "      <td>71-80</td>\n",
       "      <td>4161.0</td>\n",
       "    </tr>\n",
       "  </tbody>\n",
       "</table>\n",
       "</div>"
      ],
      "text/plain": [
       "   case_id  Hospital_code Hospital_type_code  City_Code_Hospital  \\\n",
       "0   318439             21                  c                   3   \n",
       "1   318440             29                  a                   4   \n",
       "2   318441             26                  b                   2   \n",
       "3   318442              6                  a                   6   \n",
       "4   318443             28                  b                  11   \n",
       "\n",
       "  Hospital_region_code  Available Extra Rooms in Hospital  Department  \\\n",
       "0                    Z                                  3  gynecology   \n",
       "1                    X                                  2  gynecology   \n",
       "2                    Y                                  3  gynecology   \n",
       "3                    X                                  3  gynecology   \n",
       "4                    X                                  2  gynecology   \n",
       "\n",
       "  Ward_Type Ward_Facility_Code  Bed Grade  patientid  City_Code_Patient  \\\n",
       "0         S                  A        2.0      17006                2.0   \n",
       "1         S                  F        2.0      17006                2.0   \n",
       "2         Q                  D        4.0      17006                2.0   \n",
       "3         Q                  F        2.0      17006                2.0   \n",
       "4         R                  F        2.0      17006                2.0   \n",
       "\n",
       "  Type of Admission Severity of Illness  Visitors with Patient    Age  \\\n",
       "0         Emergency            Moderate                      2  71-80   \n",
       "1            Trauma            Moderate                      4  71-80   \n",
       "2         Emergency            Moderate                      3  71-80   \n",
       "3            Trauma            Moderate                      3  71-80   \n",
       "4            Trauma            Moderate                      4  71-80   \n",
       "\n",
       "   Admission_Deposit  \n",
       "0             3095.0  \n",
       "1             4018.0  \n",
       "2             4492.0  \n",
       "3             4173.0  \n",
       "4             4161.0  "
      ]
     },
     "execution_count": 267,
     "metadata": {},
     "output_type": "execute_result"
    }
   ],
   "source": [
    "df1.head()"
   ]
  },
  {
   "cell_type": "code",
   "execution_count": 268,
   "metadata": {},
   "outputs": [
    {
     "data": {
      "text/html": [
       "<div>\n",
       "<style scoped>\n",
       "    .dataframe tbody tr th:only-of-type {\n",
       "        vertical-align: middle;\n",
       "    }\n",
       "\n",
       "    .dataframe tbody tr th {\n",
       "        vertical-align: top;\n",
       "    }\n",
       "\n",
       "    .dataframe thead th {\n",
       "        text-align: right;\n",
       "    }\n",
       "</style>\n",
       "<table border=\"1\" class=\"dataframe\">\n",
       "  <thead>\n",
       "    <tr style=\"text-align: right;\">\n",
       "      <th></th>\n",
       "      <th>case_id</th>\n",
       "      <th>Hospital_code</th>\n",
       "      <th>Hospital_type_code</th>\n",
       "      <th>City_Code_Hospital</th>\n",
       "      <th>Hospital_region_code</th>\n",
       "      <th>Available Extra Rooms in Hospital</th>\n",
       "      <th>Department</th>\n",
       "      <th>Ward_Type</th>\n",
       "      <th>Ward_Facility_Code</th>\n",
       "      <th>Bed Grade</th>\n",
       "      <th>patientid</th>\n",
       "      <th>City_Code_Patient</th>\n",
       "      <th>Type of Admission</th>\n",
       "      <th>Severity of Illness</th>\n",
       "      <th>Visitors with Patient</th>\n",
       "      <th>Age</th>\n",
       "      <th>Admission_Deposit</th>\n",
       "      <th>Stay</th>\n",
       "    </tr>\n",
       "  </thead>\n",
       "  <tbody>\n",
       "    <tr>\n",
       "      <td>318433</td>\n",
       "      <td>318434</td>\n",
       "      <td>6</td>\n",
       "      <td>a</td>\n",
       "      <td>6</td>\n",
       "      <td>X</td>\n",
       "      <td>3</td>\n",
       "      <td>radiotherapy</td>\n",
       "      <td>Q</td>\n",
       "      <td>F</td>\n",
       "      <td>4.0</td>\n",
       "      <td>86499</td>\n",
       "      <td>23.0</td>\n",
       "      <td>Emergency</td>\n",
       "      <td>Moderate</td>\n",
       "      <td>3</td>\n",
       "      <td>41-50</td>\n",
       "      <td>4144.0</td>\n",
       "      <td>11-20</td>\n",
       "    </tr>\n",
       "    <tr>\n",
       "      <td>318434</td>\n",
       "      <td>318435</td>\n",
       "      <td>24</td>\n",
       "      <td>a</td>\n",
       "      <td>1</td>\n",
       "      <td>X</td>\n",
       "      <td>2</td>\n",
       "      <td>anesthesia</td>\n",
       "      <td>Q</td>\n",
       "      <td>E</td>\n",
       "      <td>4.0</td>\n",
       "      <td>325</td>\n",
       "      <td>8.0</td>\n",
       "      <td>Urgent</td>\n",
       "      <td>Moderate</td>\n",
       "      <td>4</td>\n",
       "      <td>81-90</td>\n",
       "      <td>6699.0</td>\n",
       "      <td>31-40</td>\n",
       "    </tr>\n",
       "    <tr>\n",
       "      <td>318435</td>\n",
       "      <td>318436</td>\n",
       "      <td>7</td>\n",
       "      <td>a</td>\n",
       "      <td>4</td>\n",
       "      <td>X</td>\n",
       "      <td>3</td>\n",
       "      <td>gynecology</td>\n",
       "      <td>R</td>\n",
       "      <td>F</td>\n",
       "      <td>4.0</td>\n",
       "      <td>125235</td>\n",
       "      <td>10.0</td>\n",
       "      <td>Emergency</td>\n",
       "      <td>Minor</td>\n",
       "      <td>3</td>\n",
       "      <td>71-80</td>\n",
       "      <td>4235.0</td>\n",
       "      <td>11-20</td>\n",
       "    </tr>\n",
       "    <tr>\n",
       "      <td>318436</td>\n",
       "      <td>318437</td>\n",
       "      <td>11</td>\n",
       "      <td>b</td>\n",
       "      <td>2</td>\n",
       "      <td>Y</td>\n",
       "      <td>3</td>\n",
       "      <td>anesthesia</td>\n",
       "      <td>Q</td>\n",
       "      <td>D</td>\n",
       "      <td>3.0</td>\n",
       "      <td>91081</td>\n",
       "      <td>8.0</td>\n",
       "      <td>Trauma</td>\n",
       "      <td>Minor</td>\n",
       "      <td>5</td>\n",
       "      <td>11-20</td>\n",
       "      <td>3761.0</td>\n",
       "      <td>11-20</td>\n",
       "    </tr>\n",
       "    <tr>\n",
       "      <td>318437</td>\n",
       "      <td>318438</td>\n",
       "      <td>19</td>\n",
       "      <td>a</td>\n",
       "      <td>7</td>\n",
       "      <td>Y</td>\n",
       "      <td>5</td>\n",
       "      <td>gynecology</td>\n",
       "      <td>Q</td>\n",
       "      <td>C</td>\n",
       "      <td>2.0</td>\n",
       "      <td>21641</td>\n",
       "      <td>8.0</td>\n",
       "      <td>Emergency</td>\n",
       "      <td>Minor</td>\n",
       "      <td>2</td>\n",
       "      <td>11-20</td>\n",
       "      <td>4752.0</td>\n",
       "      <td>0-10</td>\n",
       "    </tr>\n",
       "  </tbody>\n",
       "</table>\n",
       "</div>"
      ],
      "text/plain": [
       "        case_id  Hospital_code Hospital_type_code  City_Code_Hospital  \\\n",
       "318433   318434              6                  a                   6   \n",
       "318434   318435             24                  a                   1   \n",
       "318435   318436              7                  a                   4   \n",
       "318436   318437             11                  b                   2   \n",
       "318437   318438             19                  a                   7   \n",
       "\n",
       "       Hospital_region_code  Available Extra Rooms in Hospital    Department  \\\n",
       "318433                    X                                  3  radiotherapy   \n",
       "318434                    X                                  2    anesthesia   \n",
       "318435                    X                                  3    gynecology   \n",
       "318436                    Y                                  3    anesthesia   \n",
       "318437                    Y                                  5    gynecology   \n",
       "\n",
       "       Ward_Type Ward_Facility_Code  Bed Grade  patientid  City_Code_Patient  \\\n",
       "318433         Q                  F        4.0      86499               23.0   \n",
       "318434         Q                  E        4.0        325                8.0   \n",
       "318435         R                  F        4.0     125235               10.0   \n",
       "318436         Q                  D        3.0      91081                8.0   \n",
       "318437         Q                  C        2.0      21641                8.0   \n",
       "\n",
       "       Type of Admission Severity of Illness  Visitors with Patient    Age  \\\n",
       "318433         Emergency            Moderate                      3  41-50   \n",
       "318434            Urgent            Moderate                      4  81-90   \n",
       "318435         Emergency               Minor                      3  71-80   \n",
       "318436            Trauma               Minor                      5  11-20   \n",
       "318437         Emergency               Minor                      2  11-20   \n",
       "\n",
       "        Admission_Deposit   Stay  \n",
       "318433             4144.0  11-20  \n",
       "318434             6699.0  31-40  \n",
       "318435             4235.0  11-20  \n",
       "318436             3761.0  11-20  \n",
       "318437             4752.0   0-10  "
      ]
     },
     "execution_count": 268,
     "metadata": {},
     "output_type": "execute_result"
    }
   ],
   "source": [
    "df.tail()"
   ]
  },
  {
   "cell_type": "code",
   "execution_count": 269,
   "metadata": {},
   "outputs": [
    {
     "name": "stderr",
     "output_type": "stream",
     "text": [
      "C:\\Users\\Rajneesh\\Anaconda3\\lib\\site-packages\\ipykernel_launcher.py:1: FutureWarning: Sorting because non-concatenation axis is not aligned. A future version\n",
      "of pandas will change to not sort by default.\n",
      "\n",
      "To accept the future behavior, pass 'sort=False'.\n",
      "\n",
      "To retain the current behavior and silence the warning, pass 'sort=True'.\n",
      "\n",
      "  \"\"\"Entry point for launching an IPython kernel.\n"
     ]
    }
   ],
   "source": [
    "df_train=pd.concat([df,df1])"
   ]
  },
  {
   "cell_type": "code",
   "execution_count": 270,
   "metadata": {},
   "outputs": [
    {
     "name": "stdout",
     "output_type": "stream",
     "text": [
      "<class 'pandas.core.frame.DataFrame'>\n",
      "Int64Index: 455495 entries, 0 to 137056\n",
      "Data columns (total 18 columns):\n",
      "Admission_Deposit                    455495 non-null float64\n",
      "Age                                  455495 non-null object\n",
      "Available Extra Rooms in Hospital    455495 non-null int64\n",
      "Bed Grade                            455347 non-null float64\n",
      "City_Code_Hospital                   455495 non-null int64\n",
      "City_Code_Patient                    448806 non-null float64\n",
      "Department                           455495 non-null object\n",
      "Hospital_code                        455495 non-null int64\n",
      "Hospital_region_code                 455495 non-null object\n",
      "Hospital_type_code                   455495 non-null object\n",
      "Severity of Illness                  455495 non-null object\n",
      "Stay                                 318438 non-null object\n",
      "Type of Admission                    455495 non-null object\n",
      "Visitors with Patient                455495 non-null int64\n",
      "Ward_Facility_Code                   455495 non-null object\n",
      "Ward_Type                            455495 non-null object\n",
      "case_id                              455495 non-null int64\n",
      "patientid                            455495 non-null int64\n",
      "dtypes: float64(3), int64(6), object(9)\n",
      "memory usage: 66.0+ MB\n"
     ]
    }
   ],
   "source": [
    "df_train.info()"
   ]
  },
  {
   "cell_type": "code",
   "execution_count": 271,
   "metadata": {},
   "outputs": [
    {
     "data": {
      "text/plain": [
       "Admission_Deposit                         0\n",
       "Age                                       0\n",
       "Available Extra Rooms in Hospital         0\n",
       "Bed Grade                               148\n",
       "City_Code_Hospital                        0\n",
       "City_Code_Patient                      6689\n",
       "Department                                0\n",
       "Hospital_code                             0\n",
       "Hospital_region_code                      0\n",
       "Hospital_type_code                        0\n",
       "Severity of Illness                       0\n",
       "Stay                                 137057\n",
       "Type of Admission                         0\n",
       "Visitors with Patient                     0\n",
       "Ward_Facility_Code                        0\n",
       "Ward_Type                                 0\n",
       "case_id                                   0\n",
       "patientid                                 0\n",
       "dtype: int64"
      ]
     },
     "execution_count": 271,
     "metadata": {},
     "output_type": "execute_result"
    }
   ],
   "source": [
    "df_train.isnull().sum()"
   ]
  },
  {
   "cell_type": "code",
   "execution_count": 272,
   "metadata": {},
   "outputs": [
    {
     "data": {
      "text/plain": [
       "(455495, 18)"
      ]
     },
     "execution_count": 272,
     "metadata": {},
     "output_type": "execute_result"
    }
   ],
   "source": [
    "df_train.shape"
   ]
  },
  {
   "cell_type": "code",
   "execution_count": 273,
   "metadata": {},
   "outputs": [
    {
     "data": {
      "text/plain": [
       "case_id                                 0\n",
       "Hospital_code                           0\n",
       "Hospital_type_code                      0\n",
       "City_Code_Hospital                      0\n",
       "Hospital_region_code                    0\n",
       "Available Extra Rooms in Hospital       0\n",
       "Department                              0\n",
       "Ward_Type                               0\n",
       "Ward_Facility_Code                      0\n",
       "Bed Grade                              35\n",
       "patientid                               0\n",
       "City_Code_Patient                    2157\n",
       "Type of Admission                       0\n",
       "Severity of Illness                     0\n",
       "Visitors with Patient                   0\n",
       "Age                                     0\n",
       "Admission_Deposit                       0\n",
       "dtype: int64"
      ]
     },
     "execution_count": 273,
     "metadata": {},
     "output_type": "execute_result"
    }
   ],
   "source": [
    "df1.isnull().sum()"
   ]
  },
  {
   "cell_type": "code",
   "execution_count": 274,
   "metadata": {},
   "outputs": [
    {
     "data": {
      "text/html": [
       "<div>\n",
       "<style scoped>\n",
       "    .dataframe tbody tr th:only-of-type {\n",
       "        vertical-align: middle;\n",
       "    }\n",
       "\n",
       "    .dataframe tbody tr th {\n",
       "        vertical-align: top;\n",
       "    }\n",
       "\n",
       "    .dataframe thead th {\n",
       "        text-align: right;\n",
       "    }\n",
       "</style>\n",
       "<table border=\"1\" class=\"dataframe\">\n",
       "  <thead>\n",
       "    <tr style=\"text-align: right;\">\n",
       "      <th></th>\n",
       "      <th>count</th>\n",
       "      <th>mean</th>\n",
       "      <th>std</th>\n",
       "      <th>min</th>\n",
       "      <th>25%</th>\n",
       "      <th>50%</th>\n",
       "      <th>75%</th>\n",
       "      <th>max</th>\n",
       "    </tr>\n",
       "  </thead>\n",
       "  <tbody>\n",
       "    <tr>\n",
       "      <td>Admission_Deposit</td>\n",
       "      <td>455495.0</td>\n",
       "      <td>4877.434022</td>\n",
       "      <td>1084.982089</td>\n",
       "      <td>1800.0</td>\n",
       "      <td>4184.0</td>\n",
       "      <td>4738.0</td>\n",
       "      <td>5405.0</td>\n",
       "      <td>11920.0</td>\n",
       "    </tr>\n",
       "    <tr>\n",
       "      <td>Available Extra Rooms in Hospital</td>\n",
       "      <td>455495.0</td>\n",
       "      <td>3.196140</td>\n",
       "      <td>1.166994</td>\n",
       "      <td>0.0</td>\n",
       "      <td>2.0</td>\n",
       "      <td>3.0</td>\n",
       "      <td>4.0</td>\n",
       "      <td>24.0</td>\n",
       "    </tr>\n",
       "    <tr>\n",
       "      <td>Bed Grade</td>\n",
       "      <td>455347.0</td>\n",
       "      <td>2.628420</td>\n",
       "      <td>0.871997</td>\n",
       "      <td>1.0</td>\n",
       "      <td>2.0</td>\n",
       "      <td>3.0</td>\n",
       "      <td>3.0</td>\n",
       "      <td>4.0</td>\n",
       "    </tr>\n",
       "    <tr>\n",
       "      <td>City_Code_Hospital</td>\n",
       "      <td>455495.0</td>\n",
       "      <td>4.767798</td>\n",
       "      <td>3.102450</td>\n",
       "      <td>1.0</td>\n",
       "      <td>2.0</td>\n",
       "      <td>5.0</td>\n",
       "      <td>7.0</td>\n",
       "      <td>13.0</td>\n",
       "    </tr>\n",
       "    <tr>\n",
       "      <td>City_Code_Patient</td>\n",
       "      <td>448806.0</td>\n",
       "      <td>7.249495</td>\n",
       "      <td>4.758941</td>\n",
       "      <td>1.0</td>\n",
       "      <td>4.0</td>\n",
       "      <td>8.0</td>\n",
       "      <td>8.0</td>\n",
       "      <td>38.0</td>\n",
       "    </tr>\n",
       "    <tr>\n",
       "      <td>Hospital_code</td>\n",
       "      <td>455495.0</td>\n",
       "      <td>18.326335</td>\n",
       "      <td>8.634036</td>\n",
       "      <td>1.0</td>\n",
       "      <td>11.0</td>\n",
       "      <td>19.0</td>\n",
       "      <td>26.0</td>\n",
       "      <td>32.0</td>\n",
       "    </tr>\n",
       "    <tr>\n",
       "      <td>Visitors with Patient</td>\n",
       "      <td>455495.0</td>\n",
       "      <td>3.284229</td>\n",
       "      <td>1.768044</td>\n",
       "      <td>0.0</td>\n",
       "      <td>2.0</td>\n",
       "      <td>3.0</td>\n",
       "      <td>4.0</td>\n",
       "      <td>32.0</td>\n",
       "    </tr>\n",
       "    <tr>\n",
       "      <td>case_id</td>\n",
       "      <td>455495.0</td>\n",
       "      <td>227748.000000</td>\n",
       "      <td>131490.224770</td>\n",
       "      <td>1.0</td>\n",
       "      <td>113874.5</td>\n",
       "      <td>227748.0</td>\n",
       "      <td>341621.5</td>\n",
       "      <td>455495.0</td>\n",
       "    </tr>\n",
       "    <tr>\n",
       "      <td>patientid</td>\n",
       "      <td>455495.0</td>\n",
       "      <td>65786.793563</td>\n",
       "      <td>37968.830850</td>\n",
       "      <td>1.0</td>\n",
       "      <td>32874.0</td>\n",
       "      <td>65735.0</td>\n",
       "      <td>98576.5</td>\n",
       "      <td>131624.0</td>\n",
       "    </tr>\n",
       "  </tbody>\n",
       "</table>\n",
       "</div>"
      ],
      "text/plain": [
       "                                      count           mean            std  \\\n",
       "Admission_Deposit                  455495.0    4877.434022    1084.982089   \n",
       "Available Extra Rooms in Hospital  455495.0       3.196140       1.166994   \n",
       "Bed Grade                          455347.0       2.628420       0.871997   \n",
       "City_Code_Hospital                 455495.0       4.767798       3.102450   \n",
       "City_Code_Patient                  448806.0       7.249495       4.758941   \n",
       "Hospital_code                      455495.0      18.326335       8.634036   \n",
       "Visitors with Patient              455495.0       3.284229       1.768044   \n",
       "case_id                            455495.0  227748.000000  131490.224770   \n",
       "patientid                          455495.0   65786.793563   37968.830850   \n",
       "\n",
       "                                      min       25%       50%       75%  \\\n",
       "Admission_Deposit                  1800.0    4184.0    4738.0    5405.0   \n",
       "Available Extra Rooms in Hospital     0.0       2.0       3.0       4.0   \n",
       "Bed Grade                             1.0       2.0       3.0       3.0   \n",
       "City_Code_Hospital                    1.0       2.0       5.0       7.0   \n",
       "City_Code_Patient                     1.0       4.0       8.0       8.0   \n",
       "Hospital_code                         1.0      11.0      19.0      26.0   \n",
       "Visitors with Patient                 0.0       2.0       3.0       4.0   \n",
       "case_id                               1.0  113874.5  227748.0  341621.5   \n",
       "patientid                             1.0   32874.0   65735.0   98576.5   \n",
       "\n",
       "                                        max  \n",
       "Admission_Deposit                   11920.0  \n",
       "Available Extra Rooms in Hospital      24.0  \n",
       "Bed Grade                               4.0  \n",
       "City_Code_Hospital                     13.0  \n",
       "City_Code_Patient                      38.0  \n",
       "Hospital_code                          32.0  \n",
       "Visitors with Patient                  32.0  \n",
       "case_id                            455495.0  \n",
       "patientid                          131624.0  "
      ]
     },
     "execution_count": 274,
     "metadata": {},
     "output_type": "execute_result"
    }
   ],
   "source": [
    "df_train.describe().transpose()"
   ]
  },
  {
   "cell_type": "code",
   "execution_count": 275,
   "metadata": {},
   "outputs": [],
   "source": [
    "data_info=pd.read_csv('train_data_dict.csv',index_col='Column')"
   ]
  },
  {
   "cell_type": "code",
   "execution_count": 276,
   "metadata": {},
   "outputs": [],
   "source": [
    "data_info=data_info.transpose()"
   ]
  },
  {
   "cell_type": "code",
   "execution_count": 277,
   "metadata": {},
   "outputs": [
    {
     "data": {
      "text/html": [
       "<div>\n",
       "<style scoped>\n",
       "    .dataframe tbody tr th:only-of-type {\n",
       "        vertical-align: middle;\n",
       "    }\n",
       "\n",
       "    .dataframe tbody tr th {\n",
       "        vertical-align: top;\n",
       "    }\n",
       "\n",
       "    .dataframe thead th {\n",
       "        text-align: right;\n",
       "    }\n",
       "</style>\n",
       "<table border=\"1\" class=\"dataframe\">\n",
       "  <thead>\n",
       "    <tr style=\"text-align: right;\">\n",
       "      <th></th>\n",
       "      <th>Description</th>\n",
       "    </tr>\n",
       "    <tr>\n",
       "      <th>Column</th>\n",
       "      <th></th>\n",
       "    </tr>\n",
       "  </thead>\n",
       "  <tbody>\n",
       "    <tr>\n",
       "      <td>case_id</td>\n",
       "      <td>Case_ID registered in Hospital</td>\n",
       "    </tr>\n",
       "    <tr>\n",
       "      <td>Hospital_code</td>\n",
       "      <td>Unique code for the Hospital</td>\n",
       "    </tr>\n",
       "    <tr>\n",
       "      <td>Hospital_type_code</td>\n",
       "      <td>Unique code for the type of Hospital</td>\n",
       "    </tr>\n",
       "    <tr>\n",
       "      <td>City_Code_Hospital</td>\n",
       "      <td>City Code of the Hospital</td>\n",
       "    </tr>\n",
       "    <tr>\n",
       "      <td>Hospital_region_code</td>\n",
       "      <td>Region Code of the Hospital</td>\n",
       "    </tr>\n",
       "    <tr>\n",
       "      <td>Available Extra Rooms in Hospital</td>\n",
       "      <td>Number of Extra rooms available in the Hospital</td>\n",
       "    </tr>\n",
       "    <tr>\n",
       "      <td>Department</td>\n",
       "      <td>Department overlooking the case</td>\n",
       "    </tr>\n",
       "    <tr>\n",
       "      <td>Ward_Type</td>\n",
       "      <td>Code for the Ward type</td>\n",
       "    </tr>\n",
       "    <tr>\n",
       "      <td>Ward_Facility_Code</td>\n",
       "      <td>Code for the Ward Facility</td>\n",
       "    </tr>\n",
       "    <tr>\n",
       "      <td>Bed Grade</td>\n",
       "      <td>Condition of Bed in the Ward</td>\n",
       "    </tr>\n",
       "    <tr>\n",
       "      <td>patientid</td>\n",
       "      <td>Unique Patient Id</td>\n",
       "    </tr>\n",
       "    <tr>\n",
       "      <td>City_Code_Patient</td>\n",
       "      <td>City Code for the patient</td>\n",
       "    </tr>\n",
       "    <tr>\n",
       "      <td>Type of Admission</td>\n",
       "      <td>Admission Type registered by the Hospital</td>\n",
       "    </tr>\n",
       "    <tr>\n",
       "      <td>Severity of Illness</td>\n",
       "      <td>Severity of the illness recorded at the time o...</td>\n",
       "    </tr>\n",
       "    <tr>\n",
       "      <td>Visitors with Patient</td>\n",
       "      <td>Number of Visitors with the patient</td>\n",
       "    </tr>\n",
       "    <tr>\n",
       "      <td>Age</td>\n",
       "      <td>Age of the patient</td>\n",
       "    </tr>\n",
       "    <tr>\n",
       "      <td>Admission_Deposit</td>\n",
       "      <td>Deposit at the Admission Time</td>\n",
       "    </tr>\n",
       "    <tr>\n",
       "      <td>Stay</td>\n",
       "      <td>Stay Days by the patient</td>\n",
       "    </tr>\n",
       "  </tbody>\n",
       "</table>\n",
       "</div>"
      ],
      "text/plain": [
       "                                                                         Description\n",
       "Column                                                                              \n",
       "case_id                                               Case_ID registered in Hospital\n",
       "Hospital_code                                           Unique code for the Hospital\n",
       "Hospital_type_code                              Unique code for the type of Hospital\n",
       "City_Code_Hospital                                         City Code of the Hospital\n",
       "Hospital_region_code                                     Region Code of the Hospital\n",
       "Available Extra Rooms in Hospital    Number of Extra rooms available in the Hospital\n",
       "Department                                           Department overlooking the case\n",
       "Ward_Type                                                     Code for the Ward type\n",
       "Ward_Facility_Code                                        Code for the Ward Facility\n",
       "Bed Grade                                               Condition of Bed in the Ward\n",
       "patientid                                                          Unique Patient Id\n",
       "City_Code_Patient                                          City Code for the patient\n",
       "Type of Admission                          Admission Type registered by the Hospital\n",
       "Severity of Illness                Severity of the illness recorded at the time o...\n",
       "Visitors with Patient                            Number of Visitors with the patient\n",
       "Age                                                               Age of the patient\n",
       "Admission_Deposit                                      Deposit at the Admission Time\n",
       "Stay                                                        Stay Days by the patient"
      ]
     },
     "execution_count": 277,
     "metadata": {},
     "output_type": "execute_result"
    }
   ],
   "source": [
    "data_info.transpose()"
   ]
  },
  {
   "cell_type": "code",
   "execution_count": 278,
   "metadata": {},
   "outputs": [
    {
     "data": {
      "text/plain": [
       "array(['0-10', '41-50', '31-40', '11-20', '51-60', '21-30', '71-80',\n",
       "       'More than 100 Days', '81-90', '61-70', '91-100', nan],\n",
       "      dtype=object)"
      ]
     },
     "execution_count": 278,
     "metadata": {},
     "output_type": "execute_result"
    }
   ],
   "source": [
    "df_train['Stay'].unique()"
   ]
  },
  {
   "cell_type": "code",
   "execution_count": 279,
   "metadata": {},
   "outputs": [],
   "source": [
    "stay_order=['0-10','11-20','21-30','31-40','41-50','51-60','61-70','71-80','81-90','91-100','More than 100 Days']"
   ]
  },
  {
   "cell_type": "code",
   "execution_count": 280,
   "metadata": {},
   "outputs": [
    {
     "data": {
      "text/plain": [
       "<matplotlib.axes._subplots.AxesSubplot at 0x252c9c69b88>"
      ]
     },
     "execution_count": 280,
     "metadata": {},
     "output_type": "execute_result"
    },
    {
     "data": {
      "image/png": "[encoded data removed]",
      "text/plain": [
       "<Figure size 864x720 with 1 Axes>"
      ]
     },
     "metadata": {
      "needs_background": "light"
     },
     "output_type": "display_data"
    }
   ],
   "source": [
    "plt.figure(figsize=(12,10))\n",
    "sns.countplot(df_train['Stay'],order=stay_order)"
   ]
  },
  {
   "cell_type": "code",
   "execution_count": 281,
   "metadata": {},
   "outputs": [
    {
     "data": {
      "text/plain": [
       "<matplotlib.axes._subplots.AxesSubplot at 0x252df985b88>"
      ]
     },
     "execution_count": 281,
     "metadata": {},
     "output_type": "execute_result"
    },
    {
     "data": {
      "image/png": "[encoded data removed]",
      "text/plain": [
       "<Figure size 864x576 with 1 Axes>"
      ]
     },
     "metadata": {
      "needs_background": "light"
     },
     "output_type": "display_data"
    }
   ],
   "source": [
    "plt.figure(figsize=(12,8))\n",
    "sns.barplot(df_train['Stay'],df_train['Admission_Deposit'],order=stay_order)"
   ]
  },
  {
   "cell_type": "code",
   "execution_count": 282,
   "metadata": {},
   "outputs": [
    {
     "data": {
      "text/plain": [
       "<matplotlib.axes._subplots.AxesSubplot at 0x252df4b6cc8>"
      ]
     },
     "execution_count": 282,
     "metadata": {},
     "output_type": "execute_result"
    },
    {
     "data": {
      "image/png": "[encoded data removed]",
      "text/plain": [
       "<Figure size 864x576 with 1 Axes>"
      ]
     },
     "metadata": {
      "needs_background": "light"
     },
     "output_type": "display_data"
    }
   ],
   "source": [
    "plt.figure(figsize=(12,8))\n",
    "sns.barplot(df_train['Stay'],df_train['Visitors with Patient'],order=stay_order)"
   ]
  },
  {
   "cell_type": "code",
   "execution_count": 283,
   "metadata": {},
   "outputs": [
    {
     "data": {
      "text/plain": [
       "0          Extreme\n",
       "1          Extreme\n",
       "2          Extreme\n",
       "3          Extreme\n",
       "4          Extreme\n",
       "            ...   \n",
       "137052       Minor\n",
       "137053    Moderate\n",
       "137054       Minor\n",
       "137055       Minor\n",
       "137056     Extreme\n",
       "Name: Severity of Illness, Length: 455495, dtype: object"
      ]
     },
     "execution_count": 283,
     "metadata": {},
     "output_type": "execute_result"
    }
   ],
   "source": [
    "df_train['Severity of Illness']"
   ]
  },
  {
   "cell_type": "code",
   "execution_count": 284,
   "metadata": {},
   "outputs": [
    {
     "data": {
      "text/plain": [
       "<matplotlib.axes._subplots.AxesSubplot at 0x25283730ec8>"
      ]
     },
     "execution_count": 284,
     "metadata": {},
     "output_type": "execute_result"
    },
    {
     "data": {
      "image/png": "[encoded data removed]",
      "text/plain": [
       "<Figure size 432x288 with 1 Axes>"
      ]
     },
     "metadata": {
      "needs_background": "light"
     },
     "output_type": "display_data"
    }
   ],
   "source": [
    "sns.countplot(df_train['Severity of Illness'])"
   ]
  },
  {
   "cell_type": "code",
   "execution_count": 285,
   "metadata": {},
   "outputs": [],
   "source": [
    "from sklearn.preprocessing import LabelEncoder\n",
    "le=LabelEncoder()"
   ]
  },
  {
   "cell_type": "code",
   "execution_count": 286,
   "metadata": {},
   "outputs": [],
   "source": [
    "#df_train['Stay']=le.fit_transform(df_train['Stay'])"
   ]
  },
  {
   "cell_type": "code",
   "execution_count": 287,
   "metadata": {},
   "outputs": [
    {
     "data": {
      "text/plain": [
       "\"\\nplt.figure(figsize=(18,6))\\nabc=df_train.corr()['Stay'].sort_values()[:-1]\\nsns.barplot(abc.index,abc.values)\\n\""
      ]
     },
     "execution_count": 287,
     "metadata": {},
     "output_type": "execute_result"
    }
   ],
   "source": [
    "'''\n",
    "plt.figure(figsize=(18,6))\n",
    "abc=df_train.corr()['Stay'].sort_values()[:-1]\n",
    "sns.barplot(abc.index,abc.values)\n",
    "'''"
   ]
  },
  {
   "cell_type": "code",
   "execution_count": 288,
   "metadata": {},
   "outputs": [
    {
     "data": {
      "text/plain": [
       "array(['c', 'e', 'b', 'a', 'f', 'd', 'g'], dtype=object)"
      ]
     },
     "execution_count": 288,
     "metadata": {},
     "output_type": "execute_result"
    }
   ],
   "source": [
    "df_train['Hospital_type_code'].unique()"
   ]
  },
  {
   "cell_type": "code",
   "execution_count": 289,
   "metadata": {},
   "outputs": [
    {
     "data": {
      "text/plain": [
       "Description    Unique code for the type of Hospital\n",
       "Name: Hospital_type_code, dtype: object"
      ]
     },
     "execution_count": 289,
     "metadata": {},
     "output_type": "execute_result"
    }
   ],
   "source": [
    "data_info['Hospital_type_code']"
   ]
  },
  {
   "cell_type": "code",
   "execution_count": 290,
   "metadata": {},
   "outputs": [],
   "source": [
    "df_train['Hospital_type_code']=le.fit_transform(df_train['Hospital_type_code'])"
   ]
  },
  {
   "cell_type": "code",
   "execution_count": 291,
   "metadata": {},
   "outputs": [
    {
     "data": {
      "text/plain": [
       "Index(['Age', 'Department', 'Hospital_region_code', 'Severity of Illness',\n",
       "       'Stay', 'Type of Admission', 'Ward_Facility_Code', 'Ward_Type'],\n",
       "      dtype='object')"
      ]
     },
     "execution_count": 291,
     "metadata": {},
     "output_type": "execute_result"
    }
   ],
   "source": [
    "df_train.select_dtypes('object').columns"
   ]
  },
  {
   "cell_type": "code",
   "execution_count": 292,
   "metadata": {},
   "outputs": [
    {
     "data": {
      "text/plain": [
       "Description    Region Code of the Hospital\n",
       "Name: Hospital_region_code, dtype: object"
      ]
     },
     "execution_count": 292,
     "metadata": {},
     "output_type": "execute_result"
    }
   ],
   "source": [
    "data_info['Hospital_region_code']"
   ]
  },
  {
   "cell_type": "code",
   "execution_count": 293,
   "metadata": {},
   "outputs": [
    {
     "data": {
      "text/plain": [
       "array(['Z', 'X', 'Y'], dtype=object)"
      ]
     },
     "execution_count": 293,
     "metadata": {},
     "output_type": "execute_result"
    }
   ],
   "source": [
    "df_train['Hospital_region_code'].unique()"
   ]
  },
  {
   "cell_type": "code",
   "execution_count": 294,
   "metadata": {},
   "outputs": [],
   "source": [
    "df_train['Hospital_region_code']=le.fit_transform(df_train['Hospital_region_code'])"
   ]
  },
  {
   "cell_type": "code",
   "execution_count": 295,
   "metadata": {},
   "outputs": [
    {
     "data": {
      "text/plain": [
       "array(['radiotherapy', 'anesthesia', 'gynecology', 'TB & Chest disease',\n",
       "       'surgery'], dtype=object)"
      ]
     },
     "execution_count": 295,
     "metadata": {},
     "output_type": "execute_result"
    }
   ],
   "source": [
    "df_train['Department'].unique()"
   ]
  },
  {
   "cell_type": "code",
   "execution_count": 296,
   "metadata": {},
   "outputs": [],
   "source": [
    "Depart_dummies=pd.get_dummies(df_train['Department'],drop_first=True)"
   ]
  },
  {
   "cell_type": "code",
   "execution_count": 297,
   "metadata": {},
   "outputs": [],
   "source": [
    "df_train=pd.concat([df_train,Depart_dummies],axis=1)\n",
    "df_train.drop('Department',axis=1,inplace=True)"
   ]
  },
  {
   "cell_type": "code",
   "execution_count": 298,
   "metadata": {},
   "outputs": [],
   "source": [
    "#df_train.corr()['Stay']"
   ]
  },
  {
   "cell_type": "code",
   "execution_count": 299,
   "metadata": {},
   "outputs": [
    {
     "data": {
      "text/plain": [
       "array(['R', 'S', 'Q', 'P', 'T', 'U'], dtype=object)"
      ]
     },
     "execution_count": 299,
     "metadata": {},
     "output_type": "execute_result"
    }
   ],
   "source": [
    "df_train['Ward_Type'].unique()"
   ]
  },
  {
   "cell_type": "code",
   "execution_count": 300,
   "metadata": {},
   "outputs": [],
   "source": [
    "df_train['Ward_Type']=le.fit_transform(df_train['Ward_Type'])"
   ]
  },
  {
   "cell_type": "code",
   "execution_count": 301,
   "metadata": {},
   "outputs": [
    {
     "data": {
      "text/plain": [
       "array(['F', 'E', 'D', 'B', 'A', 'C'], dtype=object)"
      ]
     },
     "execution_count": 301,
     "metadata": {},
     "output_type": "execute_result"
    }
   ],
   "source": [
    "df_train['Ward_Facility_Code'].unique()"
   ]
  },
  {
   "cell_type": "code",
   "execution_count": 302,
   "metadata": {},
   "outputs": [],
   "source": [
    "df_train['Ward_Facility_Code']=le.fit_transform(df_train['Ward_Facility_Code'])"
   ]
  },
  {
   "cell_type": "code",
   "execution_count": 303,
   "metadata": {},
   "outputs": [
    {
     "data": {
      "text/plain": [
       "array(['Emergency', 'Trauma', 'Urgent'], dtype=object)"
      ]
     },
     "execution_count": 303,
     "metadata": {},
     "output_type": "execute_result"
    }
   ],
   "source": [
    "df_train['Type of Admission'].unique()"
   ]
  },
  {
   "cell_type": "code",
   "execution_count": 304,
   "metadata": {},
   "outputs": [],
   "source": [
    "admission_encode=pd.get_dummies(df_train['Type of Admission'],drop_first=True)"
   ]
  },
  {
   "cell_type": "code",
   "execution_count": 305,
   "metadata": {},
   "outputs": [],
   "source": [
    "df_train=pd.concat([df_train,admission_encode],axis=1)"
   ]
  },
  {
   "cell_type": "code",
   "execution_count": 306,
   "metadata": {},
   "outputs": [
    {
     "data": {
      "text/plain": [
       "array(['Extreme', 'Moderate', 'Minor'], dtype=object)"
      ]
     },
     "execution_count": 306,
     "metadata": {},
     "output_type": "execute_result"
    }
   ],
   "source": [
    "df_train['Severity of Illness'].unique()"
   ]
  },
  {
   "cell_type": "code",
   "execution_count": 307,
   "metadata": {},
   "outputs": [],
   "source": [
    "severe_encode=pd.get_dummies(df_train['Severity of Illness'],drop_first=True)"
   ]
  },
  {
   "cell_type": "code",
   "execution_count": 308,
   "metadata": {},
   "outputs": [],
   "source": [
    "df_train=pd.concat([df_train,severe_encode],axis=1)"
   ]
  },
  {
   "cell_type": "code",
   "execution_count": 309,
   "metadata": {},
   "outputs": [
    {
     "data": {
      "text/plain": [
       "array(['51-60', '71-80', '31-40', '41-50', '81-90', '61-70', '21-30',\n",
       "       '11-20', '0-10', '91-100'], dtype=object)"
      ]
     },
     "execution_count": 309,
     "metadata": {},
     "output_type": "execute_result"
    }
   ],
   "source": [
    "df_train['Age'].unique()"
   ]
  },
  {
   "cell_type": "code",
   "execution_count": 310,
   "metadata": {},
   "outputs": [],
   "source": [
    "df_train['Age']=le.fit_transform(df_train['Age'])"
   ]
  },
  {
   "cell_type": "code",
   "execution_count": 311,
   "metadata": {},
   "outputs": [],
   "source": [
    "#df_train.corr()['Stay'].sort_values()"
   ]
  },
  {
   "cell_type": "code",
   "execution_count": 312,
   "metadata": {},
   "outputs": [],
   "source": [
    "#df_train.drop('case_id',axis=1,inplace=True)"
   ]
  },
  {
   "cell_type": "code",
   "execution_count": 313,
   "metadata": {},
   "outputs": [
    {
     "data": {
      "text/plain": [
       "Admission_Deposit                         0\n",
       "Age                                       0\n",
       "Available Extra Rooms in Hospital         0\n",
       "Bed Grade                               148\n",
       "City_Code_Hospital                        0\n",
       "City_Code_Patient                      6689\n",
       "Hospital_code                             0\n",
       "Hospital_region_code                      0\n",
       "Hospital_type_code                        0\n",
       "Severity of Illness                       0\n",
       "Stay                                 137057\n",
       "Type of Admission                         0\n",
       "Visitors with Patient                     0\n",
       "Ward_Facility_Code                        0\n",
       "Ward_Type                                 0\n",
       "case_id                                   0\n",
       "patientid                                 0\n",
       "anesthesia                                0\n",
       "gynecology                                0\n",
       "radiotherapy                              0\n",
       "surgery                                   0\n",
       "Trauma                                    0\n",
       "Urgent                                    0\n",
       "Minor                                     0\n",
       "Moderate                                  0\n",
       "dtype: int64"
      ]
     },
     "execution_count": 313,
     "metadata": {},
     "output_type": "execute_result"
    }
   ],
   "source": [
    "df_train.isnull().sum()"
   ]
  },
  {
   "cell_type": "code",
   "execution_count": 314,
   "metadata": {},
   "outputs": [
    {
     "data": {
      "text/plain": [
       "array([ 2.,  3.,  4.,  1., nan])"
      ]
     },
     "execution_count": 314,
     "metadata": {},
     "output_type": "execute_result"
    }
   ],
   "source": [
    "df_train['Bed Grade'].unique()"
   ]
  },
  {
   "cell_type": "code",
   "execution_count": 315,
   "metadata": {},
   "outputs": [
    {
     "data": {
      "text/plain": [
       "2.6284196447983628"
      ]
     },
     "execution_count": 315,
     "metadata": {},
     "output_type": "execute_result"
    }
   ],
   "source": [
    "df_train['Bed Grade'].mean()"
   ]
  },
  {
   "cell_type": "code",
   "execution_count": 316,
   "metadata": {},
   "outputs": [],
   "source": [
    "df_train['Bed Grade'].fillna(3,inplace=True)"
   ]
  },
  {
   "cell_type": "code",
   "execution_count": 317,
   "metadata": {},
   "outputs": [
    {
     "data": {
      "text/plain": [
       "array([ 7.,  8.,  2.,  5.,  6.,  3.,  4.,  1.,  9., 14., nan, 25., 15.,\n",
       "       12., 10., 28., 24., 23., 20., 11., 13., 21., 18., 16., 26., 27.,\n",
       "       22., 19., 31., 34., 32., 30., 29., 37., 33., 35., 36., 38.])"
      ]
     },
     "execution_count": 317,
     "metadata": {},
     "output_type": "execute_result"
    }
   ],
   "source": [
    "df_train['City_Code_Patient'].unique()"
   ]
  },
  {
   "cell_type": "code",
   "execution_count": 318,
   "metadata": {},
   "outputs": [
    {
     "data": {
      "text/plain": [
       "7.249495327602572"
      ]
     },
     "execution_count": 318,
     "metadata": {},
     "output_type": "execute_result"
    }
   ],
   "source": [
    "df_train['City_Code_Patient'].mean()"
   ]
  },
  {
   "cell_type": "code",
   "execution_count": 319,
   "metadata": {},
   "outputs": [],
   "source": [
    "df_train['City_Code_Patient'].fillna(7,inplace=True)"
   ]
  },
  {
   "cell_type": "code",
   "execution_count": 323,
   "metadata": {
    "scrolled": true
   },
   "outputs": [],
   "source": [
    "train=df_train[df_train['case_id']<318439]"
   ]
  },
  {
   "cell_type": "code",
   "execution_count": 324,
   "metadata": {},
   "outputs": [],
   "source": [
    "test=df_train[df_train['case_id']>=318439]"
   ]
  },
  {
   "cell_type": "code",
   "execution_count": 330,
   "metadata": {},
   "outputs": [
    {
     "data": {
      "text/plain": [
       "0          0-10\n",
       "1         41-50\n",
       "2         31-40\n",
       "3         41-50\n",
       "4         41-50\n",
       "          ...  \n",
       "318433    11-20\n",
       "318434    31-40\n",
       "318435    11-20\n",
       "318436    11-20\n",
       "318437     0-10\n",
       "Name: Stay, Length: 318438, dtype: object"
      ]
     },
     "execution_count": 330,
     "metadata": {},
     "output_type": "execute_result"
    }
   ],
   "source": []
  },
  {
   "cell_type": "code",
   "execution_count": 331,
   "metadata": {},
   "outputs": [
    {
     "name": "stderr",
     "output_type": "stream",
     "text": [
      "C:\\Users\\Rajneesh\\Anaconda3\\lib\\site-packages\\ipykernel_launcher.py:1: SettingWithCopyWarning: \n",
      "A value is trying to be set on a copy of a slice from a DataFrame.\n",
      "Try using .loc[row_indexer,col_indexer] = value instead\n",
      "\n",
      "See the caveats in the documentation: http://pandas.pydata.org/pandas-docs/stable/user_guide/indexing.html#returning-a-view-versus-a-copy\n",
      "  \"\"\"Entry point for launching an IPython kernel.\n"
     ]
    }
   ],
   "source": [
    "train['Stay']=le.fit_transform(train['Stay'])"
   ]
  },
  {
   "cell_type": "code",
   "execution_count": 332,
   "metadata": {},
   "outputs": [
    {
     "data": {
      "text/plain": [
       "0         0\n",
       "1         4\n",
       "2         3\n",
       "3         4\n",
       "4         4\n",
       "         ..\n",
       "318433    1\n",
       "318434    3\n",
       "318435    1\n",
       "318436    1\n",
       "318437    0\n",
       "Name: Stay, Length: 318438, dtype: int32"
      ]
     },
     "execution_count": 332,
     "metadata": {},
     "output_type": "execute_result"
    }
   ],
   "source": [
    "train['Stay']"
   ]
  },
  {
   "cell_type": "code",
   "execution_count": 340,
   "metadata": {},
   "outputs": [
    {
     "data": {
      "text/plain": [
       "<matplotlib.axes._subplots.AxesSubplot at 0x2529714a0c8>"
      ]
     },
     "execution_count": 340,
     "metadata": {},
     "output_type": "execute_result"
    },
    {
     "data": {
      "image/png": "[encoded data removed]",
      "text/plain": [
       "<Figure size 1296x432 with 1 Axes>"
      ]
     },
     "metadata": {
      "needs_background": "light"
     },
     "output_type": "display_data"
    }
   ],
   "source": [
    "plt.figure(figsize=(18,6))\n",
    "abc=train.corr()['Stay'].sort_values()[:-1]\n",
    "sns.barplot(abc.index,abc.values)\n"
   ]
  },
  {
   "cell_type": "code",
   "execution_count": 341,
   "metadata": {},
   "outputs": [
    {
     "data": {
      "text/plain": [
       "Available Extra Rooms in Hospital   -0.121120\n",
       "Minor                               -0.107630\n",
       "case_id                             -0.053882\n",
       "Admission_Deposit                   -0.052077\n",
       "Urgent                              -0.041377\n",
       "anesthesia                          -0.029597\n",
       "City_Code_Patient                   -0.009684\n",
       "Ward_Facility_Code                  -0.004552\n",
       "patientid                            0.001125\n",
       "City_Code_Hospital                   0.006381\n",
       "gynecology                           0.010516\n",
       "Hospital_region_code                 0.011905\n",
       "surgery                              0.015537\n",
       "radiotherapy                         0.017290\n",
       "Moderate                             0.023932\n",
       "Bed Grade                            0.025761\n",
       "Hospital_code                        0.042846\n",
       "Hospital_type_code                   0.058592\n",
       "Trauma                               0.092101\n",
       "Age                                  0.094163\n",
       "Ward_Type                            0.185191\n",
       "Visitors with Patient                0.537537\n",
       "Name: Stay, dtype: float64"
      ]
     },
     "execution_count": 341,
     "metadata": {},
     "output_type": "execute_result"
    }
   ],
   "source": [
    "abc"
   ]
  },
  {
   "cell_type": "code",
   "execution_count": 343,
   "metadata": {},
   "outputs": [
    {
     "data": {
      "text/plain": [
       "Index(['Severity of Illness', 'Type of Admission'], dtype='object')"
      ]
     },
     "execution_count": 343,
     "metadata": {},
     "output_type": "execute_result"
    }
   ],
   "source": [
    "train.select_dtypes('object').columns"
   ]
  },
  {
   "cell_type": "code",
   "execution_count": 382,
   "metadata": {},
   "outputs": [],
   "source": [
    "#train.drop(['Severity of Illness', 'Type of Admission'],axis=1,inplace=True)\n"
   ]
  },
  {
   "cell_type": "code",
   "execution_count": 346,
   "metadata": {},
   "outputs": [],
   "source": [
    "test.drop(['Severity of Illness', 'Type of Admission'],axis=1,inplace=True)"
   ]
  },
  {
   "cell_type": "code",
   "execution_count": 349,
   "metadata": {},
   "outputs": [],
   "source": [
    "test.drop('Stay',inplace=True,axis=1)"
   ]
  },
  {
   "cell_type": "code",
   "execution_count": 352,
   "metadata": {},
   "outputs": [
    {
     "data": {
      "text/plain": [
       "(318438, 23)"
      ]
     },
     "execution_count": 352,
     "metadata": {},
     "output_type": "execute_result"
    }
   ],
   "source": [
    "train.shape"
   ]
  },
  {
   "cell_type": "code",
   "execution_count": 580,
   "metadata": {},
   "outputs": [
    {
     "data": {
      "text/plain": [
       "<matplotlib.axes._subplots.AxesSubplot at 0x252e2eb9f48>"
      ]
     },
     "execution_count": 580,
     "metadata": {},
     "output_type": "execute_result"
    },
    {
     "data": {
      "image/png": "[encoded data removed]",
      "text/plain": [
       "<Figure size 576x432 with 1 Axes>"
      ]
     },
     "metadata": {
      "needs_background": "light"
     },
     "output_type": "display_data"
    }
   ],
   "source": [
    "plt.figure(figsize=(8,6))\n",
    "sns.countplot(train['Stay'],hue=train['Minor'])"
   ]
  },
  {
   "cell_type": "code",
   "execution_count": 583,
   "metadata": {},
   "outputs": [
    {
     "data": {
      "text/plain": [
       "<matplotlib.axes._subplots.AxesSubplot at 0x252e3062788>"
      ]
     },
     "execution_count": 583,
     "metadata": {},
     "output_type": "execute_result"
    },
    {
     "data": {
      "image/png": "[encoded data removed]",
      "text/plain": [
       "<Figure size 576x432 with 1 Axes>"
      ]
     },
     "metadata": {
      "needs_background": "light"
     },
     "output_type": "display_data"
    }
   ],
   "source": [
    "plt.figure(figsize=(8,6))\n",
    "sns.countplot(train['Stay'],hue=train['Moderate'])"
   ]
  },
  {
   "cell_type": "code",
   "execution_count": null,
   "metadata": {},
   "outputs": [],
   "source": []
  },
  {
   "cell_type": "markdown",
   "metadata": {},
   "source": [
    "# Using Neural Networks"
   ]
  },
  {
   "cell_type": "code",
   "execution_count": 351,
   "metadata": {},
   "outputs": [],
   "source": [
    "from tensorflow.keras.models import Sequential\n",
    "from tensorflow.keras.layers import Dense,Dropout\n",
    "from tensorflow.keras.callbacks import EarlyStopping"
   ]
  },
  {
   "cell_type": "code",
   "execution_count": 392,
   "metadata": {},
   "outputs": [],
   "source": [
    "model=Sequential()\n",
    "model.add(Dense(35,activation='relu'))\n",
    "model.add(Dropout(0.2))\n",
    "\n",
    "model.add(Dense(17,activation='relu'))\n",
    "model.add(Dropout(0.2))\n",
    "\n",
    "model.add(Dense(11,activation='softmax'))\n",
    "\n",
    "model.compile(optimizer='adam',loss='sparse_categorical_crossentropy',metrics=['accuracy'])"
   ]
  },
  {
   "cell_type": "code",
   "execution_count": 384,
   "metadata": {},
   "outputs": [],
   "source": [
    "#earlystop=EarlyStopping(monitor='val_loss',patience=25,mode='min')"
   ]
  },
  {
   "cell_type": "code",
   "execution_count": 386,
   "metadata": {},
   "outputs": [],
   "source": [
    "from sklearn.model_selection import train_test_split"
   ]
  },
  {
   "cell_type": "code",
   "execution_count": 387,
   "metadata": {},
   "outputs": [],
   "source": [
    "X=train.drop('Stay',axis=1).values\n",
    "y=train['Stay'].values\n",
    "X_train, X_test, y_train, y_test = train_test_split(X, y, test_size=0.33, random_state=42)"
   ]
  },
  {
   "cell_type": "code",
   "execution_count": 388,
   "metadata": {},
   "outputs": [],
   "source": [
    "from sklearn.preprocessing import MinMaxScaler"
   ]
  },
  {
   "cell_type": "code",
   "execution_count": 389,
   "metadata": {},
   "outputs": [],
   "source": [
    "mms=MinMaxScaler()"
   ]
  },
  {
   "cell_type": "code",
   "execution_count": 390,
   "metadata": {},
   "outputs": [],
   "source": [
    "X_train=mms.fit_transform(X_train)\n",
    "X_test=mms.transform(X_test)"
   ]
  },
  {
   "cell_type": "code",
   "execution_count": 381,
   "metadata": {},
   "outputs": [],
   "source": [
    "#model.fit(X_train,y_train,batch_size=128,epochs=100,validation_data=(X_test,y_test))"
   ]
  },
  {
   "cell_type": "code",
   "execution_count": 393,
   "metadata": {},
   "outputs": [
    {
     "name": "stdout",
     "output_type": "stream",
     "text": [
      "Train on 213353 samples, validate on 105085 samples\n",
      "Epoch 1/100\n",
      "213353/213353 [==============================] - 13s 61us/sample - loss: 1.8459 - accuracy: 0.2982 - val_loss: 1.6762 - val_accuracy: 0.3562\n",
      "Epoch 2/100\n",
      "213353/213353 [==============================] - 8s 36us/sample - loss: 1.6728 - accuracy: 0.3613 - val_loss: 1.6164 - val_accuracy: 0.3856\n",
      "Epoch 3/100\n",
      "213353/213353 [==============================] - 8s 36us/sample - loss: 1.6408 - accuracy: 0.3735 - val_loss: 1.6047 - val_accuracy: 0.3896\n",
      "Epoch 4/100\n",
      "213353/213353 [==============================] - 8s 39us/sample - loss: 1.6275 - accuracy: 0.3778 - val_loss: 1.5946 - val_accuracy: 0.3921\n",
      "Epoch 5/100\n",
      "213353/213353 [==============================] - 11s 52us/sample - loss: 1.6180 - accuracy: 0.3805 - val_loss: 1.5886 - val_accuracy: 0.3941\n",
      "Epoch 6/100\n",
      "213353/213353 [==============================] - 10s 46us/sample - loss: 1.6128 - accuracy: 0.3840 - val_loss: 1.5837 - val_accuracy: 0.3934\n",
      "Epoch 7/100\n",
      "213353/213353 [==============================] - 8s 37us/sample - loss: 1.6100 - accuracy: 0.3847 - val_loss: 1.5817 - val_accuracy: 0.3979\n",
      "Epoch 8/100\n",
      "213353/213353 [==============================] - 9s 40us/sample - loss: 1.6053 - accuracy: 0.3861 - val_loss: 1.5773 - val_accuracy: 0.3996\n",
      "Epoch 9/100\n",
      "213353/213353 [==============================] - 8s 40us/sample - loss: 1.6026 - accuracy: 0.3871 - val_loss: 1.5706 - val_accuracy: 0.3999\n",
      "Epoch 10/100\n",
      "213353/213353 [==============================] - 9s 42us/sample - loss: 1.6001 - accuracy: 0.3884 - val_loss: 1.5742 - val_accuracy: 0.3986\n",
      "Epoch 11/100\n",
      "213353/213353 [==============================] - 9s 43us/sample - loss: 1.5984 - accuracy: 0.3889 - val_loss: 1.5687 - val_accuracy: 0.4003\n",
      "Epoch 12/100\n",
      "213353/213353 [==============================] - 9s 43us/sample - loss: 1.5964 - accuracy: 0.3898 - val_loss: 1.5647 - val_accuracy: 0.4038\n",
      "Epoch 13/100\n",
      "213353/213353 [==============================] - 13s 59us/sample - loss: 1.5945 - accuracy: 0.3893 - val_loss: 1.5640 - val_accuracy: 0.4031\n",
      "Epoch 14/100\n",
      "213353/213353 [==============================] - 9s 41us/sample - loss: 1.5946 - accuracy: 0.3911 - val_loss: 1.5641 - val_accuracy: 0.4031\n",
      "Epoch 15/100\n",
      "213353/213353 [==============================] - 8s 39us/sample - loss: 1.5926 - accuracy: 0.3914 - val_loss: 1.5610 - val_accuracy: 0.4022\n",
      "Epoch 16/100\n",
      "213353/213353 [==============================] - 10s 46us/sample - loss: 1.5917 - accuracy: 0.3907 - val_loss: 1.5678 - val_accuracy: 0.3979\n",
      "Epoch 17/100\n",
      "213353/213353 [==============================] - 10s 46us/sample - loss: 1.5916 - accuracy: 0.3922 - val_loss: 1.5576 - val_accuracy: 0.4055\n",
      "Epoch 18/100\n",
      "213353/213353 [==============================] - 11s 51us/sample - loss: 1.5900 - accuracy: 0.3924 - val_loss: 1.5586 - val_accuracy: 0.4053\n",
      "Epoch 19/100\n",
      "213353/213353 [==============================] - 9s 44us/sample - loss: 1.5890 - accuracy: 0.3928 - val_loss: 1.5562 - val_accuracy: 0.4083\n",
      "Epoch 20/100\n",
      "213353/213353 [==============================] - 9s 43us/sample - loss: 1.5886 - accuracy: 0.3925 - val_loss: 1.5590 - val_accuracy: 0.4070\n",
      "Epoch 21/100\n",
      "213353/213353 [==============================] - 8s 36us/sample - loss: 1.5871 - accuracy: 0.3928 - val_loss: 1.5551 - val_accuracy: 0.4049\n",
      "Epoch 22/100\n",
      "213353/213353 [==============================] - 8s 36us/sample - loss: 1.5864 - accuracy: 0.3944 - val_loss: 1.5557 - val_accuracy: 0.4077\n",
      "Epoch 23/100\n",
      "213353/213353 [==============================] - 8s 39us/sample - loss: 1.5859 - accuracy: 0.3937 - val_loss: 1.5541 - val_accuracy: 0.4064\n",
      "Epoch 24/100\n",
      "213353/213353 [==============================] - 9s 41us/sample - loss: 1.5855 - accuracy: 0.3943 - val_loss: 1.5531 - val_accuracy: 0.4076\n",
      "Epoch 25/100\n",
      "213353/213353 [==============================] - 8s 38us/sample - loss: 1.5851 - accuracy: 0.3943 - val_loss: 1.5540 - val_accuracy: 0.4072\n",
      "Epoch 26/100\n",
      "213353/213353 [==============================] - 8s 35us/sample - loss: 1.5848 - accuracy: 0.3945 - val_loss: 1.5526 - val_accuracy: 0.4061\n",
      "Epoch 27/100\n",
      "213353/213353 [==============================] - 8s 40us/sample - loss: 1.5824 - accuracy: 0.3946 - val_loss: 1.5485 - val_accuracy: 0.4083\n",
      "Epoch 28/100\n",
      "213353/213353 [==============================] - 12s 55us/sample - loss: 1.5827 - accuracy: 0.3962 - val_loss: 1.5505 - val_accuracy: 0.4073\n",
      "Epoch 29/100\n",
      "213353/213353 [==============================] - 11s 53us/sample - loss: 1.5816 - accuracy: 0.3948 - val_loss: 1.5488 - val_accuracy: 0.4087\n",
      "Epoch 30/100\n",
      "213353/213353 [==============================] - 10s 47us/sample - loss: 1.5809 - accuracy: 0.3945 - val_loss: 1.5480 - val_accuracy: 0.4084\n",
      "Epoch 31/100\n",
      "213353/213353 [==============================] - 11s 53us/sample - loss: 1.5818 - accuracy: 0.3950 - val_loss: 1.5467 - val_accuracy: 0.4085\n",
      "Epoch 32/100\n",
      "213353/213353 [==============================] - 10s 48us/sample - loss: 1.5803 - accuracy: 0.3957 - val_loss: 1.5469 - val_accuracy: 0.4088\n",
      "Epoch 33/100\n",
      "213353/213353 [==============================] - 10s 46us/sample - loss: 1.5793 - accuracy: 0.3951 - val_loss: 1.5470 - val_accuracy: 0.4072\n",
      "Epoch 34/100\n",
      "213353/213353 [==============================] - 11s 54us/sample - loss: 1.5792 - accuracy: 0.3966 - val_loss: 1.5451 - val_accuracy: 0.4098\n",
      "Epoch 35/100\n",
      "213353/213353 [==============================] - 12s 56us/sample - loss: 1.5798 - accuracy: 0.3957 - val_loss: 1.5455 - val_accuracy: 0.4087\n",
      "Epoch 36/100\n",
      "213353/213353 [==============================] - 8s 38us/sample - loss: 1.5778 - accuracy: 0.3962 - val_loss: 1.5457 - val_accuracy: 0.4086\n",
      "Epoch 37/100\n",
      "213353/213353 [==============================] - 8s 36us/sample - loss: 1.5781 - accuracy: 0.3965 - val_loss: 1.5443 - val_accuracy: 0.4092\n",
      "Epoch 38/100\n",
      "213353/213353 [==============================] - 7s 32us/sample - loss: 1.5780 - accuracy: 0.3954 - val_loss: 1.5435 - val_accuracy: 0.4114\n",
      "Epoch 39/100\n",
      "213353/213353 [==============================] - 8s 37us/sample - loss: 1.5777 - accuracy: 0.3967 - val_loss: 1.5439 - val_accuracy: 0.4099\n",
      "Epoch 40/100\n",
      "213353/213353 [==============================] - 8s 38us/sample - loss: 1.5766 - accuracy: 0.3956 - val_loss: 1.5451 - val_accuracy: 0.4092\n",
      "Epoch 41/100\n",
      "213353/213353 [==============================] - 9s 42us/sample - loss: 1.5771 - accuracy: 0.3959 - val_loss: 1.5429 - val_accuracy: 0.4094\n",
      "Epoch 42/100\n",
      "213353/213353 [==============================] - 13s 63us/sample - loss: 1.5774 - accuracy: 0.3961 - val_loss: 1.5446 - val_accuracy: 0.4103\n",
      "Epoch 43/100\n",
      "213353/213353 [==============================] - 8s 36us/sample - loss: 1.5764 - accuracy: 0.3954 - val_loss: 1.5449 - val_accuracy: 0.4092\n",
      "Epoch 44/100\n",
      "213353/213353 [==============================] - 10s 45us/sample - loss: 1.5766 - accuracy: 0.3960 - val_loss: 1.5435 - val_accuracy: 0.4104\n",
      "Epoch 45/100\n",
      "213353/213353 [==============================] - 8s 40us/sample - loss: 1.5761 - accuracy: 0.3953 - val_loss: 1.5459 - val_accuracy: 0.4087\n",
      "Epoch 46/100\n",
      "213353/213353 [==============================] - 8s 38us/sample - loss: 1.5762 - accuracy: 0.3963 - val_loss: 1.5438 - val_accuracy: 0.4101\n",
      "Epoch 47/100\n",
      "213353/213353 [==============================] - 9s 43us/sample - loss: 1.5756 - accuracy: 0.3963 - val_loss: 1.5440 - val_accuracy: 0.4105\n",
      "Epoch 48/100\n",
      "213353/213353 [==============================] - 9s 44us/sample - loss: 1.5748 - accuracy: 0.3963 - val_loss: 1.5421 - val_accuracy: 0.4101\n",
      "Epoch 49/100\n",
      "213353/213353 [==============================] - 8s 36us/sample - loss: 1.5752 - accuracy: 0.3958 - val_loss: 1.5433 - val_accuracy: 0.4100\n",
      "Epoch 50/100\n",
      "213353/213353 [==============================] - 8s 39us/sample - loss: 1.5754 - accuracy: 0.3968 - val_loss: 1.5432 - val_accuracy: 0.4097\n",
      "Epoch 51/100\n",
      "213353/213353 [==============================] - 8s 38us/sample - loss: 1.5741 - accuracy: 0.3977 - val_loss: 1.5415 - val_accuracy: 0.4090\n",
      "Epoch 52/100\n",
      "213353/213353 [==============================] - 7s 34us/sample - loss: 1.5738 - accuracy: 0.3981 - val_loss: 1.5426 - val_accuracy: 0.4100\n",
      "Epoch 53/100\n",
      "213353/213353 [==============================] - 8s 39us/sample - loss: 1.5749 - accuracy: 0.3974 - val_loss: 1.5417 - val_accuracy: 0.4107\n",
      "Epoch 54/100\n",
      "213353/213353 [==============================] - 8s 37us/sample - loss: 1.5744 - accuracy: 0.3971 - val_loss: 1.5416 - val_accuracy: 0.4109\n",
      "Epoch 55/100\n",
      "213353/213353 [==============================] - 7s 33us/sample - loss: 1.5728 - accuracy: 0.3971 - val_loss: 1.5428 - val_accuracy: 0.4106\n",
      "Epoch 56/100\n",
      "213353/213353 [==============================] - 8s 36us/sample - loss: 1.5741 - accuracy: 0.3975 - val_loss: 1.5409 - val_accuracy: 0.4097\n",
      "Epoch 57/100\n",
      "213353/213353 [==============================] - 7s 32us/sample - loss: 1.5739 - accuracy: 0.3974 - val_loss: 1.5404 - val_accuracy: 0.4087\n",
      "Epoch 58/100\n",
      "213353/213353 [==============================] - 8s 35us/sample - loss: 1.5730 - accuracy: 0.3967 - val_loss: 1.5402 - val_accuracy: 0.4095\n",
      "Epoch 59/100\n",
      "213353/213353 [==============================] - 8s 40us/sample - loss: 1.5728 - accuracy: 0.3972 - val_loss: 1.5415 - val_accuracy: 0.4108\n",
      "Epoch 60/100\n",
      "213353/213353 [==============================] - 7s 32us/sample - loss: 1.5734 - accuracy: 0.3977 - val_loss: 1.5418 - val_accuracy: 0.4091\n",
      "Epoch 61/100\n",
      "213353/213353 [==============================] - 8s 39us/sample - loss: 1.5726 - accuracy: 0.3990 - val_loss: 1.5426 - val_accuracy: 0.4106\n",
      "Epoch 62/100\n",
      "213353/213353 [==============================] - 8s 36us/sample - loss: 1.5735 - accuracy: 0.3976 - val_loss: 1.5415 - val_accuracy: 0.4107\n",
      "Epoch 63/100\n",
      "213353/213353 [==============================] - 9s 41us/sample - loss: 1.5728 - accuracy: 0.3985 - val_loss: 1.5442 - val_accuracy: 0.4077\n",
      "Epoch 64/100\n",
      "213353/213353 [==============================] - 7s 32us/sample - loss: 1.5720 - accuracy: 0.3978 - val_loss: 1.5415 - val_accuracy: 0.4106\n",
      "Epoch 65/100\n",
      "213353/213353 [==============================] - 8s 36us/sample - loss: 1.5726 - accuracy: 0.3975 - val_loss: 1.5406 - val_accuracy: 0.4103\n",
      "Epoch 66/100\n",
      "213353/213353 [==============================] - 7s 35us/sample - loss: 1.5726 - accuracy: 0.3977 - val_loss: 1.5404 - val_accuracy: 0.4112\n",
      "Epoch 67/100\n",
      "213353/213353 [==============================] - 8s 38us/sample - loss: 1.5716 - accuracy: 0.3984 - val_loss: 1.5405 - val_accuracy: 0.4103\n",
      "Epoch 68/100\n",
      "213353/213353 [==============================] - 8s 37us/sample - loss: 1.5724 - accuracy: 0.3971 - val_loss: 1.5412 - val_accuracy: 0.4108\n",
      "Epoch 69/100\n",
      "213353/213353 [==============================] - 7s 33us/sample - loss: 1.5710 - accuracy: 0.3984 - val_loss: 1.5375 - val_accuracy: 0.4115\n",
      "Epoch 70/100\n",
      "213353/213353 [==============================] - 9s 40us/sample - loss: 1.5723 - accuracy: 0.3980 - val_loss: 1.5399 - val_accuracy: 0.4110\n",
      "Epoch 71/100\n",
      "213353/213353 [==============================] - 8s 37us/sample - loss: 1.5719 - accuracy: 0.3982 - val_loss: 1.5398 - val_accuracy: 0.4111\n",
      "Epoch 72/100\n",
      "213353/213353 [==============================] - 9s 40us/sample - loss: 1.5724 - accuracy: 0.3959 - val_loss: 1.5402 - val_accuracy: 0.4110\n",
      "Epoch 73/100\n",
      "213353/213353 [==============================] - 10s 45us/sample - loss: 1.5726 - accuracy: 0.3978 - val_loss: 1.5398 - val_accuracy: 0.4109\n",
      "Epoch 74/100\n",
      "213353/213353 [==============================] - 8s 37us/sample - loss: 1.5719 - accuracy: 0.3982 - val_loss: 1.5405 - val_accuracy: 0.4104\n",
      "Epoch 75/100\n",
      "213353/213353 [==============================] - 13s 62us/sample - loss: 1.5718 - accuracy: 0.3980 - val_loss: 1.5412 - val_accuracy: 0.4113\n",
      "Epoch 76/100\n",
      "213353/213353 [==============================] - 11s 51us/sample - loss: 1.5716 - accuracy: 0.3972 - val_loss: 1.5396 - val_accuracy: 0.4107\n",
      "Epoch 77/100\n",
      "213353/213353 [==============================] - 9s 44us/sample - loss: 1.5715 - accuracy: 0.3987 - val_loss: 1.5385 - val_accuracy: 0.4109\n",
      "Epoch 78/100\n",
      "213353/213353 [==============================] - 8s 39us/sample - loss: 1.5709 - accuracy: 0.3981 - val_loss: 1.5391 - val_accuracy: 0.4115\n",
      "Epoch 79/100\n",
      "213353/213353 [==============================] - 11s 50us/sample - loss: 1.5713 - accuracy: 0.3987 - val_loss: 1.5391 - val_accuracy: 0.4103\n",
      "Epoch 80/100\n",
      "213353/213353 [==============================] - 9s 40us/sample - loss: 1.5723 - accuracy: 0.3976 - val_loss: 1.5397 - val_accuracy: 0.4105\n",
      "Epoch 81/100\n",
      "213353/213353 [==============================] - 13s 60us/sample - loss: 1.5711 - accuracy: 0.3980 - val_loss: 1.5389 - val_accuracy: 0.4109\n",
      "Epoch 82/100\n",
      "213353/213353 [==============================] - 16s 74us/sample - loss: 1.5704 - accuracy: 0.3988 - val_loss: 1.5392 - val_accuracy: 0.4128\n",
      "Epoch 83/100\n",
      "213353/213353 [==============================] - 10s 49us/sample - loss: 1.5707 - accuracy: 0.3984 - val_loss: 1.5412 - val_accuracy: 0.4104\n",
      "Epoch 84/100\n",
      "213353/213353 [==============================] - 10s 47us/sample - loss: 1.5716 - accuracy: 0.3967 - val_loss: 1.5384 - val_accuracy: 0.4125\n",
      "Epoch 85/100\n",
      "213353/213353 [==============================] - 10s 48us/sample - loss: 1.5707 - accuracy: 0.3995 - val_loss: 1.5390 - val_accuracy: 0.4098\n",
      "Epoch 86/100\n",
      "213353/213353 [==============================] - 9s 42us/sample - loss: 1.5716 - accuracy: 0.3995 - val_loss: 1.5399 - val_accuracy: 0.4109\n",
      "Epoch 87/100\n",
      "213353/213353 [==============================] - 8s 36us/sample - loss: 1.5713 - accuracy: 0.3986 - val_loss: 1.5385 - val_accuracy: 0.4124\n",
      "Epoch 88/100\n",
      "213353/213353 [==============================] - 10s 45us/sample - loss: 1.5697 - accuracy: 0.3988 - val_loss: 1.5382 - val_accuracy: 0.4118\n",
      "Epoch 89/100\n",
      "213353/213353 [==============================] - 8s 36us/sample - loss: 1.5704 - accuracy: 0.3988 - val_loss: 1.5394 - val_accuracy: 0.4124\n",
      "Epoch 90/100\n",
      "213353/213353 [==============================] - 7s 33us/sample - loss: 1.5700 - accuracy: 0.3996 - val_loss: 1.5383 - val_accuracy: 0.4123\n",
      "Epoch 91/100\n",
      "213353/213353 [==============================] - 7s 34us/sample - loss: 1.5696 - accuracy: 0.3987 - val_loss: 1.5378 - val_accuracy: 0.4123\n",
      "Epoch 92/100\n",
      "213353/213353 [==============================] - 7s 31us/sample - loss: 1.5704 - accuracy: 0.3982 - val_loss: 1.5374 - val_accuracy: 0.4126\n",
      "Epoch 93/100\n",
      "213353/213353 [==============================] - 7s 35us/sample - loss: 1.5696 - accuracy: 0.3976 - val_loss: 1.5382 - val_accuracy: 0.4121\n",
      "Epoch 94/100\n",
      "213353/213353 [==============================] - 7s 33us/sample - loss: 1.5701 - accuracy: 0.3992 - val_loss: 1.5368 - val_accuracy: 0.4115\n",
      "Epoch 95/100\n",
      "213353/213353 [==============================] - 8s 37us/sample - loss: 1.5704 - accuracy: 0.3986 - val_loss: 1.5386 - val_accuracy: 0.4102\n",
      "Epoch 96/100\n",
      "213353/213353 [==============================] - 8s 38us/sample - loss: 1.5706 - accuracy: 0.3989 - val_loss: 1.5378 - val_accuracy: 0.4129\n",
      "Epoch 97/100\n",
      "213353/213353 [==============================] - 7s 34us/sample - loss: 1.5693 - accuracy: 0.3987 - val_loss: 1.5373 - val_accuracy: 0.4116\n",
      "Epoch 98/100\n",
      "213353/213353 [==============================] - 7s 34us/sample - loss: 1.5698 - accuracy: 0.3987 - val_loss: 1.5379 - val_accuracy: 0.4101\n",
      "Epoch 99/100\n",
      "213353/213353 [==============================] - 8s 37us/sample - loss: 1.5690 - accuracy: 0.3990 - val_loss: 1.5378 - val_accuracy: 0.4120\n",
      "Epoch 100/100\n",
      "213353/213353 [==============================] - 8s 38us/sample - loss: 1.5700 - accuracy: 0.3994 - val_loss: 1.5375 - val_accuracy: 0.4112\n"
     ]
    },
    {
     "data": {
      "text/plain": [
       "<tensorflow.python.keras.callbacks.History at 0x252df352448>"
      ]
     },
     "execution_count": 393,
     "metadata": {},
     "output_type": "execute_result"
    }
   ],
   "source": [
    "model.fit(X_train,y_train,batch_size=128,epochs=1000,validation_data=(X_test,y_test))"
   ]
  },
  {
   "cell_type": "code",
   "execution_count": 394,
   "metadata": {},
   "outputs": [],
   "source": [
    "model_loss=pd.DataFrame(model.history.history)"
   ]
  },
  {
   "cell_type": "code",
   "execution_count": 535,
   "metadata": {},
   "outputs": [
    {
     "data": {
      "text/plain": [
       "0.4111814245610696"
      ]
     },
     "execution_count": 535,
     "metadata": {},
     "output_type": "execute_result"
    }
   ],
   "source": [
    "accuracy_score(y_test,model.predict_classes(X_test))"
   ]
  },
  {
   "cell_type": "code",
   "execution_count": 395,
   "metadata": {},
   "outputs": [
    {
     "data": {
      "text/plain": [
       "<matplotlib.axes._subplots.AxesSubplot at 0x252d59ca888>"
      ]
     },
     "execution_count": 395,
     "metadata": {},
     "output_type": "execute_result"
    },
    {
     "data": {
      "image/png": "[encoded data removed]",
      "text/plain": [
       "<Figure size 432x288 with 1 Axes>"
      ]
     },
     "metadata": {
      "needs_background": "light"
     },
     "output_type": "display_data"
    }
   ],
   "source": [
    "model_loss.plot()"
   ]
  },
  {
   "cell_type": "code",
   "execution_count": 396,
   "metadata": {},
   "outputs": [],
   "source": [
    "predictions=model.predict_classes(test)"
   ]
  },
  {
   "cell_type": "code",
   "execution_count": 397,
   "metadata": {},
   "outputs": [],
   "source": [
    "fo=pd.DataFrame(predictions)"
   ]
  },
  {
   "cell_type": "code",
   "execution_count": 404,
   "metadata": {},
   "outputs": [
    {
     "data": {
      "text/plain": [
       "array([5, 5, 2, ..., 3, 1, 2])"
      ]
     },
     "execution_count": 404,
     "metadata": {},
     "output_type": "execute_result"
    }
   ],
   "source": [
    "y_test"
   ]
  },
  {
   "cell_type": "markdown",
   "metadata": {},
   "source": [
    "# Using Logistic Regression"
   ]
  },
  {
   "cell_type": "code",
   "execution_count": 405,
   "metadata": {},
   "outputs": [],
   "source": [
    "from sklearn.linear_model import LogisticRegression"
   ]
  },
  {
   "cell_type": "code",
   "execution_count": 407,
   "metadata": {},
   "outputs": [],
   "source": [
    "lr=LogisticRegression(multi_class='multinomial',solver='newton-cg')"
   ]
  },
  {
   "cell_type": "code",
   "execution_count": 409,
   "metadata": {},
   "outputs": [],
   "source": [
    "from sklearn.model_selection import cross_val_score"
   ]
  },
  {
   "cell_type": "code",
   "execution_count": 410,
   "metadata": {},
   "outputs": [
    {
     "name": "stderr",
     "output_type": "stream",
     "text": [
      "C:\\Users\\Rajneesh\\Anaconda3\\lib\\site-packages\\sklearn\\model_selection\\_split.py:1978: FutureWarning: The default value of cv will change from 3 to 5 in version 0.22. Specify it explicitly to silence this warning.\n",
      "  warnings.warn(CV_WARNING, FutureWarning)\n",
      "C:\\Users\\Rajneesh\\Anaconda3\\lib\\site-packages\\sklearn\\utils\\optimize.py:203: ConvergenceWarning: newton-cg failed to converge. Increase the number of iterations.\n",
      "  \"number of iterations.\", ConvergenceWarning)\n",
      "C:\\Users\\Rajneesh\\Anaconda3\\lib\\site-packages\\scipy\\optimize\\linesearch.py:466: LineSearchWarning: The line search algorithm did not converge\n",
      "  warn('The line search algorithm did not converge', LineSearchWarning)\n",
      "C:\\Users\\Rajneesh\\Anaconda3\\lib\\site-packages\\scipy\\optimize\\linesearch.py:314: LineSearchWarning: The line search algorithm did not converge\n",
      "  warn('The line search algorithm did not converge', LineSearchWarning)\n",
      "C:\\Users\\Rajneesh\\Anaconda3\\lib\\site-packages\\sklearn\\utils\\optimize.py:203: ConvergenceWarning: newton-cg failed to converge. Increase the number of iterations.\n",
      "  \"number of iterations.\", ConvergenceWarning)\n",
      "C:\\Users\\Rajneesh\\Anaconda3\\lib\\site-packages\\sklearn\\utils\\optimize.py:203: ConvergenceWarning: newton-cg failed to converge. Increase the number of iterations.\n",
      "  \"number of iterations.\", ConvergenceWarning)\n"
     ]
    },
    {
     "data": {
      "text/plain": [
       "array([0.35282148, 0.37463141, 0.3385214 ])"
      ]
     },
     "execution_count": 410,
     "metadata": {},
     "output_type": "execute_result"
    }
   ],
   "source": [
    "cross_val_score(lr,X,y)"
   ]
  },
  {
   "cell_type": "markdown",
   "metadata": {},
   "source": [
    "# Using Random Forest Classifier"
   ]
  },
  {
   "cell_type": "code",
   "execution_count": 411,
   "metadata": {},
   "outputs": [],
   "source": [
    "from sklearn.ensemble import RandomForestClassifier"
   ]
  },
  {
   "cell_type": "code",
   "execution_count": 415,
   "metadata": {},
   "outputs": [],
   "source": [
    "rfc=RandomForestClassifier()"
   ]
  },
  {
   "cell_type": "code",
   "execution_count": 427,
   "metadata": {},
   "outputs": [
    {
     "data": {
      "text/plain": [
       "\"\\nn_estimators=[int(i) for i in np.linspace(100,1000,num=30)]\\nmax_depth=[int(i) for i in np.linspace(10,200,20)]\\nmin_samples_split=[int(i) for i in np.linspace(2,20,4)]\\nmin_samples_leaf=[int(i) for i in np.linspace(1,20,3)]\\nmax_features=['auto','sqrt','log2',None]\\nbootstrap=['True','False']\\n\\nparams_grid={n_estimators: 286,\\n             min_samples_split: 2,\\n             min_samples_leaf: 10,\\n             max_features: auto,\\n             max_depth: 70,\\n             bootstrap: True}\\n\""
      ]
     },
     "execution_count": 427,
     "metadata": {},
     "output_type": "execute_result"
    }
   ],
   "source": [
    "'''\n",
    "n_estimators=[int(i) for i in np.linspace(100,1000,num=30)]\n",
    "max_depth=[int(i) for i in np.linspace(10,200,20)]\n",
    "min_samples_split=[int(i) for i in np.linspace(2,20,4)]\n",
    "min_samples_leaf=[int(i) for i in np.linspace(1,20,3)]\n",
    "max_features=['auto','sqrt','log2',None]\n",
    "bootstrap=['True','False']\n",
    "\n",
    "params_grid={n_estimators: 286,\n",
    "             min_samples_split: 2,\n",
    "             min_samples_leaf: 10,\n",
    "             max_features: auto,\n",
    "             max_depth: 70,\n",
    "             bootstrap: True}\n",
    "'''"
   ]
  },
  {
   "cell_type": "code",
   "execution_count": 430,
   "metadata": {},
   "outputs": [],
   "source": [
    "#from sklearn.model_selection import RandomizedSearchCV"
   ]
  },
  {
   "cell_type": "code",
   "execution_count": 431,
   "metadata": {},
   "outputs": [],
   "source": [
    "#random_search=RandomizedSearchCV(rfc,param_distributions=params_grid,n_iter=100,cv=3)"
   ]
  },
  {
   "cell_type": "code",
   "execution_count": 428,
   "metadata": {},
   "outputs": [],
   "source": [
    "rfc=RandomForestClassifier(n_estimators= 286,min_samples_split=2,min_samples_leaf= 10,max_features='auto',max_depth=70,bootstrap=True)"
   ]
  },
  {
   "cell_type": "code",
   "execution_count": 429,
   "metadata": {},
   "outputs": [
    {
     "data": {
      "text/plain": [
       "RandomForestClassifier(bootstrap=True, class_weight=None, criterion='gini',\n",
       "                       max_depth=70, max_features='auto', max_leaf_nodes=None,\n",
       "                       min_impurity_decrease=0.0, min_impurity_split=None,\n",
       "                       min_samples_leaf=10, min_samples_split=2,\n",
       "                       min_weight_fraction_leaf=0.0, n_estimators=286,\n",
       "                       n_jobs=None, oob_score=False, random_state=None,\n",
       "                       verbose=0, warm_start=False)"
      ]
     },
     "execution_count": 429,
     "metadata": {},
     "output_type": "execute_result"
    }
   ],
   "source": [
    "rfc.fit(X,y)"
   ]
  },
  {
   "cell_type": "code",
   "execution_count": 432,
   "metadata": {},
   "outputs": [
    {
     "name": "stderr",
     "output_type": "stream",
     "text": [
      "C:\\Users\\Rajneesh\\Anaconda3\\lib\\site-packages\\sklearn\\model_selection\\_split.py:1978: FutureWarning: The default value of cv will change from 3 to 5 in version 0.22. Specify it explicitly to silence this warning.\n",
      "  warnings.warn(CV_WARNING, FutureWarning)\n"
     ]
    },
    {
     "data": {
      "text/plain": [
       "array([0.35054169, 0.38493787, 0.07845225])"
      ]
     },
     "execution_count": 432,
     "metadata": {},
     "output_type": "execute_result"
    }
   ],
   "source": [
    "cross_val_score(rfc,X,y)"
   ]
  },
  {
   "cell_type": "code",
   "execution_count": 433,
   "metadata": {},
   "outputs": [
    {
     "data": {
      "text/plain": [
       "array([1, 2, 2, ..., 0, 2, 2])"
      ]
     },
     "execution_count": 433,
     "metadata": {},
     "output_type": "execute_result"
    }
   ],
   "source": [
    "rfc.predict(X_test)"
   ]
  },
  {
   "cell_type": "markdown",
   "metadata": {},
   "source": [
    "# Using LightGB"
   ]
  },
  {
   "cell_type": "code",
   "execution_count": 436,
   "metadata": {},
   "outputs": [
    {
     "name": "stdout",
     "output_type": "stream",
     "text": [
      "['Admission_Deposit', 'Age', 'Available Extra Rooms in Hospital', 'Bed Grade', 'City_Code_Hospital', 'City_Code_Patient', 'Hospital_code', 'Hospital_region_code', 'Hospital_type_code', 'Visitors with Patient', 'Ward_Facility_Code', 'Ward_Type', 'case_id', 'patientid', 'anesthesia', 'gynecology', 'radiotherapy', 'surgery', 'Trauma', 'Urgent', 'Minor', 'Moderate']\n"
     ]
    }
   ],
   "source": [
    "feature_cols=train.columns.tolist()\n",
    "feature_cols.remove('Stay')\n",
    "label_col='Stay'\n",
    "print(feature_cols)"
   ]
  },
  {
   "cell_type": "code",
   "execution_count": 480,
   "metadata": {},
   "outputs": [],
   "source": [
    "feature_cols.remove('case_id')"
   ]
  },
  {
   "cell_type": "code",
   "execution_count": 481,
   "metadata": {},
   "outputs": [],
   "source": [
    "feature_cols.remove('patientid')"
   ]
  },
  {
   "cell_type": "code",
   "execution_count": 442,
   "metadata": {},
   "outputs": [
    {
     "name": "stderr",
     "output_type": "stream",
     "text": [
      "C:\\Users\\Rajneesh\\Anaconda3\\lib\\site-packages\\pandas\\core\\frame.py:4102: SettingWithCopyWarning: \n",
      "A value is trying to be set on a copy of a slice from a DataFrame\n",
      "\n",
      "See the caveats in the documentation: http://pandas.pydata.org/pandas-docs/stable/user_guide/indexing.html#returning-a-view-versus-a-copy\n",
      "  errors=errors,\n"
     ]
    }
   ],
   "source": [
    "train.drop(['case_id','patientid'],axis=1,inplace=True)"
   ]
  },
  {
   "cell_type": "code",
   "execution_count": 443,
   "metadata": {},
   "outputs": [],
   "source": [
    "params = {}\n",
    "params['learning_rate'] = 0.06\n",
    "params['max_depth'] = 50\n",
    "params['n_estimators'] = 500\n",
    "params['objective'] = 'multiclass'\n",
    "params['boosting_type'] = 'gbdt'\n",
    "params['subsample'] = 0.7\n",
    "params['random_state'] = 42\n",
    "params['colsample_bytree']=0.7\n",
    "params['min_data_in_leaf'] = 55\n",
    "params['reg_alpha'] = 1.6\n",
    "params['reg_lambda'] = 1.1"
   ]
  },
  {
   "cell_type": "code",
   "execution_count": 444,
   "metadata": {},
   "outputs": [],
   "source": [
    "import lightgbm as lgb"
   ]
  },
  {
   "cell_type": "code",
   "execution_count": 445,
   "metadata": {},
   "outputs": [],
   "source": [
    "clf=lgb.LGBMClassifier(**params)"
   ]
  },
  {
   "cell_type": "code",
   "execution_count": 463,
   "metadata": {},
   "outputs": [
    {
     "name": "stdout",
     "output_type": "stream",
     "text": [
      "[1]\ttraining's multi_error: 0.725821\ttraining's multi_logloss: 1.87697\tvalid_1's multi_error: 0.72409\tvalid_1's multi_logloss: 1.87578\n",
      "Training until validation scores don't improve for 100 rounds\n",
      "[2]\ttraining's multi_error: 0.725821\ttraining's multi_logloss: 1.85253\tvalid_1's multi_error: 0.72409\tvalid_1's multi_logloss: 1.85215\n",
      "[3]\ttraining's multi_error: 0.724644\ttraining's multi_logloss: 1.83201\tvalid_1's multi_error: 0.722948\tvalid_1's multi_logloss: 1.83221\n",
      "[4]\ttraining's multi_error: 0.717599\ttraining's multi_logloss: 1.81624\tvalid_1's multi_error: 0.715307\tvalid_1's multi_logloss: 1.81678\n",
      "[5]\ttraining's multi_error: 0.711937\ttraining's multi_logloss: 1.80536\tvalid_1's multi_error: 0.710358\tvalid_1's multi_logloss: 1.80616\n",
      "[6]\ttraining's multi_error: 0.703538\ttraining's multi_logloss: 1.79244\tvalid_1's multi_error: 0.702336\tvalid_1's multi_logloss: 1.79366\n",
      "[7]\ttraining's multi_error: 0.698284\ttraining's multi_logloss: 1.78048\tvalid_1's multi_error: 0.696455\tvalid_1's multi_logloss: 1.78209\n",
      "[8]\ttraining's multi_error: 0.690972\ttraining's multi_logloss: 1.76849\tvalid_1's multi_error: 0.68987\tvalid_1's multi_logloss: 1.77044\n",
      "[9]\ttraining's multi_error: 0.679972\ttraining's multi_logloss: 1.75641\tvalid_1's multi_error: 0.679916\tvalid_1's multi_logloss: 1.75886\n",
      "[10]\ttraining's multi_error: 0.665001\ttraining's multi_logloss: 1.74699\tvalid_1's multi_error: 0.66489\tvalid_1's multi_logloss: 1.7498\n",
      "[11]\ttraining's multi_error: 0.649862\ttraining's multi_logloss: 1.73875\tvalid_1's multi_error: 0.650531\tvalid_1's multi_logloss: 1.74186\n",
      "[12]\ttraining's multi_error: 0.643816\ttraining's multi_logloss: 1.7312\tvalid_1's multi_error: 0.644764\tvalid_1's multi_logloss: 1.73456\n",
      "[13]\ttraining's multi_error: 0.636237\ttraining's multi_logloss: 1.72258\tvalid_1's multi_error: 0.637741\tvalid_1's multi_logloss: 1.72633\n",
      "[14]\ttraining's multi_error: 0.619476\ttraining's multi_logloss: 1.71406\tvalid_1's multi_error: 0.620793\tvalid_1's multi_logloss: 1.71813\n",
      "[15]\ttraining's multi_error: 0.612244\ttraining's multi_logloss: 1.70815\tvalid_1's multi_error: 0.613123\tvalid_1's multi_logloss: 1.71256\n",
      "[16]\ttraining's multi_error: 0.6081\ttraining's multi_logloss: 1.70207\tvalid_1's multi_error: 0.60943\tvalid_1's multi_logloss: 1.7068\n",
      "[17]\ttraining's multi_error: 0.602241\ttraining's multi_logloss: 1.69313\tvalid_1's multi_error: 0.604082\tvalid_1's multi_logloss: 1.69821\n",
      "[18]\ttraining's multi_error: 0.600873\ttraining's multi_logloss: 1.68796\tvalid_1's multi_error: 0.602474\tvalid_1's multi_logloss: 1.69331\n",
      "[19]\ttraining's multi_error: 0.598562\ttraining's multi_logloss: 1.68154\tvalid_1's multi_error: 0.600638\tvalid_1's multi_logloss: 1.68719\n",
      "[20]\ttraining's multi_error: 0.596903\ttraining's multi_logloss: 1.67399\tvalid_1's multi_error: 0.599029\tvalid_1's multi_logloss: 1.67993\n",
      "[21]\ttraining's multi_error: 0.594709\ttraining's multi_logloss: 1.66757\tvalid_1's multi_error: 0.597735\tvalid_1's multi_logloss: 1.67374\n",
      "[22]\ttraining's multi_error: 0.592928\ttraining's multi_logloss: 1.66208\tvalid_1's multi_error: 0.595899\tvalid_1's multi_logloss: 1.66855\n",
      "[23]\ttraining's multi_error: 0.591695\ttraining's multi_logloss: 1.65575\tvalid_1's multi_error: 0.594385\tvalid_1's multi_logloss: 1.66249\n",
      "[24]\ttraining's multi_error: 0.591189\ttraining's multi_logloss: 1.65229\tvalid_1's multi_error: 0.594224\tvalid_1's multi_logloss: 1.65933\n",
      "[25]\ttraining's multi_error: 0.590435\ttraining's multi_logloss: 1.6475\tvalid_1's multi_error: 0.594071\tvalid_1's multi_logloss: 1.65481\n",
      "[26]\ttraining's multi_error: 0.590163\ttraining's multi_logloss: 1.64323\tvalid_1's multi_error: 0.593672\tvalid_1's multi_logloss: 1.65077\n",
      "[27]\ttraining's multi_error: 0.58945\ttraining's multi_logloss: 1.63766\tvalid_1's multi_error: 0.592815\tvalid_1's multi_logloss: 1.64547\n",
      "[28]\ttraining's multi_error: 0.588696\ttraining's multi_logloss: 1.63401\tvalid_1's multi_error: 0.592092\tvalid_1's multi_logloss: 1.64208\n",
      "[29]\ttraining's multi_error: 0.587885\ttraining's multi_logloss: 1.63065\tvalid_1's multi_error: 0.591778\tvalid_1's multi_logloss: 1.63897\n",
      "[30]\ttraining's multi_error: 0.587374\ttraining's multi_logloss: 1.62663\tvalid_1's multi_error: 0.591445\tvalid_1's multi_logloss: 1.63521\n",
      "[31]\ttraining's multi_error: 0.586699\ttraining's multi_logloss: 1.62384\tvalid_1's multi_error: 0.590865\tvalid_1's multi_logloss: 1.63268\n",
      "[32]\ttraining's multi_error: 0.586174\ttraining's multi_logloss: 1.62088\tvalid_1's multi_error: 0.590332\tvalid_1's multi_logloss: 1.62995\n",
      "[33]\ttraining's multi_error: 0.585869\ttraining's multi_logloss: 1.61767\tvalid_1's multi_error: 0.590018\tvalid_1's multi_logloss: 1.62694\n",
      "[34]\ttraining's multi_error: 0.585312\ttraining's multi_logloss: 1.61439\tvalid_1's multi_error: 0.589409\tvalid_1's multi_logloss: 1.62388\n",
      "[35]\ttraining's multi_error: 0.585045\ttraining's multi_logloss: 1.6105\tvalid_1's multi_error: 0.589199\tvalid_1's multi_logloss: 1.6203\n",
      "[36]\ttraining's multi_error: 0.584459\ttraining's multi_logloss: 1.60707\tvalid_1's multi_error: 0.589104\tvalid_1's multi_logloss: 1.61713\n",
      "[37]\ttraining's multi_error: 0.584074\ttraining's multi_logloss: 1.60334\tvalid_1's multi_error: 0.588695\tvalid_1's multi_logloss: 1.61363\n",
      "[38]\ttraining's multi_error: 0.583774\ttraining's multi_logloss: 1.60003\tvalid_1's multi_error: 0.588371\tvalid_1's multi_logloss: 1.61059\n",
      "[39]\ttraining's multi_error: 0.583352\ttraining's multi_logloss: 1.59663\tvalid_1's multi_error: 0.588\tvalid_1's multi_logloss: 1.60741\n",
      "[40]\ttraining's multi_error: 0.583137\ttraining's multi_logloss: 1.59404\tvalid_1's multi_error: 0.587905\tvalid_1's multi_logloss: 1.60503\n",
      "[41]\ttraining's multi_error: 0.583118\ttraining's multi_logloss: 1.59205\tvalid_1's multi_error: 0.587296\tvalid_1's multi_logloss: 1.6033\n",
      "[42]\ttraining's multi_error: 0.582738\ttraining's multi_logloss: 1.58954\tvalid_1's multi_error: 0.587439\tvalid_1's multi_logloss: 1.60103\n",
      "[43]\ttraining's multi_error: 0.582588\ttraining's multi_logloss: 1.58711\tvalid_1's multi_error: 0.586896\tvalid_1's multi_logloss: 1.59883\n",
      "[44]\ttraining's multi_error: 0.582124\ttraining's multi_logloss: 1.58381\tvalid_1's multi_error: 0.586896\tvalid_1's multi_logloss: 1.59574\n",
      "[45]\ttraining's multi_error: 0.581815\ttraining's multi_logloss: 1.58108\tvalid_1's multi_error: 0.58682\tvalid_1's multi_logloss: 1.59322\n",
      "[46]\ttraining's multi_error: 0.581675\ttraining's multi_logloss: 1.57898\tvalid_1's multi_error: 0.586773\tvalid_1's multi_logloss: 1.59139\n",
      "[47]\ttraining's multi_error: 0.581046\ttraining's multi_logloss: 1.57712\tvalid_1's multi_error: 0.586563\tvalid_1's multi_logloss: 1.58978\n",
      "[48]\ttraining's multi_error: 0.580854\ttraining's multi_logloss: 1.57458\tvalid_1's multi_error: 0.586687\tvalid_1's multi_logloss: 1.5875\n",
      "[49]\ttraining's multi_error: 0.580596\ttraining's multi_logloss: 1.5724\tvalid_1's multi_error: 0.586716\tvalid_1's multi_logloss: 1.58554\n",
      "[50]\ttraining's multi_error: 0.580395\ttraining's multi_logloss: 1.57043\tvalid_1's multi_error: 0.586573\tvalid_1's multi_logloss: 1.58378\n",
      "[51]\ttraining's multi_error: 0.580151\ttraining's multi_logloss: 1.56812\tvalid_1's multi_error: 0.586202\tvalid_1's multi_logloss: 1.58168\n",
      "[52]\ttraining's multi_error: 0.579917\ttraining's multi_logloss: 1.56575\tvalid_1's multi_error: 0.586078\tvalid_1's multi_logloss: 1.57953\n",
      "[53]\ttraining's multi_error: 0.579748\ttraining's multi_logloss: 1.56365\tvalid_1's multi_error: 0.585716\tvalid_1's multi_logloss: 1.57766\n",
      "[54]\ttraining's multi_error: 0.579458\ttraining's multi_logloss: 1.56157\tvalid_1's multi_error: 0.58545\tvalid_1's multi_logloss: 1.57581\n",
      "[55]\ttraining's multi_error: 0.579078\ttraining's multi_logloss: 1.55993\tvalid_1's multi_error: 0.584984\tvalid_1's multi_logloss: 1.5744\n",
      "[56]\ttraining's multi_error: 0.578726\ttraining's multi_logloss: 1.5583\tvalid_1's multi_error: 0.58446\tvalid_1's multi_logloss: 1.57299\n",
      "[57]\ttraining's multi_error: 0.578548\ttraining's multi_logloss: 1.55656\tvalid_1's multi_error: 0.584441\tvalid_1's multi_logloss: 1.57149\n",
      "[58]\ttraining's multi_error: 0.578164\ttraining's multi_logloss: 1.55465\tvalid_1's multi_error: 0.583994\tvalid_1's multi_logloss: 1.56979\n",
      "[59]\ttraining's multi_error: 0.578023\ttraining's multi_logloss: 1.55303\tvalid_1's multi_error: 0.583689\tvalid_1's multi_logloss: 1.56839\n",
      "[60]\ttraining's multi_error: 0.577625\ttraining's multi_logloss: 1.55102\tvalid_1's multi_error: 0.583746\tvalid_1's multi_logloss: 1.56658\n"
     ]
    },
    {
     "name": "stdout",
     "output_type": "stream",
     "text": [
      "[61]\ttraining's multi_error: 0.577339\ttraining's multi_logloss: 1.54952\tvalid_1's multi_error: 0.58348\tvalid_1's multi_logloss: 1.56528\n",
      "[62]\ttraining's multi_error: 0.577105\ttraining's multi_logloss: 1.54805\tvalid_1's multi_error: 0.583547\tvalid_1's multi_logloss: 1.56403\n",
      "[63]\ttraining's multi_error: 0.577048\ttraining's multi_logloss: 1.54668\tvalid_1's multi_error: 0.583252\tvalid_1's multi_logloss: 1.56289\n",
      "[64]\ttraining's multi_error: 0.576912\ttraining's multi_logloss: 1.54529\tvalid_1's multi_error: 0.583223\tvalid_1's multi_logloss: 1.56172\n",
      "[65]\ttraining's multi_error: 0.576875\ttraining's multi_logloss: 1.54406\tvalid_1's multi_error: 0.583413\tvalid_1's multi_logloss: 1.56075\n",
      "[66]\ttraining's multi_error: 0.576584\ttraining's multi_logloss: 1.54259\tvalid_1's multi_error: 0.583118\tvalid_1's multi_logloss: 1.55949\n",
      "[67]\ttraining's multi_error: 0.576453\ttraining's multi_logloss: 1.54162\tvalid_1's multi_error: 0.582995\tvalid_1's multi_logloss: 1.55875\n",
      "[68]\ttraining's multi_error: 0.576233\ttraining's multi_logloss: 1.54021\tvalid_1's multi_error: 0.582814\tvalid_1's multi_logloss: 1.55756\n",
      "[69]\ttraining's multi_error: 0.576139\ttraining's multi_logloss: 1.53895\tvalid_1's multi_error: 0.582719\tvalid_1's multi_logloss: 1.55647\n",
      "[70]\ttraining's multi_error: 0.575877\ttraining's multi_logloss: 1.53778\tvalid_1's multi_error: 0.582671\tvalid_1's multi_logloss: 1.55552\n",
      "[71]\ttraining's multi_error: 0.575675\ttraining's multi_logloss: 1.53631\tvalid_1's multi_error: 0.582643\tvalid_1's multi_logloss: 1.55426\n",
      "[72]\ttraining's multi_error: 0.575441\ttraining's multi_logloss: 1.53514\tvalid_1's multi_error: 0.582386\tvalid_1's multi_logloss: 1.55332\n",
      "[73]\ttraining's multi_error: 0.575225\ttraining's multi_logloss: 1.53402\tvalid_1's multi_error: 0.5823\tvalid_1's multi_logloss: 1.55236\n",
      "[74]\ttraining's multi_error: 0.574981\ttraining's multi_logloss: 1.53298\tvalid_1's multi_error: 0.582224\tvalid_1's multi_logloss: 1.55155\n",
      "[75]\ttraining's multi_error: 0.57493\ttraining's multi_logloss: 1.53168\tvalid_1's multi_error: 0.582053\tvalid_1's multi_logloss: 1.55045\n",
      "[76]\ttraining's multi_error: 0.574789\ttraining's multi_logloss: 1.53071\tvalid_1's multi_error: 0.582129\tvalid_1's multi_logloss: 1.54974\n",
      "[77]\ttraining's multi_error: 0.574438\ttraining's multi_logloss: 1.52947\tvalid_1's multi_error: 0.581796\tvalid_1's multi_logloss: 1.54869\n",
      "[78]\ttraining's multi_error: 0.574138\ttraining's multi_logloss: 1.52824\tvalid_1's multi_error: 0.581491\tvalid_1's multi_logloss: 1.54768\n",
      "[79]\ttraining's multi_error: 0.573974\ttraining's multi_logloss: 1.52726\tvalid_1's multi_error: 0.58131\tvalid_1's multi_logloss: 1.54691\n",
      "[80]\ttraining's multi_error: 0.573856\ttraining's multi_logloss: 1.52616\tvalid_1's multi_error: 0.581567\tvalid_1's multi_logloss: 1.54603\n",
      "[81]\ttraining's multi_error: 0.573739\ttraining's multi_logloss: 1.52522\tvalid_1's multi_error: 0.581301\tvalid_1's multi_logloss: 1.54531\n",
      "[82]\ttraining's multi_error: 0.573706\ttraining's multi_logloss: 1.52421\tvalid_1's multi_error: 0.581111\tvalid_1's multi_logloss: 1.54451\n",
      "[83]\ttraining's multi_error: 0.573636\ttraining's multi_logloss: 1.52332\tvalid_1's multi_error: 0.58132\tvalid_1's multi_logloss: 1.54383\n",
      "[84]\ttraining's multi_error: 0.5735\ttraining's multi_logloss: 1.52246\tvalid_1's multi_error: 0.581082\tvalid_1's multi_logloss: 1.54321\n",
      "[85]\ttraining's multi_error: 0.573219\ttraining's multi_logloss: 1.52141\tvalid_1's multi_error: 0.581025\tvalid_1's multi_logloss: 1.54238\n",
      "[86]\ttraining's multi_error: 0.5732\ttraining's multi_logloss: 1.52038\tvalid_1's multi_error: 0.581053\tvalid_1's multi_logloss: 1.5416\n",
      "[87]\ttraining's multi_error: 0.573008\ttraining's multi_logloss: 1.51954\tvalid_1's multi_error: 0.580854\tvalid_1's multi_logloss: 1.54098\n",
      "[88]\ttraining's multi_error: 0.572764\ttraining's multi_logloss: 1.5185\tvalid_1's multi_error: 0.580673\tvalid_1's multi_logloss: 1.54015\n",
      "[89]\ttraining's multi_error: 0.572732\ttraining's multi_logloss: 1.51755\tvalid_1's multi_error: 0.580739\tvalid_1's multi_logloss: 1.5394\n",
      "[90]\ttraining's multi_error: 0.572605\ttraining's multi_logloss: 1.5166\tvalid_1's multi_error: 0.580644\tvalid_1's multi_logloss: 1.53867\n",
      "[91]\ttraining's multi_error: 0.572436\ttraining's multi_logloss: 1.51572\tvalid_1's multi_error: 0.580245\tvalid_1's multi_logloss: 1.53798\n",
      "[92]\ttraining's multi_error: 0.572314\ttraining's multi_logloss: 1.51505\tvalid_1's multi_error: 0.58014\tvalid_1's multi_logloss: 1.53756\n",
      "[93]\ttraining's multi_error: 0.572221\ttraining's multi_logloss: 1.51414\tvalid_1's multi_error: 0.580121\tvalid_1's multi_logloss: 1.53683\n",
      "[94]\ttraining's multi_error: 0.571911\ttraining's multi_logloss: 1.51337\tvalid_1's multi_error: 0.580045\tvalid_1's multi_logloss: 1.53627\n",
      "[95]\ttraining's multi_error: 0.571747\ttraining's multi_logloss: 1.51254\tvalid_1's multi_error: 0.579778\tvalid_1's multi_logloss: 1.53563\n",
      "[96]\ttraining's multi_error: 0.57163\ttraining's multi_logloss: 1.51183\tvalid_1's multi_error: 0.579835\tvalid_1's multi_logloss: 1.53514\n",
      "[97]\ttraining's multi_error: 0.571541\ttraining's multi_logloss: 1.51106\tvalid_1's multi_error: 0.579731\tvalid_1's multi_logloss: 1.53456\n",
      "[98]\ttraining's multi_error: 0.571574\ttraining's multi_logloss: 1.51041\tvalid_1's multi_error: 0.57975\tvalid_1's multi_logloss: 1.53414\n",
      "[99]\ttraining's multi_error: 0.571597\ttraining's multi_logloss: 1.50971\tvalid_1's multi_error: 0.579731\tvalid_1's multi_logloss: 1.53365\n",
      "[100]\ttraining's multi_error: 0.571419\ttraining's multi_logloss: 1.50903\tvalid_1's multi_error: 0.579664\tvalid_1's multi_logloss: 1.53321\n",
      "[101]\ttraining's multi_error: 0.57126\ttraining's multi_logloss: 1.50823\tvalid_1's multi_error: 0.579693\tvalid_1's multi_logloss: 1.53259\n",
      "[102]\ttraining's multi_error: 0.571096\ttraining's multi_logloss: 1.50749\tvalid_1's multi_error: 0.579474\tvalid_1's multi_logloss: 1.53203\n",
      "[103]\ttraining's multi_error: 0.570974\ttraining's multi_logloss: 1.50681\tvalid_1's multi_error: 0.579417\tvalid_1's multi_logloss: 1.53156\n",
      "[104]\ttraining's multi_error: 0.57058\ttraining's multi_logloss: 1.50608\tvalid_1's multi_error: 0.579141\tvalid_1's multi_logloss: 1.53106\n",
      "[105]\ttraining's multi_error: 0.570491\ttraining's multi_logloss: 1.50542\tvalid_1's multi_error: 0.579198\tvalid_1's multi_logloss: 1.53062\n",
      "[106]\ttraining's multi_error: 0.570355\ttraining's multi_logloss: 1.50472\tvalid_1's multi_error: 0.579065\tvalid_1's multi_logloss: 1.53012\n",
      "[107]\ttraining's multi_error: 0.570215\ttraining's multi_logloss: 1.50411\tvalid_1's multi_error: 0.578884\tvalid_1's multi_logloss: 1.52973\n",
      "[108]\ttraining's multi_error: 0.570163\ttraining's multi_logloss: 1.50349\tvalid_1's multi_error: 0.578912\tvalid_1's multi_logloss: 1.52932\n",
      "[109]\ttraining's multi_error: 0.569905\ttraining's multi_logloss: 1.50277\tvalid_1's multi_error: 0.578827\tvalid_1's multi_logloss: 1.52881\n",
      "[110]\ttraining's multi_error: 0.569591\ttraining's multi_logloss: 1.50219\tvalid_1's multi_error: 0.578703\tvalid_1's multi_logloss: 1.52842\n",
      "[111]\ttraining's multi_error: 0.569497\ttraining's multi_logloss: 1.50166\tvalid_1's multi_error: 0.578741\tvalid_1's multi_logloss: 1.52811\n",
      "[112]\ttraining's multi_error: 0.569455\ttraining's multi_logloss: 1.50116\tvalid_1's multi_error: 0.578808\tvalid_1's multi_logloss: 1.52782\n",
      "[113]\ttraining's multi_error: 0.569193\ttraining's multi_logloss: 1.50065\tvalid_1's multi_error: 0.578646\tvalid_1's multi_logloss: 1.52751\n",
      "[114]\ttraining's multi_error: 0.56909\ttraining's multi_logloss: 1.50014\tvalid_1's multi_error: 0.578627\tvalid_1's multi_logloss: 1.52718\n",
      "[115]\ttraining's multi_error: 0.569048\ttraining's multi_logloss: 1.49958\tvalid_1's multi_error: 0.578579\tvalid_1's multi_logloss: 1.52685\n",
      "[116]\ttraining's multi_error: 0.568949\ttraining's multi_logloss: 1.49894\tvalid_1's multi_error: 0.578398\tvalid_1's multi_logloss: 1.5264\n",
      "[117]\ttraining's multi_error: 0.568757\ttraining's multi_logloss: 1.49841\tvalid_1's multi_error: 0.578437\tvalid_1's multi_logloss: 1.52609\n",
      "[118]\ttraining's multi_error: 0.568527\ttraining's multi_logloss: 1.49786\tvalid_1's multi_error: 0.578161\tvalid_1's multi_logloss: 1.52576\n",
      "[119]\ttraining's multi_error: 0.568537\ttraining's multi_logloss: 1.49721\tvalid_1's multi_error: 0.578227\tvalid_1's multi_logloss: 1.52532\n",
      "[120]\ttraining's multi_error: 0.568476\ttraining's multi_logloss: 1.49663\tvalid_1's multi_error: 0.578161\tvalid_1's multi_logloss: 1.52495\n"
     ]
    },
    {
     "name": "stdout",
     "output_type": "stream",
     "text": [
      "[121]\ttraining's multi_error: 0.568359\ttraining's multi_logloss: 1.49601\tvalid_1's multi_error: 0.578142\tvalid_1's multi_logloss: 1.52454\n",
      "[122]\ttraining's multi_error: 0.568101\ttraining's multi_logloss: 1.49544\tvalid_1's multi_error: 0.578122\tvalid_1's multi_logloss: 1.52418\n",
      "[123]\ttraining's multi_error: 0.567941\ttraining's multi_logloss: 1.4949\tvalid_1's multi_error: 0.578208\tvalid_1's multi_logloss: 1.52385\n",
      "[124]\ttraining's multi_error: 0.567899\ttraining's multi_logloss: 1.49441\tvalid_1's multi_error: 0.578199\tvalid_1's multi_logloss: 1.52359\n",
      "[125]\ttraining's multi_error: 0.567707\ttraining's multi_logloss: 1.49381\tvalid_1's multi_error: 0.578246\tvalid_1's multi_logloss: 1.52319\n",
      "[126]\ttraining's multi_error: 0.567524\ttraining's multi_logloss: 1.49329\tvalid_1's multi_error: 0.578189\tvalid_1's multi_logloss: 1.52289\n",
      "[127]\ttraining's multi_error: 0.56758\ttraining's multi_logloss: 1.49279\tvalid_1's multi_error: 0.578208\tvalid_1's multi_logloss: 1.5226\n",
      "[128]\ttraining's multi_error: 0.56751\ttraining's multi_logloss: 1.49231\tvalid_1's multi_error: 0.578265\tvalid_1's multi_logloss: 1.52233\n",
      "[129]\ttraining's multi_error: 0.567262\ttraining's multi_logloss: 1.49181\tvalid_1's multi_error: 0.577999\tvalid_1's multi_logloss: 1.52205\n",
      "[130]\ttraining's multi_error: 0.567304\ttraining's multi_logloss: 1.49124\tvalid_1's multi_error: 0.578046\tvalid_1's multi_logloss: 1.52171\n",
      "[131]\ttraining's multi_error: 0.567116\ttraining's multi_logloss: 1.49082\tvalid_1's multi_error: 0.578208\tvalid_1's multi_logloss: 1.52151\n",
      "[132]\ttraining's multi_error: 0.567126\ttraining's multi_logloss: 1.49032\tvalid_1's multi_error: 0.578237\tvalid_1's multi_logloss: 1.52121\n",
      "[133]\ttraining's multi_error: 0.566854\ttraining's multi_logloss: 1.48988\tvalid_1's multi_error: 0.578103\tvalid_1's multi_logloss: 1.52101\n",
      "[134]\ttraining's multi_error: 0.566826\ttraining's multi_logloss: 1.48945\tvalid_1's multi_error: 0.578132\tvalid_1's multi_logloss: 1.52078\n",
      "[135]\ttraining's multi_error: 0.566821\ttraining's multi_logloss: 1.48895\tvalid_1's multi_error: 0.57818\tvalid_1's multi_logloss: 1.52048\n",
      "[136]\ttraining's multi_error: 0.566742\ttraining's multi_logloss: 1.48846\tvalid_1's multi_error: 0.577932\tvalid_1's multi_logloss: 1.5202\n",
      "[137]\ttraining's multi_error: 0.566493\ttraining's multi_logloss: 1.48799\tvalid_1's multi_error: 0.577713\tvalid_1's multi_logloss: 1.51992\n",
      "[138]\ttraining's multi_error: 0.566437\ttraining's multi_logloss: 1.48751\tvalid_1's multi_error: 0.577761\tvalid_1's multi_logloss: 1.51967\n",
      "[139]\ttraining's multi_error: 0.566348\ttraining's multi_logloss: 1.487\tvalid_1's multi_error: 0.577885\tvalid_1's multi_logloss: 1.51933\n",
      "[140]\ttraining's multi_error: 0.566273\ttraining's multi_logloss: 1.48656\tvalid_1's multi_error: 0.577789\tvalid_1's multi_logloss: 1.51909\n",
      "[141]\ttraining's multi_error: 0.566024\ttraining's multi_logloss: 1.48613\tvalid_1's multi_error: 0.577628\tvalid_1's multi_logloss: 1.51888\n",
      "[142]\ttraining's multi_error: 0.56586\ttraining's multi_logloss: 1.48568\tvalid_1's multi_error: 0.577552\tvalid_1's multi_logloss: 1.51864\n",
      "[143]\ttraining's multi_error: 0.565898\ttraining's multi_logloss: 1.48527\tvalid_1's multi_error: 0.577428\tvalid_1's multi_logloss: 1.51842\n",
      "[144]\ttraining's multi_error: 0.565748\ttraining's multi_logloss: 1.4849\tvalid_1's multi_error: 0.577494\tvalid_1's multi_logloss: 1.51825\n",
      "[145]\ttraining's multi_error: 0.565607\ttraining's multi_logloss: 1.4844\tvalid_1's multi_error: 0.57738\tvalid_1's multi_logloss: 1.51796\n",
      "[146]\ttraining's multi_error: 0.565424\ttraining's multi_logloss: 1.48403\tvalid_1's multi_error: 0.577409\tvalid_1's multi_logloss: 1.5178\n",
      "[147]\ttraining's multi_error: 0.565406\ttraining's multi_logloss: 1.48358\tvalid_1's multi_error: 0.577456\tvalid_1's multi_logloss: 1.51756\n",
      "[148]\ttraining's multi_error: 0.565349\ttraining's multi_logloss: 1.48315\tvalid_1's multi_error: 0.577333\tvalid_1's multi_logloss: 1.51732\n",
      "[149]\ttraining's multi_error: 0.565349\ttraining's multi_logloss: 1.48277\tvalid_1's multi_error: 0.57718\tvalid_1's multi_logloss: 1.51715\n",
      "[150]\ttraining's multi_error: 0.565101\ttraining's multi_logloss: 1.48229\tvalid_1's multi_error: 0.577199\tvalid_1's multi_logloss: 1.51688\n",
      "[151]\ttraining's multi_error: 0.564998\ttraining's multi_logloss: 1.48188\tvalid_1's multi_error: 0.577114\tvalid_1's multi_logloss: 1.5167\n",
      "[152]\ttraining's multi_error: 0.564932\ttraining's multi_logloss: 1.48152\tvalid_1's multi_error: 0.57719\tvalid_1's multi_logloss: 1.51654\n",
      "[153]\ttraining's multi_error: 0.564843\ttraining's multi_logloss: 1.4811\tvalid_1's multi_error: 0.576923\tvalid_1's multi_logloss: 1.51633\n",
      "[154]\ttraining's multi_error: 0.564642\ttraining's multi_logloss: 1.48061\tvalid_1's multi_error: 0.57699\tvalid_1's multi_logloss: 1.51603\n",
      "[155]\ttraining's multi_error: 0.564726\ttraining's multi_logloss: 1.48017\tvalid_1's multi_error: 0.576952\tvalid_1's multi_logloss: 1.51579\n",
      "[156]\ttraining's multi_error: 0.564595\ttraining's multi_logloss: 1.47978\tvalid_1's multi_error: 0.576971\tvalid_1's multi_logloss: 1.5156\n",
      "[157]\ttraining's multi_error: 0.564464\ttraining's multi_logloss: 1.47943\tvalid_1's multi_error: 0.576885\tvalid_1's multi_logloss: 1.51546\n",
      "[158]\ttraining's multi_error: 0.564468\ttraining's multi_logloss: 1.47903\tvalid_1's multi_error: 0.576885\tvalid_1's multi_logloss: 1.51525\n",
      "[159]\ttraining's multi_error: 0.564243\ttraining's multi_logloss: 1.4786\tvalid_1's multi_error: 0.5768\tvalid_1's multi_logloss: 1.51503\n",
      "[160]\ttraining's multi_error: 0.564304\ttraining's multi_logloss: 1.47822\tvalid_1's multi_error: 0.576866\tvalid_1's multi_logloss: 1.51485\n",
      "[161]\ttraining's multi_error: 0.564225\ttraining's multi_logloss: 1.47783\tvalid_1's multi_error: 0.576743\tvalid_1's multi_logloss: 1.51467\n",
      "[162]\ttraining's multi_error: 0.564248\ttraining's multi_logloss: 1.47742\tvalid_1's multi_error: 0.576752\tvalid_1's multi_logloss: 1.51447\n",
      "[163]\ttraining's multi_error: 0.56422\ttraining's multi_logloss: 1.47704\tvalid_1's multi_error: 0.57659\tvalid_1's multi_logloss: 1.51429\n",
      "[164]\ttraining's multi_error: 0.564131\ttraining's multi_logloss: 1.47661\tvalid_1's multi_error: 0.576505\tvalid_1's multi_logloss: 1.51404\n",
      "[165]\ttraining's multi_error: 0.563911\ttraining's multi_logloss: 1.47624\tvalid_1's multi_error: 0.576543\tvalid_1's multi_logloss: 1.51387\n",
      "[166]\ttraining's multi_error: 0.563676\ttraining's multi_logloss: 1.47591\tvalid_1's multi_error: 0.576438\tvalid_1's multi_logloss: 1.51376\n",
      "[167]\ttraining's multi_error: 0.56362\ttraining's multi_logloss: 1.47556\tvalid_1's multi_error: 0.5764\tvalid_1's multi_logloss: 1.51361\n",
      "[168]\ttraining's multi_error: 0.563554\ttraining's multi_logloss: 1.47521\tvalid_1's multi_error: 0.576457\tvalid_1's multi_logloss: 1.51346\n",
      "[169]\ttraining's multi_error: 0.563531\ttraining's multi_logloss: 1.47487\tvalid_1's multi_error: 0.576438\tvalid_1's multi_logloss: 1.5133\n",
      "[170]\ttraining's multi_error: 0.56339\ttraining's multi_logloss: 1.47449\tvalid_1's multi_error: 0.576429\tvalid_1's multi_logloss: 1.51315\n",
      "[171]\ttraining's multi_error: 0.563376\ttraining's multi_logloss: 1.47411\tvalid_1's multi_error: 0.576343\tvalid_1's multi_logloss: 1.51296\n",
      "[172]\ttraining's multi_error: 0.563315\ttraining's multi_logloss: 1.47375\tvalid_1's multi_error: 0.576248\tvalid_1's multi_logloss: 1.51283\n",
      "[173]\ttraining's multi_error: 0.56324\ttraining's multi_logloss: 1.47337\tvalid_1's multi_error: 0.576305\tvalid_1's multi_logloss: 1.51268\n",
      "[174]\ttraining's multi_error: 0.563217\ttraining's multi_logloss: 1.473\tvalid_1's multi_error: 0.576343\tvalid_1's multi_logloss: 1.51251\n",
      "[175]\ttraining's multi_error: 0.563132\ttraining's multi_logloss: 1.47267\tvalid_1's multi_error: 0.576238\tvalid_1's multi_logloss: 1.51239\n",
      "[176]\ttraining's multi_error: 0.563076\ttraining's multi_logloss: 1.47236\tvalid_1's multi_error: 0.576286\tvalid_1's multi_logloss: 1.51229\n",
      "[177]\ttraining's multi_error: 0.562978\ttraining's multi_logloss: 1.47202\tvalid_1's multi_error: 0.576219\tvalid_1's multi_logloss: 1.51215\n",
      "[178]\ttraining's multi_error: 0.562936\ttraining's multi_logloss: 1.47166\tvalid_1's multi_error: 0.576181\tvalid_1's multi_logloss: 1.51201\n",
      "[179]\ttraining's multi_error: 0.562842\ttraining's multi_logloss: 1.4713\tvalid_1's multi_error: 0.576172\tvalid_1's multi_logloss: 1.51185\n",
      "[180]\ttraining's multi_error: 0.562786\ttraining's multi_logloss: 1.47098\tvalid_1's multi_error: 0.576038\tvalid_1's multi_logloss: 1.51174\n"
     ]
    },
    {
     "name": "stdout",
     "output_type": "stream",
     "text": [
      "[181]\ttraining's multi_error: 0.562729\ttraining's multi_logloss: 1.47065\tvalid_1's multi_error: 0.575943\tvalid_1's multi_logloss: 1.51162\n",
      "[182]\ttraining's multi_error: 0.562715\ttraining's multi_logloss: 1.47031\tvalid_1's multi_error: 0.575886\tvalid_1's multi_logloss: 1.51148\n",
      "[183]\ttraining's multi_error: 0.562598\ttraining's multi_logloss: 1.46998\tvalid_1's multi_error: 0.576\tvalid_1's multi_logloss: 1.51136\n",
      "[184]\ttraining's multi_error: 0.562495\ttraining's multi_logloss: 1.46962\tvalid_1's multi_error: 0.575991\tvalid_1's multi_logloss: 1.51124\n",
      "[185]\ttraining's multi_error: 0.562411\ttraining's multi_logloss: 1.46931\tvalid_1's multi_error: 0.576057\tvalid_1's multi_logloss: 1.51113\n",
      "[186]\ttraining's multi_error: 0.562237\ttraining's multi_logloss: 1.46895\tvalid_1's multi_error: 0.575943\tvalid_1's multi_logloss: 1.51098\n",
      "[187]\ttraining's multi_error: 0.562153\ttraining's multi_logloss: 1.46864\tvalid_1's multi_error: 0.575915\tvalid_1's multi_logloss: 1.51087\n",
      "[188]\ttraining's multi_error: 0.562017\ttraining's multi_logloss: 1.46829\tvalid_1's multi_error: 0.575839\tvalid_1's multi_logloss: 1.51072\n",
      "[189]\ttraining's multi_error: 0.561947\ttraining's multi_logloss: 1.46797\tvalid_1's multi_error: 0.57582\tvalid_1's multi_logloss: 1.51061\n",
      "[190]\ttraining's multi_error: 0.561806\ttraining's multi_logloss: 1.46766\tvalid_1's multi_error: 0.575867\tvalid_1's multi_logloss: 1.51051\n",
      "[191]\ttraining's multi_error: 0.56174\ttraining's multi_logloss: 1.46733\tvalid_1's multi_error: 0.575743\tvalid_1's multi_logloss: 1.5104\n",
      "[192]\ttraining's multi_error: 0.561562\ttraining's multi_logloss: 1.467\tvalid_1's multi_error: 0.575829\tvalid_1's multi_logloss: 1.51029\n",
      "[193]\ttraining's multi_error: 0.561492\ttraining's multi_logloss: 1.46669\tvalid_1's multi_error: 0.575896\tvalid_1's multi_logloss: 1.51019\n",
      "[194]\ttraining's multi_error: 0.561464\ttraining's multi_logloss: 1.46639\tvalid_1's multi_error: 0.575877\tvalid_1's multi_logloss: 1.51008\n",
      "[195]\ttraining's multi_error: 0.561351\ttraining's multi_logloss: 1.46608\tvalid_1's multi_error: 0.575896\tvalid_1's multi_logloss: 1.50996\n",
      "[196]\ttraining's multi_error: 0.561337\ttraining's multi_logloss: 1.46579\tvalid_1's multi_error: 0.575905\tvalid_1's multi_logloss: 1.50988\n",
      "[197]\ttraining's multi_error: 0.561201\ttraining's multi_logloss: 1.46549\tvalid_1's multi_error: 0.575991\tvalid_1's multi_logloss: 1.50979\n",
      "[198]\ttraining's multi_error: 0.561094\ttraining's multi_logloss: 1.46521\tvalid_1's multi_error: 0.576086\tvalid_1's multi_logloss: 1.50973\n",
      "[199]\ttraining's multi_error: 0.560962\ttraining's multi_logloss: 1.46489\tvalid_1's multi_error: 0.576057\tvalid_1's multi_logloss: 1.50958\n",
      "[200]\ttraining's multi_error: 0.561009\ttraining's multi_logloss: 1.4646\tvalid_1's multi_error: 0.576096\tvalid_1's multi_logloss: 1.50948\n",
      "[201]\ttraining's multi_error: 0.560775\ttraining's multi_logloss: 1.4643\tvalid_1's multi_error: 0.575934\tvalid_1's multi_logloss: 1.50935\n",
      "[202]\ttraining's multi_error: 0.560761\ttraining's multi_logloss: 1.46401\tvalid_1's multi_error: 0.575905\tvalid_1's multi_logloss: 1.50925\n",
      "[203]\ttraining's multi_error: 0.560709\ttraining's multi_logloss: 1.46371\tvalid_1's multi_error: 0.575953\tvalid_1's multi_logloss: 1.50914\n",
      "[204]\ttraining's multi_error: 0.56062\ttraining's multi_logloss: 1.46341\tvalid_1's multi_error: 0.576029\tvalid_1's multi_logloss: 1.50904\n",
      "[205]\ttraining's multi_error: 0.560517\ttraining's multi_logloss: 1.46309\tvalid_1's multi_error: 0.576096\tvalid_1's multi_logloss: 1.50893\n",
      "[206]\ttraining's multi_error: 0.5604\ttraining's multi_logloss: 1.46276\tvalid_1's multi_error: 0.576162\tvalid_1's multi_logloss: 1.5088\n",
      "[207]\ttraining's multi_error: 0.560278\ttraining's multi_logloss: 1.46247\tvalid_1's multi_error: 0.575981\tvalid_1's multi_logloss: 1.5087\n",
      "[208]\ttraining's multi_error: 0.560278\ttraining's multi_logloss: 1.46218\tvalid_1's multi_error: 0.57601\tvalid_1's multi_logloss: 1.50862\n",
      "[209]\ttraining's multi_error: 0.560133\ttraining's multi_logloss: 1.4619\tvalid_1's multi_error: 0.575924\tvalid_1's multi_logloss: 1.50856\n",
      "[210]\ttraining's multi_error: 0.560147\ttraining's multi_logloss: 1.46159\tvalid_1's multi_error: 0.575829\tvalid_1's multi_logloss: 1.50844\n",
      "[211]\ttraining's multi_error: 0.560147\ttraining's multi_logloss: 1.46132\tvalid_1's multi_error: 0.575924\tvalid_1's multi_logloss: 1.50835\n",
      "[212]\ttraining's multi_error: 0.560016\ttraining's multi_logloss: 1.46105\tvalid_1's multi_error: 0.575905\tvalid_1's multi_logloss: 1.50827\n",
      "[213]\ttraining's multi_error: 0.559955\ttraining's multi_logloss: 1.46075\tvalid_1's multi_error: 0.575915\tvalid_1's multi_logloss: 1.50817\n",
      "[214]\ttraining's multi_error: 0.559791\ttraining's multi_logloss: 1.46048\tvalid_1's multi_error: 0.575877\tvalid_1's multi_logloss: 1.50809\n",
      "[215]\ttraining's multi_error: 0.559617\ttraining's multi_logloss: 1.46018\tvalid_1's multi_error: 0.575848\tvalid_1's multi_logloss: 1.50797\n",
      "[216]\ttraining's multi_error: 0.5595\ttraining's multi_logloss: 1.45989\tvalid_1's multi_error: 0.575848\tvalid_1's multi_logloss: 1.50787\n",
      "[217]\ttraining's multi_error: 0.559448\ttraining's multi_logloss: 1.4596\tvalid_1's multi_error: 0.575839\tvalid_1's multi_logloss: 1.50777\n",
      "[218]\ttraining's multi_error: 0.559434\ttraining's multi_logloss: 1.45933\tvalid_1's multi_error: 0.575886\tvalid_1's multi_logloss: 1.50769\n",
      "[219]\ttraining's multi_error: 0.559303\ttraining's multi_logloss: 1.45907\tvalid_1's multi_error: 0.575943\tvalid_1's multi_logloss: 1.50764\n",
      "[220]\ttraining's multi_error: 0.559303\ttraining's multi_logloss: 1.45879\tvalid_1's multi_error: 0.575962\tvalid_1's multi_logloss: 1.50755\n",
      "[221]\ttraining's multi_error: 0.559092\ttraining's multi_logloss: 1.45852\tvalid_1's multi_error: 0.575943\tvalid_1's multi_logloss: 1.5075\n",
      "[222]\ttraining's multi_error: 0.558961\ttraining's multi_logloss: 1.45826\tvalid_1's multi_error: 0.575905\tvalid_1's multi_logloss: 1.50739\n",
      "[223]\ttraining's multi_error: 0.558919\ttraining's multi_logloss: 1.45797\tvalid_1's multi_error: 0.576019\tvalid_1's multi_logloss: 1.50732\n",
      "[224]\ttraining's multi_error: 0.558825\ttraining's multi_logloss: 1.45769\tvalid_1's multi_error: 0.575905\tvalid_1's multi_logloss: 1.50721\n",
      "[225]\ttraining's multi_error: 0.558914\ttraining's multi_logloss: 1.45744\tvalid_1's multi_error: 0.575886\tvalid_1's multi_logloss: 1.50714\n",
      "[226]\ttraining's multi_error: 0.558778\ttraining's multi_logloss: 1.45712\tvalid_1's multi_error: 0.575801\tvalid_1's multi_logloss: 1.50703\n",
      "[227]\ttraining's multi_error: 0.558684\ttraining's multi_logloss: 1.45685\tvalid_1's multi_error: 0.575981\tvalid_1's multi_logloss: 1.50696\n",
      "[228]\ttraining's multi_error: 0.5586\ttraining's multi_logloss: 1.45657\tvalid_1's multi_error: 0.575848\tvalid_1's multi_logloss: 1.50688\n",
      "[229]\ttraining's multi_error: 0.558563\ttraining's multi_logloss: 1.45627\tvalid_1's multi_error: 0.57582\tvalid_1's multi_logloss: 1.50678\n",
      "[230]\ttraining's multi_error: 0.558483\ttraining's multi_logloss: 1.45601\tvalid_1's multi_error: 0.575782\tvalid_1's multi_logloss: 1.50674\n",
      "[231]\ttraining's multi_error: 0.558375\ttraining's multi_logloss: 1.45574\tvalid_1's multi_error: 0.575848\tvalid_1's multi_logloss: 1.50666\n",
      "[232]\ttraining's multi_error: 0.558314\ttraining's multi_logloss: 1.45549\tvalid_1's multi_error: 0.575753\tvalid_1's multi_logloss: 1.50659\n",
      "[233]\ttraining's multi_error: 0.558436\ttraining's multi_logloss: 1.45524\tvalid_1's multi_error: 0.575724\tvalid_1's multi_logloss: 1.50652\n",
      "[234]\ttraining's multi_error: 0.558286\ttraining's multi_logloss: 1.45497\tvalid_1's multi_error: 0.575629\tvalid_1's multi_logloss: 1.50645\n",
      "[235]\ttraining's multi_error: 0.558099\ttraining's multi_logloss: 1.4547\tvalid_1's multi_error: 0.575648\tvalid_1's multi_logloss: 1.50637\n",
      "[236]\ttraining's multi_error: 0.558066\ttraining's multi_logloss: 1.45443\tvalid_1's multi_error: 0.575563\tvalid_1's multi_logloss: 1.5063\n",
      "[237]\ttraining's multi_error: 0.557958\ttraining's multi_logloss: 1.45416\tvalid_1's multi_error: 0.575544\tvalid_1's multi_logloss: 1.50624\n",
      "[238]\ttraining's multi_error: 0.557808\ttraining's multi_logloss: 1.45392\tvalid_1's multi_error: 0.575458\tvalid_1's multi_logloss: 1.50618\n",
      "[239]\ttraining's multi_error: 0.557695\ttraining's multi_logloss: 1.45367\tvalid_1's multi_error: 0.575353\tvalid_1's multi_logloss: 1.50611\n",
      "[240]\ttraining's multi_error: 0.557672\ttraining's multi_logloss: 1.4534\tvalid_1's multi_error: 0.575448\tvalid_1's multi_logloss: 1.50603\n"
     ]
    },
    {
     "name": "stdout",
     "output_type": "stream",
     "text": [
      "[241]\ttraining's multi_error: 0.557728\ttraining's multi_logloss: 1.45315\tvalid_1's multi_error: 0.575487\tvalid_1's multi_logloss: 1.50597\n",
      "[242]\ttraining's multi_error: 0.557635\ttraining's multi_logloss: 1.45289\tvalid_1's multi_error: 0.575496\tvalid_1's multi_logloss: 1.50591\n",
      "[243]\ttraining's multi_error: 0.557541\ttraining's multi_logloss: 1.45264\tvalid_1's multi_error: 0.57541\tvalid_1's multi_logloss: 1.50585\n",
      "[244]\ttraining's multi_error: 0.557522\ttraining's multi_logloss: 1.45237\tvalid_1's multi_error: 0.575277\tvalid_1's multi_logloss: 1.50577\n",
      "[245]\ttraining's multi_error: 0.557419\ttraining's multi_logloss: 1.45213\tvalid_1's multi_error: 0.575192\tvalid_1's multi_logloss: 1.50573\n",
      "[246]\ttraining's multi_error: 0.557424\ttraining's multi_logloss: 1.45188\tvalid_1's multi_error: 0.57523\tvalid_1's multi_logloss: 1.50568\n",
      "[247]\ttraining's multi_error: 0.557236\ttraining's multi_logloss: 1.45164\tvalid_1's multi_error: 0.575249\tvalid_1's multi_logloss: 1.50564\n",
      "[248]\ttraining's multi_error: 0.557255\ttraining's multi_logloss: 1.45137\tvalid_1's multi_error: 0.57523\tvalid_1's multi_logloss: 1.50555\n",
      "[249]\ttraining's multi_error: 0.557194\ttraining's multi_logloss: 1.45112\tvalid_1's multi_error: 0.575182\tvalid_1's multi_logloss: 1.50547\n",
      "[250]\ttraining's multi_error: 0.557152\ttraining's multi_logloss: 1.45087\tvalid_1's multi_error: 0.575239\tvalid_1's multi_logloss: 1.50541\n",
      "[251]\ttraining's multi_error: 0.556936\ttraining's multi_logloss: 1.4506\tvalid_1's multi_error: 0.575306\tvalid_1's multi_logloss: 1.50533\n",
      "[252]\ttraining's multi_error: 0.55688\ttraining's multi_logloss: 1.45037\tvalid_1's multi_error: 0.575325\tvalid_1's multi_logloss: 1.50528\n",
      "[253]\ttraining's multi_error: 0.556758\ttraining's multi_logloss: 1.45011\tvalid_1's multi_error: 0.575344\tvalid_1's multi_logloss: 1.5052\n",
      "[254]\ttraining's multi_error: 0.556692\ttraining's multi_logloss: 1.44986\tvalid_1's multi_error: 0.57541\tvalid_1's multi_logloss: 1.50513\n",
      "[255]\ttraining's multi_error: 0.556622\ttraining's multi_logloss: 1.44961\tvalid_1's multi_error: 0.575353\tvalid_1's multi_logloss: 1.50509\n",
      "[256]\ttraining's multi_error: 0.556505\ttraining's multi_logloss: 1.44936\tvalid_1's multi_error: 0.575487\tvalid_1's multi_logloss: 1.50504\n",
      "[257]\ttraining's multi_error: 0.556421\ttraining's multi_logloss: 1.44913\tvalid_1's multi_error: 0.575639\tvalid_1's multi_logloss: 1.50501\n",
      "[258]\ttraining's multi_error: 0.55628\ttraining's multi_logloss: 1.44887\tvalid_1's multi_error: 0.575591\tvalid_1's multi_logloss: 1.50494\n",
      "[259]\ttraining's multi_error: 0.556247\ttraining's multi_logloss: 1.4486\tvalid_1's multi_error: 0.575591\tvalid_1's multi_logloss: 1.50486\n",
      "[260]\ttraining's multi_error: 0.556205\ttraining's multi_logloss: 1.44837\tvalid_1's multi_error: 0.575658\tvalid_1's multi_logloss: 1.50482\n",
      "[261]\ttraining's multi_error: 0.556111\ttraining's multi_logloss: 1.44812\tvalid_1's multi_error: 0.57561\tvalid_1's multi_logloss: 1.50475\n",
      "[262]\ttraining's multi_error: 0.556069\ttraining's multi_logloss: 1.44787\tvalid_1's multi_error: 0.575639\tvalid_1's multi_logloss: 1.50469\n",
      "[263]\ttraining's multi_error: 0.555994\ttraining's multi_logloss: 1.44763\tvalid_1's multi_error: 0.575667\tvalid_1's multi_logloss: 1.50465\n",
      "[264]\ttraining's multi_error: 0.555952\ttraining's multi_logloss: 1.44738\tvalid_1's multi_error: 0.575591\tvalid_1's multi_logloss: 1.5046\n",
      "[265]\ttraining's multi_error: 0.555788\ttraining's multi_logloss: 1.44714\tvalid_1's multi_error: 0.575448\tvalid_1's multi_logloss: 1.50453\n",
      "[266]\ttraining's multi_error: 0.555718\ttraining's multi_logloss: 1.4469\tvalid_1's multi_error: 0.575429\tvalid_1's multi_logloss: 1.50448\n",
      "[267]\ttraining's multi_error: 0.555689\ttraining's multi_logloss: 1.44666\tvalid_1's multi_error: 0.575401\tvalid_1's multi_logloss: 1.50441\n",
      "[268]\ttraining's multi_error: 0.555661\ttraining's multi_logloss: 1.4464\tvalid_1's multi_error: 0.575363\tvalid_1's multi_logloss: 1.50435\n",
      "[269]\ttraining's multi_error: 0.555488\ttraining's multi_logloss: 1.44617\tvalid_1's multi_error: 0.57541\tvalid_1's multi_logloss: 1.5043\n",
      "[270]\ttraining's multi_error: 0.555296\ttraining's multi_logloss: 1.44594\tvalid_1's multi_error: 0.575344\tvalid_1's multi_logloss: 1.50426\n",
      "[271]\ttraining's multi_error: 0.5553\ttraining's multi_logloss: 1.44569\tvalid_1's multi_error: 0.575353\tvalid_1's multi_logloss: 1.5042\n",
      "[272]\ttraining's multi_error: 0.555258\ttraining's multi_logloss: 1.44543\tvalid_1's multi_error: 0.575382\tvalid_1's multi_logloss: 1.50412\n",
      "[273]\ttraining's multi_error: 0.555183\ttraining's multi_logloss: 1.4452\tvalid_1's multi_error: 0.575372\tvalid_1's multi_logloss: 1.50409\n",
      "[274]\ttraining's multi_error: 0.555211\ttraining's multi_logloss: 1.44495\tvalid_1's multi_error: 0.575325\tvalid_1's multi_logloss: 1.50404\n",
      "[275]\ttraining's multi_error: 0.555104\ttraining's multi_logloss: 1.44473\tvalid_1's multi_error: 0.575325\tvalid_1's multi_logloss: 1.50402\n",
      "[276]\ttraining's multi_error: 0.554972\ttraining's multi_logloss: 1.44452\tvalid_1's multi_error: 0.575363\tvalid_1's multi_logloss: 1.50398\n",
      "[277]\ttraining's multi_error: 0.55485\ttraining's multi_logloss: 1.44428\tvalid_1's multi_error: 0.57523\tvalid_1's multi_logloss: 1.50391\n",
      "[278]\ttraining's multi_error: 0.554766\ttraining's multi_logloss: 1.44407\tvalid_1's multi_error: 0.575306\tvalid_1's multi_logloss: 1.50389\n",
      "[279]\ttraining's multi_error: 0.554625\ttraining's multi_logloss: 1.44385\tvalid_1's multi_error: 0.575363\tvalid_1's multi_logloss: 1.50383\n",
      "[280]\ttraining's multi_error: 0.554583\ttraining's multi_logloss: 1.44363\tvalid_1's multi_error: 0.575296\tvalid_1's multi_logloss: 1.50379\n",
      "[281]\ttraining's multi_error: 0.554536\ttraining's multi_logloss: 1.44342\tvalid_1's multi_error: 0.575258\tvalid_1's multi_logloss: 1.50378\n",
      "[282]\ttraining's multi_error: 0.55448\ttraining's multi_logloss: 1.44318\tvalid_1's multi_error: 0.575287\tvalid_1's multi_logloss: 1.50377\n",
      "[283]\ttraining's multi_error: 0.554405\ttraining's multi_logloss: 1.44294\tvalid_1's multi_error: 0.575363\tvalid_1's multi_logloss: 1.50372\n",
      "[284]\ttraining's multi_error: 0.554283\ttraining's multi_logloss: 1.4427\tvalid_1's multi_error: 0.575268\tvalid_1's multi_logloss: 1.50367\n",
      "[285]\ttraining's multi_error: 0.554124\ttraining's multi_logloss: 1.44244\tvalid_1's multi_error: 0.575277\tvalid_1's multi_logloss: 1.50358\n",
      "[286]\ttraining's multi_error: 0.554082\ttraining's multi_logloss: 1.44221\tvalid_1's multi_error: 0.575344\tvalid_1's multi_logloss: 1.50354\n",
      "[287]\ttraining's multi_error: 0.554016\ttraining's multi_logloss: 1.442\tvalid_1's multi_error: 0.575353\tvalid_1's multi_logloss: 1.50351\n",
      "[288]\ttraining's multi_error: 0.554007\ttraining's multi_logloss: 1.44176\tvalid_1's multi_error: 0.57523\tvalid_1's multi_logloss: 1.50346\n",
      "[289]\ttraining's multi_error: 0.553899\ttraining's multi_logloss: 1.44153\tvalid_1's multi_error: 0.575287\tvalid_1's multi_logloss: 1.50341\n",
      "[290]\ttraining's multi_error: 0.553871\ttraining's multi_logloss: 1.44132\tvalid_1's multi_error: 0.575306\tvalid_1's multi_logloss: 1.50339\n",
      "[291]\ttraining's multi_error: 0.553843\ttraining's multi_logloss: 1.44109\tvalid_1's multi_error: 0.575277\tvalid_1's multi_logloss: 1.50333\n",
      "[292]\ttraining's multi_error: 0.553726\ttraining's multi_logloss: 1.44087\tvalid_1's multi_error: 0.575277\tvalid_1's multi_logloss: 1.50328\n",
      "[293]\ttraining's multi_error: 0.553679\ttraining's multi_logloss: 1.44064\tvalid_1's multi_error: 0.575268\tvalid_1's multi_logloss: 1.50322\n",
      "[294]\ttraining's multi_error: 0.553477\ttraining's multi_logloss: 1.44042\tvalid_1's multi_error: 0.575192\tvalid_1's multi_logloss: 1.50316\n",
      "[295]\ttraining's multi_error: 0.553327\ttraining's multi_logloss: 1.4402\tvalid_1's multi_error: 0.575211\tvalid_1's multi_logloss: 1.50312\n",
      "[296]\ttraining's multi_error: 0.553243\ttraining's multi_logloss: 1.43999\tvalid_1's multi_error: 0.575268\tvalid_1's multi_logloss: 1.50309\n",
      "[297]\ttraining's multi_error: 0.553149\ttraining's multi_logloss: 1.43977\tvalid_1's multi_error: 0.57522\tvalid_1's multi_logloss: 1.50307\n",
      "[298]\ttraining's multi_error: 0.553107\ttraining's multi_logloss: 1.43953\tvalid_1's multi_error: 0.575287\tvalid_1's multi_logloss: 1.503\n",
      "[299]\ttraining's multi_error: 0.552924\ttraining's multi_logloss: 1.4393\tvalid_1's multi_error: 0.575077\tvalid_1's multi_logloss: 1.50295\n",
      "[300]\ttraining's multi_error: 0.552877\ttraining's multi_logloss: 1.4391\tvalid_1's multi_error: 0.575115\tvalid_1's multi_logloss: 1.50292\n"
     ]
    },
    {
     "name": "stdout",
     "output_type": "stream",
     "text": [
      "[301]\ttraining's multi_error: 0.552858\ttraining's multi_logloss: 1.43889\tvalid_1's multi_error: 0.575125\tvalid_1's multi_logloss: 1.50288\n",
      "[302]\ttraining's multi_error: 0.552858\ttraining's multi_logloss: 1.4387\tvalid_1's multi_error: 0.575163\tvalid_1's multi_logloss: 1.50286\n",
      "[303]\ttraining's multi_error: 0.552751\ttraining's multi_logloss: 1.43848\tvalid_1's multi_error: 0.575115\tvalid_1's multi_logloss: 1.50283\n",
      "[304]\ttraining's multi_error: 0.55269\ttraining's multi_logloss: 1.43828\tvalid_1's multi_error: 0.575001\tvalid_1's multi_logloss: 1.5028\n",
      "[305]\ttraining's multi_error: 0.552582\ttraining's multi_logloss: 1.43805\tvalid_1's multi_error: 0.574839\tvalid_1's multi_logloss: 1.50276\n",
      "[306]\ttraining's multi_error: 0.552474\ttraining's multi_logloss: 1.43783\tvalid_1's multi_error: 0.574649\tvalid_1's multi_logloss: 1.50272\n",
      "[307]\ttraining's multi_error: 0.552544\ttraining's multi_logloss: 1.4376\tvalid_1's multi_error: 0.574687\tvalid_1's multi_logloss: 1.50268\n",
      "[308]\ttraining's multi_error: 0.552437\ttraining's multi_logloss: 1.43737\tvalid_1's multi_error: 0.574611\tvalid_1's multi_logloss: 1.50265\n",
      "[309]\ttraining's multi_error: 0.552338\ttraining's multi_logloss: 1.43713\tvalid_1's multi_error: 0.574668\tvalid_1's multi_logloss: 1.50261\n",
      "[310]\ttraining's multi_error: 0.552226\ttraining's multi_logloss: 1.43689\tvalid_1's multi_error: 0.574735\tvalid_1's multi_logloss: 1.50253\n",
      "[311]\ttraining's multi_error: 0.55209\ttraining's multi_logloss: 1.43669\tvalid_1's multi_error: 0.574725\tvalid_1's multi_logloss: 1.50252\n",
      "[312]\ttraining's multi_error: 0.55201\ttraining's multi_logloss: 1.43648\tvalid_1's multi_error: 0.574763\tvalid_1's multi_logloss: 1.50249\n",
      "[313]\ttraining's multi_error: 0.551921\ttraining's multi_logloss: 1.43627\tvalid_1's multi_error: 0.574744\tvalid_1's multi_logloss: 1.50247\n",
      "[314]\ttraining's multi_error: 0.55194\ttraining's multi_logloss: 1.43603\tvalid_1's multi_error: 0.574687\tvalid_1's multi_logloss: 1.50242\n",
      "[315]\ttraining's multi_error: 0.551841\ttraining's multi_logloss: 1.43584\tvalid_1's multi_error: 0.57463\tvalid_1's multi_logloss: 1.5024\n",
      "[316]\ttraining's multi_error: 0.551724\ttraining's multi_logloss: 1.43563\tvalid_1's multi_error: 0.574592\tvalid_1's multi_logloss: 1.50237\n",
      "[317]\ttraining's multi_error: 0.55163\ttraining's multi_logloss: 1.43543\tvalid_1's multi_error: 0.574611\tvalid_1's multi_logloss: 1.50234\n",
      "[318]\ttraining's multi_error: 0.551551\ttraining's multi_logloss: 1.43523\tvalid_1's multi_error: 0.574506\tvalid_1's multi_logloss: 1.50232\n",
      "[319]\ttraining's multi_error: 0.551448\ttraining's multi_logloss: 1.435\tvalid_1's multi_error: 0.574535\tvalid_1's multi_logloss: 1.50228\n",
      "[320]\ttraining's multi_error: 0.551307\ttraining's multi_logloss: 1.43478\tvalid_1's multi_error: 0.574544\tvalid_1's multi_logloss: 1.50224\n",
      "[321]\ttraining's multi_error: 0.551298\ttraining's multi_logloss: 1.43453\tvalid_1's multi_error: 0.574602\tvalid_1's multi_logloss: 1.50216\n",
      "[322]\ttraining's multi_error: 0.551138\ttraining's multi_logloss: 1.43432\tvalid_1's multi_error: 0.574506\tvalid_1's multi_logloss: 1.50214\n",
      "[323]\ttraining's multi_error: 0.551073\ttraining's multi_logloss: 1.43412\tvalid_1's multi_error: 0.574535\tvalid_1's multi_logloss: 1.5021\n",
      "[324]\ttraining's multi_error: 0.551035\ttraining's multi_logloss: 1.43392\tvalid_1's multi_error: 0.574563\tvalid_1's multi_logloss: 1.50208\n",
      "[325]\ttraining's multi_error: 0.550979\ttraining's multi_logloss: 1.43371\tvalid_1's multi_error: 0.574582\tvalid_1's multi_logloss: 1.50204\n",
      "[326]\ttraining's multi_error: 0.550876\ttraining's multi_logloss: 1.43351\tvalid_1's multi_error: 0.574497\tvalid_1's multi_logloss: 1.50202\n",
      "[327]\ttraining's multi_error: 0.550787\ttraining's multi_logloss: 1.4333\tvalid_1's multi_error: 0.574411\tvalid_1's multi_logloss: 1.502\n",
      "[328]\ttraining's multi_error: 0.550707\ttraining's multi_logloss: 1.43308\tvalid_1's multi_error: 0.574487\tvalid_1's multi_logloss: 1.50192\n",
      "[329]\ttraining's multi_error: 0.550571\ttraining's multi_logloss: 1.43288\tvalid_1's multi_error: 0.574459\tvalid_1's multi_logloss: 1.5019\n",
      "[330]\ttraining's multi_error: 0.550557\ttraining's multi_logloss: 1.43265\tvalid_1's multi_error: 0.57443\tvalid_1's multi_logloss: 1.50187\n",
      "[331]\ttraining's multi_error: 0.55052\ttraining's multi_logloss: 1.43244\tvalid_1's multi_error: 0.574402\tvalid_1's multi_logloss: 1.50183\n",
      "[332]\ttraining's multi_error: 0.550482\ttraining's multi_logloss: 1.43223\tvalid_1's multi_error: 0.574383\tvalid_1's multi_logloss: 1.50182\n",
      "[333]\ttraining's multi_error: 0.550304\ttraining's multi_logloss: 1.43201\tvalid_1's multi_error: 0.574411\tvalid_1's multi_logloss: 1.50177\n",
      "[334]\ttraining's multi_error: 0.550177\ttraining's multi_logloss: 1.43179\tvalid_1's multi_error: 0.574516\tvalid_1's multi_logloss: 1.50174\n",
      "[335]\ttraining's multi_error: 0.550135\ttraining's multi_logloss: 1.43158\tvalid_1's multi_error: 0.57463\tvalid_1's multi_logloss: 1.50172\n",
      "[336]\ttraining's multi_error: 0.550056\ttraining's multi_logloss: 1.43137\tvalid_1's multi_error: 0.574554\tvalid_1's multi_logloss: 1.50169\n",
      "[337]\ttraining's multi_error: 0.550037\ttraining's multi_logloss: 1.43113\tvalid_1's multi_error: 0.574487\tvalid_1's multi_logloss: 1.50167\n",
      "[338]\ttraining's multi_error: 0.549929\ttraining's multi_logloss: 1.43092\tvalid_1's multi_error: 0.574497\tvalid_1's multi_logloss: 1.50164\n",
      "[339]\ttraining's multi_error: 0.549873\ttraining's multi_logloss: 1.43072\tvalid_1's multi_error: 0.574449\tvalid_1's multi_logloss: 1.50161\n",
      "[340]\ttraining's multi_error: 0.549788\ttraining's multi_logloss: 1.43052\tvalid_1's multi_error: 0.574497\tvalid_1's multi_logloss: 1.50158\n",
      "[341]\ttraining's multi_error: 0.549821\ttraining's multi_logloss: 1.43031\tvalid_1's multi_error: 0.574573\tvalid_1's multi_logloss: 1.50155\n",
      "[342]\ttraining's multi_error: 0.549727\ttraining's multi_logloss: 1.43011\tvalid_1's multi_error: 0.574506\tvalid_1's multi_logloss: 1.50153\n",
      "[343]\ttraining's multi_error: 0.549596\ttraining's multi_logloss: 1.42993\tvalid_1's multi_error: 0.574468\tvalid_1's multi_logloss: 1.50151\n",
      "[344]\ttraining's multi_error: 0.549545\ttraining's multi_logloss: 1.42972\tvalid_1's multi_error: 0.574411\tvalid_1's multi_logloss: 1.50148\n",
      "[345]\ttraining's multi_error: 0.549456\ttraining's multi_logloss: 1.42951\tvalid_1's multi_error: 0.574364\tvalid_1's multi_logloss: 1.50147\n",
      "[346]\ttraining's multi_error: 0.549437\ttraining's multi_logloss: 1.42928\tvalid_1's multi_error: 0.574402\tvalid_1's multi_logloss: 1.50143\n",
      "[347]\ttraining's multi_error: 0.549352\ttraining's multi_logloss: 1.42907\tvalid_1's multi_error: 0.574449\tvalid_1's multi_logloss: 1.50141\n",
      "[348]\ttraining's multi_error: 0.549254\ttraining's multi_logloss: 1.42888\tvalid_1's multi_error: 0.574364\tvalid_1's multi_logloss: 1.50139\n",
      "[349]\ttraining's multi_error: 0.549156\ttraining's multi_logloss: 1.42868\tvalid_1's multi_error: 0.574345\tvalid_1's multi_logloss: 1.50138\n",
      "[350]\ttraining's multi_error: 0.549038\ttraining's multi_logloss: 1.42848\tvalid_1's multi_error: 0.574421\tvalid_1's multi_logloss: 1.50137\n",
      "[351]\ttraining's multi_error: 0.548921\ttraining's multi_logloss: 1.42828\tvalid_1's multi_error: 0.574487\tvalid_1's multi_logloss: 1.50134\n",
      "[352]\ttraining's multi_error: 0.548898\ttraining's multi_logloss: 1.42807\tvalid_1's multi_error: 0.574563\tvalid_1's multi_logloss: 1.50131\n",
      "[353]\ttraining's multi_error: 0.548874\ttraining's multi_logloss: 1.42787\tvalid_1's multi_error: 0.574554\tvalid_1's multi_logloss: 1.50129\n",
      "[354]\ttraining's multi_error: 0.548771\ttraining's multi_logloss: 1.42768\tvalid_1's multi_error: 0.574563\tvalid_1's multi_logloss: 1.50128\n",
      "[355]\ttraining's multi_error: 0.54864\ttraining's multi_logloss: 1.42749\tvalid_1's multi_error: 0.574582\tvalid_1's multi_logloss: 1.50126\n",
      "[356]\ttraining's multi_error: 0.54857\ttraining's multi_logloss: 1.4273\tvalid_1's multi_error: 0.574506\tvalid_1's multi_logloss: 1.50124\n",
      "[357]\ttraining's multi_error: 0.548495\ttraining's multi_logloss: 1.42709\tvalid_1's multi_error: 0.574459\tvalid_1's multi_logloss: 1.50121\n",
      "[358]\ttraining's multi_error: 0.548443\ttraining's multi_logloss: 1.42688\tvalid_1's multi_error: 0.574487\tvalid_1's multi_logloss: 1.50119\n",
      "[359]\ttraining's multi_error: 0.548307\ttraining's multi_logloss: 1.42666\tvalid_1's multi_error: 0.574535\tvalid_1's multi_logloss: 1.50118\n",
      "[360]\ttraining's multi_error: 0.548153\ttraining's multi_logloss: 1.42647\tvalid_1's multi_error: 0.574487\tvalid_1's multi_logloss: 1.50115\n"
     ]
    },
    {
     "name": "stdout",
     "output_type": "stream",
     "text": [
      "[361]\ttraining's multi_error: 0.548045\ttraining's multi_logloss: 1.42626\tvalid_1's multi_error: 0.574468\tvalid_1's multi_logloss: 1.50111\n",
      "[362]\ttraining's multi_error: 0.547942\ttraining's multi_logloss: 1.42607\tvalid_1's multi_error: 0.57443\tvalid_1's multi_logloss: 1.50108\n",
      "[363]\ttraining's multi_error: 0.547824\ttraining's multi_logloss: 1.42587\tvalid_1's multi_error: 0.574364\tvalid_1's multi_logloss: 1.50105\n",
      "[364]\ttraining's multi_error: 0.547726\ttraining's multi_logloss: 1.42568\tvalid_1's multi_error: 0.574202\tvalid_1's multi_logloss: 1.50102\n",
      "[365]\ttraining's multi_error: 0.547656\ttraining's multi_logloss: 1.42547\tvalid_1's multi_error: 0.574268\tvalid_1's multi_logloss: 1.501\n",
      "[366]\ttraining's multi_error: 0.54766\ttraining's multi_logloss: 1.42527\tvalid_1's multi_error: 0.574316\tvalid_1's multi_logloss: 1.50096\n",
      "[367]\ttraining's multi_error: 0.547632\ttraining's multi_logloss: 1.42508\tvalid_1's multi_error: 0.574335\tvalid_1's multi_logloss: 1.50094\n",
      "[368]\ttraining's multi_error: 0.547595\ttraining's multi_logloss: 1.42487\tvalid_1's multi_error: 0.574364\tvalid_1's multi_logloss: 1.50093\n",
      "[369]\ttraining's multi_error: 0.547614\ttraining's multi_logloss: 1.42466\tvalid_1's multi_error: 0.574249\tvalid_1's multi_logloss: 1.50091\n",
      "[370]\ttraining's multi_error: 0.5476\ttraining's multi_logloss: 1.42444\tvalid_1's multi_error: 0.574307\tvalid_1's multi_logloss: 1.50087\n",
      "[371]\ttraining's multi_error: 0.547445\ttraining's multi_logloss: 1.42423\tvalid_1's multi_error: 0.574297\tvalid_1's multi_logloss: 1.50082\n",
      "[372]\ttraining's multi_error: 0.54736\ttraining's multi_logloss: 1.42402\tvalid_1's multi_error: 0.574268\tvalid_1's multi_logloss: 1.5008\n",
      "[373]\ttraining's multi_error: 0.547234\ttraining's multi_logloss: 1.42384\tvalid_1's multi_error: 0.57424\tvalid_1's multi_logloss: 1.5008\n",
      "[374]\ttraining's multi_error: 0.547187\ttraining's multi_logloss: 1.42365\tvalid_1's multi_error: 0.574173\tvalid_1's multi_logloss: 1.50078\n",
      "[375]\ttraining's multi_error: 0.547159\ttraining's multi_logloss: 1.42343\tvalid_1's multi_error: 0.57423\tvalid_1's multi_logloss: 1.50073\n",
      "[376]\ttraining's multi_error: 0.547154\ttraining's multi_logloss: 1.42324\tvalid_1's multi_error: 0.574259\tvalid_1's multi_logloss: 1.50071\n",
      "[377]\ttraining's multi_error: 0.547093\ttraining's multi_logloss: 1.42305\tvalid_1's multi_error: 0.57424\tvalid_1's multi_logloss: 1.50069\n",
      "[378]\ttraining's multi_error: 0.547056\ttraining's multi_logloss: 1.42288\tvalid_1's multi_error: 0.574249\tvalid_1's multi_logloss: 1.50069\n",
      "[379]\ttraining's multi_error: 0.546929\ttraining's multi_logloss: 1.42269\tvalid_1's multi_error: 0.57424\tvalid_1's multi_logloss: 1.50066\n",
      "[380]\ttraining's multi_error: 0.546807\ttraining's multi_logloss: 1.4225\tvalid_1's multi_error: 0.574307\tvalid_1's multi_logloss: 1.50063\n",
      "[381]\ttraining's multi_error: 0.546728\ttraining's multi_logloss: 1.42227\tvalid_1's multi_error: 0.574249\tvalid_1's multi_logloss: 1.50058\n",
      "[382]\ttraining's multi_error: 0.546718\ttraining's multi_logloss: 1.4221\tvalid_1's multi_error: 0.574335\tvalid_1's multi_logloss: 1.50056\n",
      "[383]\ttraining's multi_error: 0.546662\ttraining's multi_logloss: 1.42191\tvalid_1's multi_error: 0.574297\tvalid_1's multi_logloss: 1.50052\n",
      "[384]\ttraining's multi_error: 0.546526\ttraining's multi_logloss: 1.42172\tvalid_1's multi_error: 0.574335\tvalid_1's multi_logloss: 1.50049\n",
      "[385]\ttraining's multi_error: 0.546372\ttraining's multi_logloss: 1.42149\tvalid_1's multi_error: 0.574297\tvalid_1's multi_logloss: 1.50045\n",
      "[386]\ttraining's multi_error: 0.546268\ttraining's multi_logloss: 1.42128\tvalid_1's multi_error: 0.574268\tvalid_1's multi_logloss: 1.50043\n",
      "[387]\ttraining's multi_error: 0.546203\ttraining's multi_logloss: 1.42108\tvalid_1's multi_error: 0.57424\tvalid_1's multi_logloss: 1.50039\n",
      "[388]\ttraining's multi_error: 0.546137\ttraining's multi_logloss: 1.42089\tvalid_1's multi_error: 0.57423\tvalid_1's multi_logloss: 1.50038\n",
      "[389]\ttraining's multi_error: 0.546072\ttraining's multi_logloss: 1.42069\tvalid_1's multi_error: 0.574287\tvalid_1's multi_logloss: 1.50036\n",
      "[390]\ttraining's multi_error: 0.546025\ttraining's multi_logloss: 1.42051\tvalid_1's multi_error: 0.57423\tvalid_1's multi_logloss: 1.50032\n",
      "[391]\ttraining's multi_error: 0.545917\ttraining's multi_logloss: 1.42032\tvalid_1's multi_error: 0.57423\tvalid_1's multi_logloss: 1.5003\n",
      "[392]\ttraining's multi_error: 0.545851\ttraining's multi_logloss: 1.42012\tvalid_1's multi_error: 0.57423\tvalid_1's multi_logloss: 1.50027\n",
      "[393]\ttraining's multi_error: 0.545823\ttraining's multi_logloss: 1.41993\tvalid_1's multi_error: 0.57424\tvalid_1's multi_logloss: 1.50024\n",
      "[394]\ttraining's multi_error: 0.545818\ttraining's multi_logloss: 1.41974\tvalid_1's multi_error: 0.574259\tvalid_1's multi_logloss: 1.50021\n",
      "[395]\ttraining's multi_error: 0.545837\ttraining's multi_logloss: 1.41951\tvalid_1's multi_error: 0.574278\tvalid_1's multi_logloss: 1.50017\n",
      "[396]\ttraining's multi_error: 0.545772\ttraining's multi_logloss: 1.41933\tvalid_1's multi_error: 0.574268\tvalid_1's multi_logloss: 1.50015\n",
      "[397]\ttraining's multi_error: 0.545678\ttraining's multi_logloss: 1.41912\tvalid_1's multi_error: 0.574268\tvalid_1's multi_logloss: 1.50014\n",
      "[398]\ttraining's multi_error: 0.545617\ttraining's multi_logloss: 1.41893\tvalid_1's multi_error: 0.574307\tvalid_1's multi_logloss: 1.50013\n",
      "[399]\ttraining's multi_error: 0.545434\ttraining's multi_logloss: 1.41873\tvalid_1's multi_error: 0.57424\tvalid_1's multi_logloss: 1.50012\n",
      "[400]\ttraining's multi_error: 0.545317\ttraining's multi_logloss: 1.41852\tvalid_1's multi_error: 0.574173\tvalid_1's multi_logloss: 1.50009\n",
      "[401]\ttraining's multi_error: 0.545256\ttraining's multi_logloss: 1.41832\tvalid_1's multi_error: 0.574107\tvalid_1's multi_logloss: 1.50005\n",
      "[402]\ttraining's multi_error: 0.545218\ttraining's multi_logloss: 1.41812\tvalid_1's multi_error: 0.574059\tvalid_1's multi_logloss: 1.50002\n",
      "[403]\ttraining's multi_error: 0.545087\ttraining's multi_logloss: 1.41791\tvalid_1's multi_error: 0.57405\tvalid_1's multi_logloss: 1.49999\n",
      "[404]\ttraining's multi_error: 0.545064\ttraining's multi_logloss: 1.4177\tvalid_1's multi_error: 0.574002\tvalid_1's multi_logloss: 1.49997\n",
      "[405]\ttraining's multi_error: 0.544933\ttraining's multi_logloss: 1.41751\tvalid_1's multi_error: 0.574002\tvalid_1's multi_logloss: 1.49994\n",
      "[406]\ttraining's multi_error: 0.544886\ttraining's multi_logloss: 1.41729\tvalid_1's multi_error: 0.574088\tvalid_1's multi_logloss: 1.49992\n",
      "[407]\ttraining's multi_error: 0.544881\ttraining's multi_logloss: 1.4171\tvalid_1's multi_error: 0.574107\tvalid_1's multi_logloss: 1.49989\n",
      "[408]\ttraining's multi_error: 0.544834\ttraining's multi_logloss: 1.41693\tvalid_1's multi_error: 0.574202\tvalid_1's multi_logloss: 1.49988\n",
      "[409]\ttraining's multi_error: 0.544769\ttraining's multi_logloss: 1.41674\tvalid_1's multi_error: 0.574173\tvalid_1's multi_logloss: 1.49984\n",
      "[410]\ttraining's multi_error: 0.54467\ttraining's multi_logloss: 1.41653\tvalid_1's multi_error: 0.574107\tvalid_1's multi_logloss: 1.49982\n",
      "[411]\ttraining's multi_error: 0.544572\ttraining's multi_logloss: 1.41632\tvalid_1's multi_error: 0.574059\tvalid_1's multi_logloss: 1.49978\n",
      "[412]\ttraining's multi_error: 0.544492\ttraining's multi_logloss: 1.41612\tvalid_1's multi_error: 0.573973\tvalid_1's multi_logloss: 1.49976\n",
      "[413]\ttraining's multi_error: 0.544459\ttraining's multi_logloss: 1.4159\tvalid_1's multi_error: 0.573916\tvalid_1's multi_logloss: 1.49971\n",
      "[414]\ttraining's multi_error: 0.54444\ttraining's multi_logloss: 1.41571\tvalid_1's multi_error: 0.573954\tvalid_1's multi_logloss: 1.49969\n",
      "[415]\ttraining's multi_error: 0.544408\ttraining's multi_logloss: 1.41552\tvalid_1's multi_error: 0.573973\tvalid_1's multi_logloss: 1.49968\n",
      "[416]\ttraining's multi_error: 0.544351\ttraining's multi_logloss: 1.41535\tvalid_1's multi_error: 0.573973\tvalid_1's multi_logloss: 1.49968\n",
      "[417]\ttraining's multi_error: 0.544333\ttraining's multi_logloss: 1.41517\tvalid_1's multi_error: 0.573907\tvalid_1's multi_logloss: 1.49968\n",
      "[418]\ttraining's multi_error: 0.544262\ttraining's multi_logloss: 1.41495\tvalid_1's multi_error: 0.573859\tvalid_1's multi_logloss: 1.49965\n",
      "[419]\ttraining's multi_error: 0.544169\ttraining's multi_logloss: 1.41475\tvalid_1's multi_error: 0.573783\tvalid_1's multi_logloss: 1.49962\n",
      "[420]\ttraining's multi_error: 0.544094\ttraining's multi_logloss: 1.41457\tvalid_1's multi_error: 0.573793\tvalid_1's multi_logloss: 1.49959\n"
     ]
    },
    {
     "name": "stdout",
     "output_type": "stream",
     "text": [
      "[421]\ttraining's multi_error: 0.544005\ttraining's multi_logloss: 1.4144\tvalid_1's multi_error: 0.573764\tvalid_1's multi_logloss: 1.49957\n",
      "[422]\ttraining's multi_error: 0.543873\ttraining's multi_logloss: 1.41419\tvalid_1's multi_error: 0.573812\tvalid_1's multi_logloss: 1.49955\n",
      "[423]\ttraining's multi_error: 0.54378\ttraining's multi_logloss: 1.41401\tvalid_1's multi_error: 0.573774\tvalid_1's multi_logloss: 1.49955\n",
      "[424]\ttraining's multi_error: 0.543676\ttraining's multi_logloss: 1.41385\tvalid_1's multi_error: 0.573831\tvalid_1's multi_logloss: 1.49953\n",
      "[425]\ttraining's multi_error: 0.543559\ttraining's multi_logloss: 1.41367\tvalid_1's multi_error: 0.573812\tvalid_1's multi_logloss: 1.49952\n",
      "[426]\ttraining's multi_error: 0.543456\ttraining's multi_logloss: 1.41348\tvalid_1's multi_error: 0.573774\tvalid_1's multi_logloss: 1.4995\n",
      "[427]\ttraining's multi_error: 0.543334\ttraining's multi_logloss: 1.41327\tvalid_1's multi_error: 0.573764\tvalid_1's multi_logloss: 1.49948\n",
      "[428]\ttraining's multi_error: 0.543278\ttraining's multi_logloss: 1.41307\tvalid_1's multi_error: 0.573831\tvalid_1's multi_logloss: 1.49944\n",
      "[429]\ttraining's multi_error: 0.543269\ttraining's multi_logloss: 1.41288\tvalid_1's multi_error: 0.573678\tvalid_1's multi_logloss: 1.49942\n",
      "[430]\ttraining's multi_error: 0.543128\ttraining's multi_logloss: 1.41267\tvalid_1's multi_error: 0.573707\tvalid_1's multi_logloss: 1.4994\n",
      "[431]\ttraining's multi_error: 0.543081\ttraining's multi_logloss: 1.41246\tvalid_1's multi_error: 0.573697\tvalid_1's multi_logloss: 1.49938\n",
      "[432]\ttraining's multi_error: 0.542964\ttraining's multi_logloss: 1.41228\tvalid_1's multi_error: 0.573707\tvalid_1's multi_logloss: 1.49937\n",
      "[433]\ttraining's multi_error: 0.54288\ttraining's multi_logloss: 1.41209\tvalid_1's multi_error: 0.573793\tvalid_1's multi_logloss: 1.49937\n",
      "[434]\ttraining's multi_error: 0.542753\ttraining's multi_logloss: 1.41189\tvalid_1's multi_error: 0.57385\tvalid_1's multi_logloss: 1.49934\n",
      "[435]\ttraining's multi_error: 0.542641\ttraining's multi_logloss: 1.41169\tvalid_1's multi_error: 0.573812\tvalid_1's multi_logloss: 1.49932\n",
      "[436]\ttraining's multi_error: 0.542594\ttraining's multi_logloss: 1.4115\tvalid_1's multi_error: 0.573783\tvalid_1's multi_logloss: 1.49929\n",
      "[437]\ttraining's multi_error: 0.542519\ttraining's multi_logloss: 1.41132\tvalid_1's multi_error: 0.573612\tvalid_1's multi_logloss: 1.49926\n",
      "[438]\ttraining's multi_error: 0.542406\ttraining's multi_logloss: 1.41112\tvalid_1's multi_error: 0.573545\tvalid_1's multi_logloss: 1.49923\n",
      "[439]\ttraining's multi_error: 0.542355\ttraining's multi_logloss: 1.41095\tvalid_1's multi_error: 0.573583\tvalid_1's multi_logloss: 1.49922\n",
      "[440]\ttraining's multi_error: 0.542289\ttraining's multi_logloss: 1.41074\tvalid_1's multi_error: 0.573526\tvalid_1's multi_logloss: 1.4992\n",
      "[441]\ttraining's multi_error: 0.542317\ttraining's multi_logloss: 1.41054\tvalid_1's multi_error: 0.573517\tvalid_1's multi_logloss: 1.49917\n",
      "[442]\ttraining's multi_error: 0.542205\ttraining's multi_logloss: 1.41037\tvalid_1's multi_error: 0.573621\tvalid_1's multi_logloss: 1.49915\n",
      "[443]\ttraining's multi_error: 0.542177\ttraining's multi_logloss: 1.41016\tvalid_1's multi_error: 0.573659\tvalid_1's multi_logloss: 1.49912\n",
      "[444]\ttraining's multi_error: 0.542134\ttraining's multi_logloss: 1.40995\tvalid_1's multi_error: 0.57364\tvalid_1's multi_logloss: 1.49908\n",
      "[445]\ttraining's multi_error: 0.54198\ttraining's multi_logloss: 1.40975\tvalid_1's multi_error: 0.573774\tvalid_1's multi_logloss: 1.49905\n",
      "[446]\ttraining's multi_error: 0.541989\ttraining's multi_logloss: 1.40956\tvalid_1's multi_error: 0.573593\tvalid_1's multi_logloss: 1.49904\n",
      "[447]\ttraining's multi_error: 0.541919\ttraining's multi_logloss: 1.40939\tvalid_1's multi_error: 0.573631\tvalid_1's multi_logloss: 1.49903\n",
      "[448]\ttraining's multi_error: 0.541858\ttraining's multi_logloss: 1.4092\tvalid_1's multi_error: 0.573669\tvalid_1's multi_logloss: 1.49901\n",
      "[449]\ttraining's multi_error: 0.541736\ttraining's multi_logloss: 1.40901\tvalid_1's multi_error: 0.573736\tvalid_1's multi_logloss: 1.49899\n",
      "[450]\ttraining's multi_error: 0.541708\ttraining's multi_logloss: 1.40883\tvalid_1's multi_error: 0.573812\tvalid_1's multi_logloss: 1.49897\n",
      "[451]\ttraining's multi_error: 0.541638\ttraining's multi_logloss: 1.40866\tvalid_1's multi_error: 0.573878\tvalid_1's multi_logloss: 1.49896\n",
      "[452]\ttraining's multi_error: 0.541628\ttraining's multi_logloss: 1.40845\tvalid_1's multi_error: 0.573821\tvalid_1's multi_logloss: 1.49891\n",
      "[453]\ttraining's multi_error: 0.54152\ttraining's multi_logloss: 1.40825\tvalid_1's multi_error: 0.573821\tvalid_1's multi_logloss: 1.49889\n",
      "[454]\ttraining's multi_error: 0.541427\ttraining's multi_logloss: 1.40807\tvalid_1's multi_error: 0.573878\tvalid_1's multi_logloss: 1.49887\n",
      "[455]\ttraining's multi_error: 0.54138\ttraining's multi_logloss: 1.40789\tvalid_1's multi_error: 0.573907\tvalid_1's multi_logloss: 1.49886\n",
      "[456]\ttraining's multi_error: 0.54137\ttraining's multi_logloss: 1.4077\tvalid_1's multi_error: 0.573764\tvalid_1's multi_logloss: 1.49885\n",
      "[457]\ttraining's multi_error: 0.541295\ttraining's multi_logloss: 1.40753\tvalid_1's multi_error: 0.573888\tvalid_1's multi_logloss: 1.49882\n",
      "[458]\ttraining's multi_error: 0.541192\ttraining's multi_logloss: 1.40733\tvalid_1's multi_error: 0.573793\tvalid_1's multi_logloss: 1.49881\n",
      "[459]\ttraining's multi_error: 0.541164\ttraining's multi_logloss: 1.40717\tvalid_1's multi_error: 0.573802\tvalid_1's multi_logloss: 1.49879\n",
      "[460]\ttraining's multi_error: 0.541052\ttraining's multi_logloss: 1.40699\tvalid_1's multi_error: 0.57384\tvalid_1's multi_logloss: 1.49878\n",
      "[461]\ttraining's multi_error: 0.541038\ttraining's multi_logloss: 1.40679\tvalid_1's multi_error: 0.573793\tvalid_1's multi_logloss: 1.49876\n",
      "[462]\ttraining's multi_error: 0.540953\ttraining's multi_logloss: 1.4066\tvalid_1's multi_error: 0.573764\tvalid_1's multi_logloss: 1.49873\n",
      "[463]\ttraining's multi_error: 0.540892\ttraining's multi_logloss: 1.40639\tvalid_1's multi_error: 0.573764\tvalid_1's multi_logloss: 1.49872\n",
      "[464]\ttraining's multi_error: 0.540724\ttraining's multi_logloss: 1.4062\tvalid_1's multi_error: 0.573783\tvalid_1's multi_logloss: 1.49869\n",
      "[465]\ttraining's multi_error: 0.540649\ttraining's multi_logloss: 1.40601\tvalid_1's multi_error: 0.573764\tvalid_1's multi_logloss: 1.49867\n",
      "[466]\ttraining's multi_error: 0.540625\ttraining's multi_logloss: 1.40581\tvalid_1's multi_error: 0.57384\tvalid_1's multi_logloss: 1.49864\n",
      "[467]\ttraining's multi_error: 0.540555\ttraining's multi_logloss: 1.40562\tvalid_1's multi_error: 0.573897\tvalid_1's multi_logloss: 1.49861\n",
      "[468]\ttraining's multi_error: 0.540442\ttraining's multi_logloss: 1.40543\tvalid_1's multi_error: 0.573774\tvalid_1's multi_logloss: 1.4986\n",
      "[469]\ttraining's multi_error: 0.540325\ttraining's multi_logloss: 1.40523\tvalid_1's multi_error: 0.573831\tvalid_1's multi_logloss: 1.49859\n",
      "[470]\ttraining's multi_error: 0.540297\ttraining's multi_logloss: 1.40507\tvalid_1's multi_error: 0.573812\tvalid_1's multi_logloss: 1.49856\n",
      "[471]\ttraining's multi_error: 0.540217\ttraining's multi_logloss: 1.40487\tvalid_1's multi_error: 0.573878\tvalid_1's multi_logloss: 1.49855\n",
      "[472]\ttraining's multi_error: 0.540199\ttraining's multi_logloss: 1.40468\tvalid_1's multi_error: 0.57384\tvalid_1's multi_logloss: 1.49854\n",
      "[473]\ttraining's multi_error: 0.540133\ttraining's multi_logloss: 1.4045\tvalid_1's multi_error: 0.573821\tvalid_1's multi_logloss: 1.49854\n",
      "[474]\ttraining's multi_error: 0.540114\ttraining's multi_logloss: 1.40429\tvalid_1's multi_error: 0.57385\tvalid_1's multi_logloss: 1.49851\n",
      "[475]\ttraining's multi_error: 0.53996\ttraining's multi_logloss: 1.4041\tvalid_1's multi_error: 0.573916\tvalid_1's multi_logloss: 1.4985\n",
      "[476]\ttraining's multi_error: 0.539974\ttraining's multi_logloss: 1.4039\tvalid_1's multi_error: 0.573831\tvalid_1's multi_logloss: 1.49849\n",
      "[477]\ttraining's multi_error: 0.539922\ttraining's multi_logloss: 1.40374\tvalid_1's multi_error: 0.573745\tvalid_1's multi_logloss: 1.49847\n",
      "[478]\ttraining's multi_error: 0.539852\ttraining's multi_logloss: 1.40356\tvalid_1's multi_error: 0.573717\tvalid_1's multi_logloss: 1.49845\n",
      "[479]\ttraining's multi_error: 0.539735\ttraining's multi_logloss: 1.4034\tvalid_1's multi_error: 0.573717\tvalid_1's multi_logloss: 1.49844\n",
      "[480]\ttraining's multi_error: 0.539655\ttraining's multi_logloss: 1.40323\tvalid_1's multi_error: 0.573736\tvalid_1's multi_logloss: 1.49844\n"
     ]
    },
    {
     "name": "stdout",
     "output_type": "stream",
     "text": [
      "[481]\ttraining's multi_error: 0.539585\ttraining's multi_logloss: 1.40304\tvalid_1's multi_error: 0.573678\tvalid_1's multi_logloss: 1.49842\n",
      "[482]\ttraining's multi_error: 0.539552\ttraining's multi_logloss: 1.40284\tvalid_1's multi_error: 0.573688\tvalid_1's multi_logloss: 1.49838\n",
      "[483]\ttraining's multi_error: 0.539486\ttraining's multi_logloss: 1.40266\tvalid_1's multi_error: 0.573745\tvalid_1's multi_logloss: 1.49838\n",
      "[484]\ttraining's multi_error: 0.539346\ttraining's multi_logloss: 1.40246\tvalid_1's multi_error: 0.573745\tvalid_1's multi_logloss: 1.49835\n",
      "[485]\ttraining's multi_error: 0.53921\ttraining's multi_logloss: 1.40229\tvalid_1's multi_error: 0.573717\tvalid_1's multi_logloss: 1.49835\n",
      "[486]\ttraining's multi_error: 0.539144\ttraining's multi_logloss: 1.40213\tvalid_1's multi_error: 0.573783\tvalid_1's multi_logloss: 1.49834\n",
      "[487]\ttraining's multi_error: 0.539097\ttraining's multi_logloss: 1.40195\tvalid_1's multi_error: 0.573812\tvalid_1's multi_logloss: 1.49833\n",
      "[488]\ttraining's multi_error: 0.538989\ttraining's multi_logloss: 1.40177\tvalid_1's multi_error: 0.573783\tvalid_1's multi_logloss: 1.49831\n",
      "[489]\ttraining's multi_error: 0.538886\ttraining's multi_logloss: 1.40158\tvalid_1's multi_error: 0.573831\tvalid_1's multi_logloss: 1.49829\n",
      "[490]\ttraining's multi_error: 0.538839\ttraining's multi_logloss: 1.4014\tvalid_1's multi_error: 0.573821\tvalid_1's multi_logloss: 1.49828\n",
      "[491]\ttraining's multi_error: 0.538872\ttraining's multi_logloss: 1.40121\tvalid_1's multi_error: 0.573774\tvalid_1's multi_logloss: 1.49828\n",
      "[492]\ttraining's multi_error: 0.538774\ttraining's multi_logloss: 1.40103\tvalid_1's multi_error: 0.573774\tvalid_1's multi_logloss: 1.49826\n",
      "[493]\ttraining's multi_error: 0.538685\ttraining's multi_logloss: 1.40086\tvalid_1's multi_error: 0.573774\tvalid_1's multi_logloss: 1.49823\n",
      "[494]\ttraining's multi_error: 0.538591\ttraining's multi_logloss: 1.40069\tvalid_1's multi_error: 0.573774\tvalid_1's multi_logloss: 1.49823\n",
      "[495]\ttraining's multi_error: 0.538478\ttraining's multi_logloss: 1.4005\tvalid_1's multi_error: 0.573755\tvalid_1's multi_logloss: 1.4982\n",
      "[496]\ttraining's multi_error: 0.538399\ttraining's multi_logloss: 1.40031\tvalid_1's multi_error: 0.573859\tvalid_1's multi_logloss: 1.49818\n",
      "[497]\ttraining's multi_error: 0.538441\ttraining's multi_logloss: 1.40014\tvalid_1's multi_error: 0.573831\tvalid_1's multi_logloss: 1.49816\n",
      "[498]\ttraining's multi_error: 0.538347\ttraining's multi_logloss: 1.39997\tvalid_1's multi_error: 0.573916\tvalid_1's multi_logloss: 1.49815\n",
      "[499]\ttraining's multi_error: 0.538263\ttraining's multi_logloss: 1.39978\tvalid_1's multi_error: 0.573878\tvalid_1's multi_logloss: 1.49814\n",
      "[500]\ttraining's multi_error: 0.538202\ttraining's multi_logloss: 1.3996\tvalid_1's multi_error: 0.573916\tvalid_1's multi_logloss: 1.49813\n",
      "Did not meet early stopping. Best iteration is:\n",
      "[500]\ttraining's multi_error: 0.538202\ttraining's multi_logloss: 1.3996\tvalid_1's multi_error: 0.573916\tvalid_1's multi_logloss: 1.49813\n"
     ]
    },
    {
     "data": {
      "text/plain": [
       "LGBMClassifier(boosting_type='gbdt', class_weight=None, colsample_bytree=0.7,\n",
       "               importance_type='split', learning_rate=0.06, max_depth=50,\n",
       "               min_child_samples=20, min_child_weight=0.001,\n",
       "               min_data_in_leaf=55, min_split_gain=0.0, n_estimators=500,\n",
       "               n_jobs=-1, num_leaves=31, objective='multiclass',\n",
       "               random_state=42, reg_alpha=1.6, reg_lambda=1.1, silent=True,\n",
       "               subsample=0.7, subsample_for_bin=200000, subsample_freq=0)"
      ]
     },
     "execution_count": 463,
     "metadata": {},
     "output_type": "execute_result"
    }
   ],
   "source": [
    "clf.fit(X_train,y_train,early_stopping_rounds=100,eval_set=[(X_train,y_train),(X_test,y_test)],eval_metric='multi_error',verbose=True)"
   ]
  },
  {
   "cell_type": "code",
   "execution_count": 465,
   "metadata": {},
   "outputs": [],
   "source": [
    "from sklearn.metrics import accuracy_score"
   ]
  },
  {
   "cell_type": "code",
   "execution_count": 483,
   "metadata": {},
   "outputs": [],
   "source": [
    "eval_score = accuracy_score(y_test, clf.predict(X_test))"
   ]
  },
  {
   "cell_type": "code",
   "execution_count": 484,
   "metadata": {},
   "outputs": [
    {
     "data": {
      "text/plain": [
       "0.4260836465718228"
      ]
     },
     "execution_count": 484,
     "metadata": {},
     "output_type": "execute_result"
    }
   ],
   "source": [
    "eval_score"
   ]
  },
  {
   "cell_type": "code",
   "execution_count": 487,
   "metadata": {},
   "outputs": [
    {
     "name": "stdout",
     "output_type": "stream",
     "text": [
      "{'learning_rate': 0.06, 'max_depth': 50, 'n_estimators': 500, 'objective': 'multiclass', 'boosting_type': 'gbdt', 'subsample': 0.7, 'random_state': 42, 'colsample_bytree': 0.7, 'min_data_in_leaf': 55, 'reg_alpha': 1.6, 'reg_lambda': 1.1}\n"
     ]
    }
   ],
   "source": [
    "best_iter=clf.best_iteration_\n",
    "params['n_estimators']=best_iter\n",
    "print(params)"
   ]
  },
  {
   "cell_type": "code",
   "execution_count": 492,
   "metadata": {},
   "outputs": [],
   "source": [
    "X_fi=train.drop('Stay',axis=1)\n",
    "y_fi=train['Stay']"
   ]
  },
  {
   "cell_type": "code",
   "execution_count": 493,
   "metadata": {},
   "outputs": [
    {
     "name": "stdout",
     "output_type": "stream",
     "text": [
      "ACC: 0.4461684849170011\n"
     ]
    }
   ],
   "source": [
    "clf = lgb.LGBMClassifier(**params)\n",
    "clf.fit(X_fi, y_fi, eval_metric='multi_error', verbose=True)\n",
    "eval_score_acc = accuracy_score(y_fi, clf.predict(X_fi))\n",
    "print('ACC: {}'.format(eval_score_acc))"
   ]
  },
  {
   "cell_type": "code",
   "execution_count": 501,
   "metadata": {},
   "outputs": [],
   "source": [
    "predictions=clf.predict(test.drop(['patientid','case_id'],axis=1))"
   ]
  },
  {
   "cell_type": "code",
   "execution_count": 508,
   "metadata": {},
   "outputs": [],
   "source": [
    "output=pd.DataFrame(data=test['case_id'],columns=['case_id'])"
   ]
  },
  {
   "cell_type": "code",
   "execution_count": 510,
   "metadata": {},
   "outputs": [],
   "source": [
    "stay=pd.Series(predictions)"
   ]
  },
  {
   "cell_type": "code",
   "execution_count": 513,
   "metadata": {},
   "outputs": [],
   "source": [
    "output=pd.concat([output,stay],axis=1)"
   ]
  },
  {
   "cell_type": "code",
   "execution_count": 528,
   "metadata": {},
   "outputs": [],
   "source": [
    "output.columns=['case_id','Stay']"
   ]
  },
  {
   "cell_type": "code",
   "execution_count": 532,
   "metadata": {},
   "outputs": [],
   "source": [
    "output['Stay']=le.inverse_transform(output['Stay'])"
   ]
  },
  {
   "cell_type": "code",
   "execution_count": 533,
   "metadata": {},
   "outputs": [
    {
     "data": {
      "text/html": [
       "<div>\n",
       "<style scoped>\n",
       "    .dataframe tbody tr th:only-of-type {\n",
       "        vertical-align: middle;\n",
       "    }\n",
       "\n",
       "    .dataframe tbody tr th {\n",
       "        vertical-align: top;\n",
       "    }\n",
       "\n",
       "    .dataframe thead th {\n",
       "        text-align: right;\n",
       "    }\n",
       "</style>\n",
       "<table border=\"1\" class=\"dataframe\">\n",
       "  <thead>\n",
       "    <tr style=\"text-align: right;\">\n",
       "      <th></th>\n",
       "      <th>case_id</th>\n",
       "      <th>Stay</th>\n",
       "    </tr>\n",
       "  </thead>\n",
       "  <tbody>\n",
       "    <tr>\n",
       "      <td>0</td>\n",
       "      <td>318439</td>\n",
       "      <td>0-10</td>\n",
       "    </tr>\n",
       "    <tr>\n",
       "      <td>1</td>\n",
       "      <td>318440</td>\n",
       "      <td>51-60</td>\n",
       "    </tr>\n",
       "    <tr>\n",
       "      <td>2</td>\n",
       "      <td>318441</td>\n",
       "      <td>21-30</td>\n",
       "    </tr>\n",
       "    <tr>\n",
       "      <td>3</td>\n",
       "      <td>318442</td>\n",
       "      <td>21-30</td>\n",
       "    </tr>\n",
       "    <tr>\n",
       "      <td>4</td>\n",
       "      <td>318443</td>\n",
       "      <td>51-60</td>\n",
       "    </tr>\n",
       "    <tr>\n",
       "      <td>...</td>\n",
       "      <td>...</td>\n",
       "      <td>...</td>\n",
       "    </tr>\n",
       "    <tr>\n",
       "      <td>137052</td>\n",
       "      <td>455491</td>\n",
       "      <td>21-30</td>\n",
       "    </tr>\n",
       "    <tr>\n",
       "      <td>137053</td>\n",
       "      <td>455492</td>\n",
       "      <td>0-10</td>\n",
       "    </tr>\n",
       "    <tr>\n",
       "      <td>137054</td>\n",
       "      <td>455493</td>\n",
       "      <td>21-30</td>\n",
       "    </tr>\n",
       "    <tr>\n",
       "      <td>137055</td>\n",
       "      <td>455494</td>\n",
       "      <td>11-20</td>\n",
       "    </tr>\n",
       "    <tr>\n",
       "      <td>137056</td>\n",
       "      <td>455495</td>\n",
       "      <td>51-60</td>\n",
       "    </tr>\n",
       "  </tbody>\n",
       "</table>\n",
       "<p>137057 rows × 2 columns</p>\n",
       "</div>"
      ],
      "text/plain": [
       "        case_id   Stay\n",
       "0        318439   0-10\n",
       "1        318440  51-60\n",
       "2        318441  21-30\n",
       "3        318442  21-30\n",
       "4        318443  51-60\n",
       "...         ...    ...\n",
       "137052   455491  21-30\n",
       "137053   455492   0-10\n",
       "137054   455493  21-30\n",
       "137055   455494  11-20\n",
       "137056   455495  51-60\n",
       "\n",
       "[137057 rows x 2 columns]"
      ]
     },
     "execution_count": 533,
     "metadata": {},
     "output_type": "execute_result"
    }
   ],
   "source": [
    "output"
   ]
  },
  {
   "cell_type": "code",
   "execution_count": 534,
   "metadata": {},
   "outputs": [],
   "source": [
    "output.to_csv('submission_LOS.csv',index=False)"
   ]
  },
  {
   "cell_type": "markdown",
   "metadata": {},
   "source": [
    "# Using XGBoost"
   ]
  },
  {
   "cell_type": "code",
   "execution_count": 537,
   "metadata": {},
   "outputs": [],
   "source": [
    "import xgboost as xgb"
   ]
  },
  {
   "cell_type": "code",
   "execution_count": 556,
   "metadata": {},
   "outputs": [],
   "source": [
    "xg=xgb.XGBClassifier(objective='multi:softmax',num_class=11,n_estimators=800,learning_rate=0.05)"
   ]
  },
  {
   "cell_type": "code",
   "execution_count": 557,
   "metadata": {},
   "outputs": [
    {
     "name": "stdout",
     "output_type": "stream",
     "text": [
      "[0]\tvalidation_0-merror:0.60008\tvalidation_1-merror:0.60249\n",
      "Multiple eval metrics have been passed: 'validation_1-merror' will be used for early stopping.\n",
      "\n",
      "Will train until validation_1-merror hasn't improved in 5 rounds.\n",
      "[1]\tvalidation_0-merror:0.59889\tvalidation_1-merror:0.60214\n",
      "[2]\tvalidation_0-merror:0.59736\tvalidation_1-merror:0.60021\n",
      "[3]\tvalidation_0-merror:0.59670\tvalidation_1-merror:0.59849\n",
      "[4]\tvalidation_0-merror:0.59646\tvalidation_1-merror:0.59883\n",
      "[5]\tvalidation_0-merror:0.59483\tvalidation_1-merror:0.59760\n",
      "[6]\tvalidation_0-merror:0.59451\tvalidation_1-merror:0.59700\n",
      "[7]\tvalidation_0-merror:0.59397\tvalidation_1-merror:0.59678\n",
      "[8]\tvalidation_0-merror:0.59245\tvalidation_1-merror:0.59589\n",
      "[9]\tvalidation_0-merror:0.59248\tvalidation_1-merror:0.59632\n",
      "[10]\tvalidation_0-merror:0.59186\tvalidation_1-merror:0.59578\n",
      "[11]\tvalidation_0-merror:0.59109\tvalidation_1-merror:0.59475\n",
      "[12]\tvalidation_0-merror:0.59102\tvalidation_1-merror:0.59508\n",
      "[13]\tvalidation_0-merror:0.59029\tvalidation_1-merror:0.59435\n",
      "[14]\tvalidation_0-merror:0.58985\tvalidation_1-merror:0.59401\n",
      "[15]\tvalidation_0-merror:0.58971\tvalidation_1-merror:0.59382\n",
      "[16]\tvalidation_0-merror:0.58936\tvalidation_1-merror:0.59365\n",
      "[17]\tvalidation_0-merror:0.58898\tvalidation_1-merror:0.59291\n",
      "[18]\tvalidation_0-merror:0.58853\tvalidation_1-merror:0.59264\n",
      "[19]\tvalidation_0-merror:0.58792\tvalidation_1-merror:0.59239\n",
      "[20]\tvalidation_0-merror:0.58745\tvalidation_1-merror:0.59188\n",
      "[21]\tvalidation_0-merror:0.58739\tvalidation_1-merror:0.59208\n",
      "[22]\tvalidation_0-merror:0.58698\tvalidation_1-merror:0.59162\n",
      "[23]\tvalidation_0-merror:0.58669\tvalidation_1-merror:0.59123\n",
      "[24]\tvalidation_0-merror:0.58636\tvalidation_1-merror:0.59097\n",
      "[25]\tvalidation_0-merror:0.58616\tvalidation_1-merror:0.59057\n",
      "[26]\tvalidation_0-merror:0.58586\tvalidation_1-merror:0.59031\n",
      "[27]\tvalidation_0-merror:0.58551\tvalidation_1-merror:0.59024\n",
      "[28]\tvalidation_0-merror:0.58520\tvalidation_1-merror:0.58964\n",
      "[29]\tvalidation_0-merror:0.58516\tvalidation_1-merror:0.58991\n",
      "[30]\tvalidation_0-merror:0.58474\tvalidation_1-merror:0.58930\n",
      "[31]\tvalidation_0-merror:0.58435\tvalidation_1-merror:0.58881\n",
      "[32]\tvalidation_0-merror:0.58383\tvalidation_1-merror:0.58872\n",
      "[33]\tvalidation_0-merror:0.58316\tvalidation_1-merror:0.58841\n",
      "[34]\tvalidation_0-merror:0.58290\tvalidation_1-merror:0.58830\n",
      "[35]\tvalidation_0-merror:0.58274\tvalidation_1-merror:0.58810\n",
      "[36]\tvalidation_0-merror:0.58227\tvalidation_1-merror:0.58799\n",
      "[37]\tvalidation_0-merror:0.58199\tvalidation_1-merror:0.58775\n",
      "[38]\tvalidation_0-merror:0.58166\tvalidation_1-merror:0.58752\n",
      "[39]\tvalidation_0-merror:0.58128\tvalidation_1-merror:0.58734\n",
      "[40]\tvalidation_0-merror:0.58135\tvalidation_1-merror:0.58728\n",
      "[41]\tvalidation_0-merror:0.58095\tvalidation_1-merror:0.58713\n",
      "[42]\tvalidation_0-merror:0.58098\tvalidation_1-merror:0.58720\n",
      "[43]\tvalidation_0-merror:0.58081\tvalidation_1-merror:0.58684\n",
      "[44]\tvalidation_0-merror:0.58046\tvalidation_1-merror:0.58658\n",
      "[45]\tvalidation_0-merror:0.58031\tvalidation_1-merror:0.58644\n",
      "[46]\tvalidation_0-merror:0.58021\tvalidation_1-merror:0.58612\n",
      "[47]\tvalidation_0-merror:0.57983\tvalidation_1-merror:0.58608\n",
      "[48]\tvalidation_0-merror:0.57942\tvalidation_1-merror:0.58624\n",
      "[49]\tvalidation_0-merror:0.57913\tvalidation_1-merror:0.58586\n",
      "[50]\tvalidation_0-merror:0.57904\tvalidation_1-merror:0.58585\n",
      "[51]\tvalidation_0-merror:0.57881\tvalidation_1-merror:0.58557\n",
      "[52]\tvalidation_0-merror:0.57866\tvalidation_1-merror:0.58565\n",
      "[53]\tvalidation_0-merror:0.57848\tvalidation_1-merror:0.58545\n",
      "[54]\tvalidation_0-merror:0.57838\tvalidation_1-merror:0.58545\n",
      "[55]\tvalidation_0-merror:0.57824\tvalidation_1-merror:0.58521\n",
      "[56]\tvalidation_0-merror:0.57830\tvalidation_1-merror:0.58498\n",
      "[57]\tvalidation_0-merror:0.57791\tvalidation_1-merror:0.58485\n",
      "[58]\tvalidation_0-merror:0.57780\tvalidation_1-merror:0.58493\n",
      "[59]\tvalidation_0-merror:0.57753\tvalidation_1-merror:0.58474\n",
      "[60]\tvalidation_0-merror:0.57727\tvalidation_1-merror:0.58488\n",
      "[61]\tvalidation_0-merror:0.57722\tvalidation_1-merror:0.58468\n",
      "[62]\tvalidation_0-merror:0.57695\tvalidation_1-merror:0.58465\n",
      "[63]\tvalidation_0-merror:0.57665\tvalidation_1-merror:0.58462\n",
      "[64]\tvalidation_0-merror:0.57645\tvalidation_1-merror:0.58461\n",
      "[65]\tvalidation_0-merror:0.57624\tvalidation_1-merror:0.58423\n",
      "[66]\tvalidation_0-merror:0.57608\tvalidation_1-merror:0.58431\n",
      "[67]\tvalidation_0-merror:0.57569\tvalidation_1-merror:0.58417\n",
      "[68]\tvalidation_0-merror:0.57557\tvalidation_1-merror:0.58422\n",
      "[69]\tvalidation_0-merror:0.57541\tvalidation_1-merror:0.58391\n",
      "[70]\tvalidation_0-merror:0.57524\tvalidation_1-merror:0.58406\n",
      "[71]\tvalidation_0-merror:0.57525\tvalidation_1-merror:0.58396\n",
      "[72]\tvalidation_0-merror:0.57497\tvalidation_1-merror:0.58384\n",
      "[73]\tvalidation_0-merror:0.57473\tvalidation_1-merror:0.58398\n",
      "[74]\tvalidation_0-merror:0.57449\tvalidation_1-merror:0.58372\n",
      "[75]\tvalidation_0-merror:0.57424\tvalidation_1-merror:0.58361\n",
      "[76]\tvalidation_0-merror:0.57411\tvalidation_1-merror:0.58368\n",
      "[77]\tvalidation_0-merror:0.57388\tvalidation_1-merror:0.58348\n",
      "[78]\tvalidation_0-merror:0.57378\tvalidation_1-merror:0.58349\n",
      "[79]\tvalidation_0-merror:0.57351\tvalidation_1-merror:0.58326\n",
      "[80]\tvalidation_0-merror:0.57337\tvalidation_1-merror:0.58321\n",
      "[81]\tvalidation_0-merror:0.57325\tvalidation_1-merror:0.58311\n",
      "[82]\tvalidation_0-merror:0.57317\tvalidation_1-merror:0.58292\n",
      "[83]\tvalidation_0-merror:0.57305\tvalidation_1-merror:0.58293\n",
      "[84]\tvalidation_0-merror:0.57285\tvalidation_1-merror:0.58275\n",
      "[85]\tvalidation_0-merror:0.57251\tvalidation_1-merror:0.58251\n",
      "[86]\tvalidation_0-merror:0.57241\tvalidation_1-merror:0.58267\n",
      "[87]\tvalidation_0-merror:0.57200\tvalidation_1-merror:0.58236\n",
      "[88]\tvalidation_0-merror:0.57188\tvalidation_1-merror:0.58230\n",
      "[89]\tvalidation_0-merror:0.57157\tvalidation_1-merror:0.58221\n",
      "[90]\tvalidation_0-merror:0.57144\tvalidation_1-merror:0.58205\n",
      "[91]\tvalidation_0-merror:0.57100\tvalidation_1-merror:0.58175\n",
      "[92]\tvalidation_0-merror:0.57083\tvalidation_1-merror:0.58174\n",
      "[93]\tvalidation_0-merror:0.57068\tvalidation_1-merror:0.58167\n",
      "[94]\tvalidation_0-merror:0.57048\tvalidation_1-merror:0.58159\n",
      "[95]\tvalidation_0-merror:0.57041\tvalidation_1-merror:0.58164\n",
      "[96]\tvalidation_0-merror:0.57013\tvalidation_1-merror:0.58133\n",
      "[97]\tvalidation_0-merror:0.56995\tvalidation_1-merror:0.58136\n",
      "[98]\tvalidation_0-merror:0.56979\tvalidation_1-merror:0.58144\n",
      "[99]\tvalidation_0-merror:0.56945\tvalidation_1-merror:0.58135\n",
      "[100]\tvalidation_0-merror:0.56937\tvalidation_1-merror:0.58143\n",
      "[101]\tvalidation_0-merror:0.56921\tvalidation_1-merror:0.58136\n",
      "Stopping. Best iteration:\n",
      "[96]\tvalidation_0-merror:0.57013\tvalidation_1-merror:0.58133\n",
      "\n"
     ]
    },
    {
     "data": {
      "text/plain": [
       "XGBClassifier(base_score=0.5, booster='gbtree', colsample_bylevel=1,\n",
       "              colsample_bynode=1, colsample_bytree=1, gamma=0, gpu_id=-1,\n",
       "              importance_type='gain', interaction_constraints='',\n",
       "              learning_rate=0.05, max_delta_step=0, max_depth=6,\n",
       "              min_child_weight=1, missing=nan, monotone_constraints='()',\n",
       "              n_estimators=800, n_jobs=0, num_class=11, num_parallel_tree=1,\n",
       "              objective='multi:softprob', random_state=0, reg_alpha=0,\n",
       "              reg_lambda=1, scale_pos_weight=None, subsample=1,\n",
       "              tree_method='exact', validate_parameters=1, verbosity=None)"
      ]
     },
     "execution_count": 557,
     "metadata": {},
     "output_type": "execute_result"
    }
   ],
   "source": [
    "xg.fit(X_train,y_train,early_stopping_rounds=5,eval_set=[(X_train,y_train),(X_test,y_test)],verbose=True)"
   ]
  },
  {
   "cell_type": "code",
   "execution_count": 558,
   "metadata": {},
   "outputs": [
    {
     "data": {
      "text/plain": [
       "0.4186705999904839"
      ]
     },
     "execution_count": 558,
     "metadata": {},
     "output_type": "execute_result"
    }
   ],
   "source": [
    "accuracy_score(y_test,xg.predict(X_test))"
   ]
  },
  {
   "cell_type": "code",
   "execution_count": 564,
   "metadata": {},
   "outputs": [
    {
     "data": {
      "text/plain": [
       "<matplotlib.axes._subplots.AxesSubplot at 0x252e21b4b48>"
      ]
     },
     "execution_count": 564,
     "metadata": {},
     "output_type": "execute_result"
    },
    {
     "data": {
      "text/plain": [
       "<Figure size 864x720 with 0 Axes>"
      ]
     },
     "metadata": {},
     "output_type": "display_data"
    },
    {
     "data": {
      "image/png": "[encoded data removed]",
      "text/plain": [
       "<Figure size 864x3600 with 1 Axes>"
      ]
     },
     "metadata": {
      "needs_background": "light"
     },
     "output_type": "display_data"
    }
   ],
   "source": [
    "plt.figure(figsize=(12,10))\n",
    "lgb.plot_importance(clf)"
   ]
  },
  {
   "cell_type": "code",
   "execution_count": 567,
   "metadata": {},
   "outputs": [
    {
     "data": {
      "text/plain": [
       "0         2\n",
       "1         2\n",
       "2         0\n",
       "3         1\n",
       "4         1\n",
       "         ..\n",
       "318433    0\n",
       "318434    0\n",
       "318435    0\n",
       "318436    1\n",
       "318437    1\n",
       "Name: Hospital_region_code, Length: 318438, dtype: int32"
      ]
     },
     "execution_count": 567,
     "metadata": {},
     "output_type": "execute_result"
    }
   ],
   "source": [
    "train['Hospital_region_code']"
   ]
  },
  {
   "cell_type": "code",
   "execution_count": 575,
   "metadata": {},
   "outputs": [
    {
     "data": {
      "text/plain": [
       "<matplotlib.axes._subplots.AxesSubplot at 0x252e2e0cc48>"
      ]
     },
     "execution_count": 575,
     "metadata": {},
     "output_type": "execute_result"
    },
    {
     "data": {
      "image/png": "[encoded data removed]",
      "text/plain": [
       "<Figure size 576x432 with 1 Axes>"
      ]
     },
     "metadata": {
      "needs_background": "light"
     },
     "output_type": "display_data"
    }
   ],
   "source": []
  },
  {
   "cell_type": "code",
   "execution_count": 578,
   "metadata": {},
   "outputs": [
    {
     "data": {
      "text/plain": [
       "<matplotlib.axes._subplots.AxesSubplot at 0x252e2e40448>"
      ]
     },
     "execution_count": 578,
     "metadata": {},
     "output_type": "execute_result"
    },
    {
     "data": {
      "image/png": "[encoded data removed]",
      "text/plain": [
       "<Figure size 576x432 with 1 Axes>"
      ]
     },
     "metadata": {
      "needs_background": "light"
     },
     "output_type": "display_data"
    }
   ],
   "source": [
    "plt.figure(figsize=(8,6))\n",
    "sns.countplot(train['Stay'],hue=train['Urgent'])"
   ]
  },
  {
   "cell_type": "code",
   "execution_count": 579,
   "metadata": {},
   "outputs": [
    {
     "data": {
      "text/plain": [
       "<matplotlib.axes._subplots.AxesSubplot at 0x252e2948108>"
      ]
     },
     "execution_count": 579,
     "metadata": {},
     "output_type": "execute_result"
    },
    {
     "data": {
      "image/png": "[encoded data removed]",
      "text/plain": [
       "<Figure size 576x432 with 1 Axes>"
      ]
     },
     "metadata": {
      "needs_background": "light"
     },
     "output_type": "display_data"
    }
   ],
   "source": [
    "plt.figure(figsize=(8,6))\n",
    "sns.countplot(train['Stay'],hue=train['Moderate'])"
   ]
  },
  {
   "cell_type": "code",
   "execution_count": null,
   "metadata": {},
   "outputs": [],
   "source": []
  }
 ],
 "metadata": {
  "kernelspec": {
   "display_name": "Python 3",
   "language": "python",
   "name": "python3"
  },
  "language_info": {
   "codemirror_mode": {
    "name": "ipython",
    "version": 3
   },
   "file_extension": ".py",
   "mimetype": "text/x-python",
   "name": "python",
   "nbconvert_exporter": "python",
   "pygments_lexer": "ipython3",
   "version": "3.7.4"
  }
 },
 "nbformat": 4,
 "nbformat_minor": 2
}
